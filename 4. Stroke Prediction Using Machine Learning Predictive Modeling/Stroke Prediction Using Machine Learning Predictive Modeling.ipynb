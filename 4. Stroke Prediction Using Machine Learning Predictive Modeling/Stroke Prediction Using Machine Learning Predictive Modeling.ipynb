{
 "cells": [
  {
   "cell_type": "markdown",
   "id": "1812cd30-0cec-4440-b0c8-9f38c9e807ae",
   "metadata": {},
   "source": [
    "## Stroke Prediction Using Machine Learning Predictive Modeling"
   ]
  },
  {
   "cell_type": "markdown",
   "id": "1a1d70bf-b84d-44c7-b00e-52af588c8c7b",
   "metadata": {},
   "source": [
    "### Project Introduction\n",
    "\n",
    "This project focuses on **predicting the occurrence of stroke** using clinical and demographic data. Stroke is a serious medical condition, and early identification of high-risk individuals can significantly improve outcomes. The dataset contains patient information such as age, BMI, gender, marital status, work type, residence type, and lifestyle factors like smoking.  \n",
    "\n",
    "The goal of this project is to preprocess the data, handle missing values and class imbalance, explore patterns through visualization, and build predictive models using machine learning algorithms. Model performance is evaluated and best appropiate model will be selected.\n",
    "\n",
    "The data is publicly available dataset from Kaggle: https://www.kaggle.com/datasets/fedesoriano/stroke-prediction-dataset"
   ]
  },
  {
   "cell_type": "markdown",
   "id": "204c6618-fb29-461f-b00d-4407bbe66f47",
   "metadata": {},
   "source": [
    " essential Python libraries are imported:\n",
    "- **pandas** for data manipulation and analysis  \n",
    "- **numpy** for numerical operations  \n",
    "- **matplotlib.pyplot** and **seaborn** for data visualization"
   ]
  },
  {
   "cell_type": "code",
   "execution_count": 1,
   "id": "3a0eb744-10e7-40f4-bd0e-0850cd8f4f51",
   "metadata": {},
   "outputs": [],
   "source": [
    "# Import libraries\n",
    "import pandas as pd\n",
    "import numpy as np\n",
    "import matplotlib.pyplot as plt\n",
    "import seaborn as sns"
   ]
  },
  {
   "cell_type": "markdown",
   "id": "58dc2cc4-7372-4831-8a0e-66f4bee14126",
   "metadata": {},
   "source": [
    "### Loading the Dataset\n",
    "The dataset **'stroke data.csv'** is loaded using `pandas.read_csv()` and stored in the variable **df**.  \n",
    "Displaying **df** shows the first few rows to get an overview of the data structure and columns."
   ]
  },
  {
   "cell_type": "code",
   "execution_count": 2,
   "id": "78ef7fac-55a7-42c9-b22a-c723dcd6dbe8",
   "metadata": {
    "scrolled": true
   },
   "outputs": [
    {
     "data": {
      "text/html": [
       "<div>\n",
       "<style scoped>\n",
       "    .dataframe tbody tr th:only-of-type {\n",
       "        vertical-align: middle;\n",
       "    }\n",
       "\n",
       "    .dataframe tbody tr th {\n",
       "        vertical-align: top;\n",
       "    }\n",
       "\n",
       "    .dataframe thead th {\n",
       "        text-align: right;\n",
       "    }\n",
       "</style>\n",
       "<table border=\"1\" class=\"dataframe\">\n",
       "  <thead>\n",
       "    <tr style=\"text-align: right;\">\n",
       "      <th></th>\n",
       "      <th>id</th>\n",
       "      <th>gender</th>\n",
       "      <th>age</th>\n",
       "      <th>hypertension</th>\n",
       "      <th>heart_disease</th>\n",
       "      <th>ever_married</th>\n",
       "      <th>work_type</th>\n",
       "      <th>Residence_type</th>\n",
       "      <th>avg_glucose_level</th>\n",
       "      <th>bmi</th>\n",
       "      <th>smoking_status</th>\n",
       "      <th>stroke</th>\n",
       "    </tr>\n",
       "  </thead>\n",
       "  <tbody>\n",
       "    <tr>\n",
       "      <th>0</th>\n",
       "      <td>9046</td>\n",
       "      <td>Male</td>\n",
       "      <td>67.0</td>\n",
       "      <td>0</td>\n",
       "      <td>1</td>\n",
       "      <td>Yes</td>\n",
       "      <td>Private</td>\n",
       "      <td>Urban</td>\n",
       "      <td>228.69</td>\n",
       "      <td>36.6</td>\n",
       "      <td>formerly smoked</td>\n",
       "      <td>1</td>\n",
       "    </tr>\n",
       "    <tr>\n",
       "      <th>1</th>\n",
       "      <td>51676</td>\n",
       "      <td>Female</td>\n",
       "      <td>61.0</td>\n",
       "      <td>0</td>\n",
       "      <td>0</td>\n",
       "      <td>Yes</td>\n",
       "      <td>Self-employed</td>\n",
       "      <td>Rural</td>\n",
       "      <td>202.21</td>\n",
       "      <td>NaN</td>\n",
       "      <td>never smoked</td>\n",
       "      <td>1</td>\n",
       "    </tr>\n",
       "    <tr>\n",
       "      <th>2</th>\n",
       "      <td>31112</td>\n",
       "      <td>Male</td>\n",
       "      <td>80.0</td>\n",
       "      <td>0</td>\n",
       "      <td>1</td>\n",
       "      <td>Yes</td>\n",
       "      <td>Private</td>\n",
       "      <td>Rural</td>\n",
       "      <td>105.92</td>\n",
       "      <td>32.5</td>\n",
       "      <td>never smoked</td>\n",
       "      <td>1</td>\n",
       "    </tr>\n",
       "    <tr>\n",
       "      <th>3</th>\n",
       "      <td>60182</td>\n",
       "      <td>Female</td>\n",
       "      <td>49.0</td>\n",
       "      <td>0</td>\n",
       "      <td>0</td>\n",
       "      <td>Yes</td>\n",
       "      <td>Private</td>\n",
       "      <td>Urban</td>\n",
       "      <td>171.23</td>\n",
       "      <td>34.4</td>\n",
       "      <td>smokes</td>\n",
       "      <td>1</td>\n",
       "    </tr>\n",
       "    <tr>\n",
       "      <th>4</th>\n",
       "      <td>1665</td>\n",
       "      <td>Female</td>\n",
       "      <td>79.0</td>\n",
       "      <td>1</td>\n",
       "      <td>0</td>\n",
       "      <td>Yes</td>\n",
       "      <td>Self-employed</td>\n",
       "      <td>Rural</td>\n",
       "      <td>174.12</td>\n",
       "      <td>24.0</td>\n",
       "      <td>never smoked</td>\n",
       "      <td>1</td>\n",
       "    </tr>\n",
       "    <tr>\n",
       "      <th>...</th>\n",
       "      <td>...</td>\n",
       "      <td>...</td>\n",
       "      <td>...</td>\n",
       "      <td>...</td>\n",
       "      <td>...</td>\n",
       "      <td>...</td>\n",
       "      <td>...</td>\n",
       "      <td>...</td>\n",
       "      <td>...</td>\n",
       "      <td>...</td>\n",
       "      <td>...</td>\n",
       "      <td>...</td>\n",
       "    </tr>\n",
       "    <tr>\n",
       "      <th>5105</th>\n",
       "      <td>18234</td>\n",
       "      <td>Female</td>\n",
       "      <td>80.0</td>\n",
       "      <td>1</td>\n",
       "      <td>0</td>\n",
       "      <td>Yes</td>\n",
       "      <td>Private</td>\n",
       "      <td>Urban</td>\n",
       "      <td>83.75</td>\n",
       "      <td>NaN</td>\n",
       "      <td>never smoked</td>\n",
       "      <td>0</td>\n",
       "    </tr>\n",
       "    <tr>\n",
       "      <th>5106</th>\n",
       "      <td>44873</td>\n",
       "      <td>Female</td>\n",
       "      <td>81.0</td>\n",
       "      <td>0</td>\n",
       "      <td>0</td>\n",
       "      <td>Yes</td>\n",
       "      <td>Self-employed</td>\n",
       "      <td>Urban</td>\n",
       "      <td>125.20</td>\n",
       "      <td>40.0</td>\n",
       "      <td>never smoked</td>\n",
       "      <td>0</td>\n",
       "    </tr>\n",
       "    <tr>\n",
       "      <th>5107</th>\n",
       "      <td>19723</td>\n",
       "      <td>Female</td>\n",
       "      <td>35.0</td>\n",
       "      <td>0</td>\n",
       "      <td>0</td>\n",
       "      <td>Yes</td>\n",
       "      <td>Self-employed</td>\n",
       "      <td>Rural</td>\n",
       "      <td>82.99</td>\n",
       "      <td>30.6</td>\n",
       "      <td>never smoked</td>\n",
       "      <td>0</td>\n",
       "    </tr>\n",
       "    <tr>\n",
       "      <th>5108</th>\n",
       "      <td>37544</td>\n",
       "      <td>Male</td>\n",
       "      <td>51.0</td>\n",
       "      <td>0</td>\n",
       "      <td>0</td>\n",
       "      <td>Yes</td>\n",
       "      <td>Private</td>\n",
       "      <td>Rural</td>\n",
       "      <td>166.29</td>\n",
       "      <td>25.6</td>\n",
       "      <td>formerly smoked</td>\n",
       "      <td>0</td>\n",
       "    </tr>\n",
       "    <tr>\n",
       "      <th>5109</th>\n",
       "      <td>44679</td>\n",
       "      <td>Female</td>\n",
       "      <td>44.0</td>\n",
       "      <td>0</td>\n",
       "      <td>0</td>\n",
       "      <td>Yes</td>\n",
       "      <td>Govt_job</td>\n",
       "      <td>Urban</td>\n",
       "      <td>85.28</td>\n",
       "      <td>26.2</td>\n",
       "      <td>Unknown</td>\n",
       "      <td>0</td>\n",
       "    </tr>\n",
       "  </tbody>\n",
       "</table>\n",
       "<p>5110 rows × 12 columns</p>\n",
       "</div>"
      ],
      "text/plain": [
       "         id  gender   age  hypertension  heart_disease ever_married  \\\n",
       "0      9046    Male  67.0             0              1          Yes   \n",
       "1     51676  Female  61.0             0              0          Yes   \n",
       "2     31112    Male  80.0             0              1          Yes   \n",
       "3     60182  Female  49.0             0              0          Yes   \n",
       "4      1665  Female  79.0             1              0          Yes   \n",
       "...     ...     ...   ...           ...            ...          ...   \n",
       "5105  18234  Female  80.0             1              0          Yes   \n",
       "5106  44873  Female  81.0             0              0          Yes   \n",
       "5107  19723  Female  35.0             0              0          Yes   \n",
       "5108  37544    Male  51.0             0              0          Yes   \n",
       "5109  44679  Female  44.0             0              0          Yes   \n",
       "\n",
       "          work_type Residence_type  avg_glucose_level   bmi   smoking_status  \\\n",
       "0           Private          Urban             228.69  36.6  formerly smoked   \n",
       "1     Self-employed          Rural             202.21   NaN     never smoked   \n",
       "2           Private          Rural             105.92  32.5     never smoked   \n",
       "3           Private          Urban             171.23  34.4           smokes   \n",
       "4     Self-employed          Rural             174.12  24.0     never smoked   \n",
       "...             ...            ...                ...   ...              ...   \n",
       "5105        Private          Urban              83.75   NaN     never smoked   \n",
       "5106  Self-employed          Urban             125.20  40.0     never smoked   \n",
       "5107  Self-employed          Rural              82.99  30.6     never smoked   \n",
       "5108        Private          Rural             166.29  25.6  formerly smoked   \n",
       "5109       Govt_job          Urban              85.28  26.2          Unknown   \n",
       "\n",
       "      stroke  \n",
       "0          1  \n",
       "1          1  \n",
       "2          1  \n",
       "3          1  \n",
       "4          1  \n",
       "...      ...  \n",
       "5105       0  \n",
       "5106       0  \n",
       "5107       0  \n",
       "5108       0  \n",
       "5109       0  \n",
       "\n",
       "[5110 rows x 12 columns]"
      ]
     },
     "execution_count": 2,
     "metadata": {},
     "output_type": "execute_result"
    }
   ],
   "source": [
    "df = pd.read_csv('stroke data.csv')\n",
    "df"
   ]
  },
  {
   "cell_type": "markdown",
   "id": "ae6e510f-a44a-4749-ae40-789ff8a6e66e",
   "metadata": {},
   "source": [
    "### Checking for Missing Values\n",
    "Check for null (missing) values in each column using `df.isnull().sum()`.  \n",
    "It prints the total count of missing entries per column to identify incomplete data that may need cleaning."
   ]
  },
  {
   "cell_type": "code",
   "execution_count": 3,
   "id": "7185cf55-6c16-44e4-a265-601c25cd953c",
   "metadata": {
    "scrolled": true
   },
   "outputs": [
    {
     "name": "stdout",
     "output_type": "stream",
     "text": [
      "\n",
      "Missing values:\n",
      " id                     0\n",
      "gender                 0\n",
      "age                    0\n",
      "hypertension           0\n",
      "heart_disease          0\n",
      "ever_married           0\n",
      "work_type              0\n",
      "Residence_type         0\n",
      "avg_glucose_level      0\n",
      "bmi                  201\n",
      "smoking_status         0\n",
      "stroke                 0\n",
      "dtype: int64\n"
     ]
    }
   ],
   "source": [
    "# Check for null values\n",
    "print(\"\\nMissing values:\\n\", df.isnull().sum())"
   ]
  },
  {
   "cell_type": "markdown",
   "id": "70f37cda-e793-478d-8220-1dacce2f7167",
   "metadata": {},
   "source": [
    "It shows bmi column has 201 null values."
   ]
  },
  {
   "cell_type": "markdown",
   "id": "a01981cb-59e5-4080-aad8-e089ee4e6984",
   "metadata": {},
   "source": [
    "Missing values in the **'bmi'** column are replaced with the column’s median value using `fillna()`.  \n",
    "This approach preserves data distribution and reduces the effect of outliers compared to using the mean.\n"
   ]
  },
  {
   "cell_type": "code",
   "execution_count": 4,
   "id": "65436a76-e14a-4dd6-a21b-956e2d4a78be",
   "metadata": {
    "scrolled": true
   },
   "outputs": [
    {
     "name": "stderr",
     "output_type": "stream",
     "text": [
      "C:\\Users\\Lenovo\\AppData\\Local\\Temp\\ipykernel_9092\\2458674274.py:2: FutureWarning: A value is trying to be set on a copy of a DataFrame or Series through chained assignment using an inplace method.\n",
      "The behavior will change in pandas 3.0. This inplace method will never work because the intermediate object on which we are setting values always behaves as a copy.\n",
      "\n",
      "For example, when doing 'df[col].method(value, inplace=True)', try using 'df.method({col: value}, inplace=True)' or df[col] = df[col].method(value) instead, to perform the operation inplace on the original object.\n",
      "\n",
      "\n",
      "  df['bmi'].fillna(df['bmi'].median(), inplace=True)\n"
     ]
    }
   ],
   "source": [
    "# Fill missing BMI values with median\n",
    "df['bmi'].fillna(df['bmi'].median(), inplace=True)"
   ]
  },
  {
   "cell_type": "markdown",
   "id": "71c3fab1-e0ea-4c8e-9204-bab519eb06ef",
   "metadata": {},
   "source": [
    "After filling the missing **'bmi'** values, this step verifies that all missing data have been handled properly.  \n",
    "It reprints the count of null values in each column to confirm data completeness."
   ]
  },
  {
   "cell_type": "code",
   "execution_count": 5,
   "id": "81f63107-7561-47df-bde0-ac4bb4a1387b",
   "metadata": {},
   "outputs": [
    {
     "name": "stdout",
     "output_type": "stream",
     "text": [
      "\n",
      "Missing values:\n",
      " id                   0\n",
      "gender               0\n",
      "age                  0\n",
      "hypertension         0\n",
      "heart_disease        0\n",
      "ever_married         0\n",
      "work_type            0\n",
      "Residence_type       0\n",
      "avg_glucose_level    0\n",
      "bmi                  0\n",
      "smoking_status       0\n",
      "stroke               0\n",
      "dtype: int64\n"
     ]
    }
   ],
   "source": [
    "# Check for null values\n",
    "print(\"\\nMissing values:\\n\", df.isnull().sum())"
   ]
  },
  {
   "cell_type": "markdown",
   "id": "45248a14-67db-40bf-8d84-2015bf283508",
   "metadata": {},
   "source": [
    "### Checking Data Types\n",
    "Displays the data type (`int64`, `float64`, `object`, etc.) of each column in the dataset.  \n",
    "This helps identify which features are numerical or categorical before further analysis or preprocessing."
   ]
  },
  {
   "cell_type": "code",
   "execution_count": 6,
   "id": "b9d31753-6980-47dd-909e-babb7c2f6ee4",
   "metadata": {},
   "outputs": [
    {
     "data": {
      "text/plain": [
       "id                     int64\n",
       "gender                object\n",
       "age                  float64\n",
       "hypertension           int64\n",
       "heart_disease          int64\n",
       "ever_married          object\n",
       "work_type             object\n",
       "Residence_type        object\n",
       "avg_glucose_level    float64\n",
       "bmi                  float64\n",
       "smoking_status        object\n",
       "stroke                 int64\n",
       "dtype: object"
      ]
     },
     "execution_count": 6,
     "metadata": {},
     "output_type": "execute_result"
    }
   ],
   "source": [
    "df.dtypes"
   ]
  },
  {
   "cell_type": "markdown",
   "id": "055042e1-eb1c-45f0-b707-df5488b9bd40",
   "metadata": {},
   "source": [
    "Gender, ever_married, work_type, Residence_type and smoking_status columns are object types."
   ]
  },
  {
   "cell_type": "markdown",
   "id": "15d6b496-1770-4e4b-a14b-9b0dc8eb4cd7",
   "metadata": {},
   "source": [
    "These columns are converted to the **'category'** data type.  \n",
    "This conversion optimizes memory usage and prepares the data for encoding in later steps."
   ]
  },
  {
   "cell_type": "code",
   "execution_count": 7,
   "id": "6729d660-abdf-4a92-b0eb-fb043ff595fc",
   "metadata": {},
   "outputs": [],
   "source": [
    "df['gender']=df['gender'].astype('category')\n",
    "df['ever_married']=df['ever_married'].astype('category')\n",
    "df['work_type']=df['work_type'].astype('category')\n",
    "df['Residence_type']=df['Residence_type'].astype('category')\n",
    "df['smoking_status']=df['smoking_status'].astype('category')"
   ]
  },
  {
   "cell_type": "code",
   "execution_count": 8,
   "id": "af1d3cc7-ee5d-4147-92d5-9079448a11d1",
   "metadata": {},
   "outputs": [
    {
     "data": {
      "text/plain": [
       "id                      int64\n",
       "gender               category\n",
       "age                   float64\n",
       "hypertension            int64\n",
       "heart_disease           int64\n",
       "ever_married         category\n",
       "work_type            category\n",
       "Residence_type       category\n",
       "avg_glucose_level     float64\n",
       "bmi                   float64\n",
       "smoking_status       category\n",
       "stroke                  int64\n",
       "dtype: object"
      ]
     },
     "execution_count": 8,
     "metadata": {},
     "output_type": "execute_result"
    }
   ],
   "source": [
    "#check the data type again after type conversion\n",
    "df.dtypes"
   ]
  },
  {
   "cell_type": "markdown",
   "id": "54ac4b8a-c3a1-4b9a-9025-7873199eeb33",
   "metadata": {},
   "source": [
    "All columns have correct data types now. "
   ]
  },
  {
   "cell_type": "markdown",
   "id": "623e23a5-1011-484d-ac9e-29b3ee4123e2",
   "metadata": {},
   "source": [
    "### Stroke Distribution Visualization\n",
    "A **count plot** is created to show the distribution of the target variable **'stroke'**.  \n",
    "This visualization helps identify class imbalance between patients who had a stroke and those who did not."
   ]
  },
  {
   "cell_type": "code",
   "execution_count": 9,
   "id": "db7701bc-808d-484c-bef7-dd955dbec933",
   "metadata": {
    "scrolled": true
   },
   "outputs": [
    {
     "data": {
      "image/png": "[encoded data removed]",
      "text/plain": [
       "<Figure size 800x500 with 1 Axes>"
      ]
     },
     "metadata": {},
     "output_type": "display_data"
    }
   ],
   "source": [
    "# 3. Data Visualization\n",
    "\n",
    "plt.figure(figsize=(8, 5))\n",
    "sns.countplot(x='stroke', data=df)\n",
    "plt.title('Stroke Distribution')\n",
    "plt.show()"
   ]
  },
  {
   "cell_type": "markdown",
   "id": "671e15a5-6039-4c62-a756-83b0e418ddac",
   "metadata": {},
   "source": [
    "It shows class imbalance in which the number of presence of stroke (1) is much lower than the absence."
   ]
  },
  {
   "cell_type": "markdown",
   "id": "d527ac32-a9f9-4b10-bde6-228fabed10c0",
   "metadata": {},
   "source": [
    "### Correlation Heatmap\n",
    "A **heatmap** is plotted to visualize correlations between numerical features.  \n",
    "- **Annot=True** displays correlation values  \n",
    "- **Coolwarm colormap** highlights strong positive (red) and negative (blue) correlations  \n",
    "This helps quickly identify highly correlated features for further analysis or modeling."
   ]
  },
  {
   "cell_type": "code",
   "execution_count": 10,
   "id": "effa7c6a-fc9a-4dda-b1b5-c97841e3f46f",
   "metadata": {
    "scrolled": true
   },
   "outputs": [
    {
     "data": {
      "image/png": "[encoded data removed]",
      "text/plain": [
       "<Figure size 1000x600 with 2 Axes>"
      ]
     },
     "metadata": {},
     "output_type": "display_data"
    }
   ],
   "source": [
    "# Correlation Heatmap (numeric features only)\n",
    "plt.figure(figsize=(10, 6))\n",
    "sns.heatmap(df.corr(numeric_only=True), annot=True, cmap='coolwarm')\n",
    "plt.title('Feature Correlation Heatmap')\n",
    "plt.show()"
   ]
  },
  {
   "cell_type": "markdown",
   "id": "252b3ccc-b25c-419a-b983-1e95dbd59c52",
   "metadata": {},
   "source": [
    "From the heapmap, there is no strong correlation found between these variables."
   ]
  },
  {
   "cell_type": "markdown",
   "id": "0cff5bf4-42d6-4b2c-9045-5d2c005e1460",
   "metadata": {},
   "source": [
    "### BMI vs Stroke Boxplot\n",
    "A **boxplot** is used to compare the distribution of **BMI** across stroke and non-stroke patients.  \n",
    "This helps detect differences, outliers, and trends in BMI related to stroke occurrence."
   ]
  },
  {
   "cell_type": "code",
   "execution_count": 11,
   "id": "f9da3e40-f113-449d-bec5-388c194f49f6",
   "metadata": {
    "scrolled": true
   },
   "outputs": [
    {
     "data": {
      "image/png": "[encoded data removed]",
      "text/plain": [
       "<Figure size 640x480 with 1 Axes>"
      ]
     },
     "metadata": {},
     "output_type": "display_data"
    }
   ],
   "source": [
    "# Boxplot of BMI vs Stroke\n",
    "sns.boxplot(x='stroke', y='bmi', data=df)\n",
    "plt.title('BMI vs Stroke')\n",
    "plt.show()"
   ]
  },
  {
   "cell_type": "markdown",
   "id": "ea98a096-7b27-4ffc-baea-fea4e22a124e",
   "metadata": {},
   "source": [
    "The boxplot shows some outliers in both stroke and non-stroke groups.  \n",
    "Since these extreme BMI values are clinically plausible and relevant for prediction, they are retained in the dataset for model training."
   ]
  },
  {
   "cell_type": "markdown",
   "id": "16c993bc-9831-4d18-a1cf-62f9944d25b8",
   "metadata": {},
   "source": [
    "### Age vs Stroke Boxplot\n",
    "A **boxplot** is plotted to compare the distribution of **age** between stroke and non-stroke patients.  \n",
    "This helps identify trends, age-related patterns, and potential outliers in relation to stroke occurrence."
   ]
  },
  {
   "cell_type": "code",
   "execution_count": 12,
   "id": "05690d9e-317a-45c6-889f-5356d2ad354e",
   "metadata": {
    "scrolled": true
   },
   "outputs": [
    {
     "data": {
      "image/png": "[encoded data removed]",
      "text/plain": [
       "<Figure size 640x480 with 1 Axes>"
      ]
     },
     "metadata": {},
     "output_type": "display_data"
    }
   ],
   "source": [
    "#  Boxplot of age vs Stroke\n",
    "sns.boxplot(x='stroke', y='age', data=df)\n",
    "plt.title('Age vs Stroke')\n",
    "plt.show()"
   ]
  },
  {
   "cell_type": "markdown",
   "id": "02ff95a5-517d-42bb-b963-e91984f418fd",
   "metadata": {},
   "source": [
    "The boxplot shows that most non-stroke patients are aged **20–60**, while stroke patients are mostly **60–80**.  \n",
    "Two outliers in the stroke group are present but are clinically plausible."
   ]
  },
  {
   "cell_type": "code",
   "execution_count": 13,
   "id": "f0e7568a-8678-482b-8996-5d6c2956382c",
   "metadata": {},
   "outputs": [],
   "source": [
    "# Drop irrelevant 'id' column\n",
    "df.drop(['id'], axis=1, inplace=True)"
   ]
  },
  {
   "cell_type": "code",
   "execution_count": 14,
   "id": "94fd1503-386a-4b79-95de-d3f7ecf17d78",
   "metadata": {},
   "outputs": [
    {
     "data": {
      "text/html": [
       "<div>\n",
       "<style scoped>\n",
       "    .dataframe tbody tr th:only-of-type {\n",
       "        vertical-align: middle;\n",
       "    }\n",
       "\n",
       "    .dataframe tbody tr th {\n",
       "        vertical-align: top;\n",
       "    }\n",
       "\n",
       "    .dataframe thead th {\n",
       "        text-align: right;\n",
       "    }\n",
       "</style>\n",
       "<table border=\"1\" class=\"dataframe\">\n",
       "  <thead>\n",
       "    <tr style=\"text-align: right;\">\n",
       "      <th></th>\n",
       "      <th>gender</th>\n",
       "      <th>age</th>\n",
       "      <th>hypertension</th>\n",
       "      <th>heart_disease</th>\n",
       "      <th>ever_married</th>\n",
       "      <th>work_type</th>\n",
       "      <th>Residence_type</th>\n",
       "      <th>avg_glucose_level</th>\n",
       "      <th>bmi</th>\n",
       "      <th>smoking_status</th>\n",
       "      <th>stroke</th>\n",
       "    </tr>\n",
       "  </thead>\n",
       "  <tbody>\n",
       "    <tr>\n",
       "      <th>0</th>\n",
       "      <td>Male</td>\n",
       "      <td>67.0</td>\n",
       "      <td>0</td>\n",
       "      <td>1</td>\n",
       "      <td>Yes</td>\n",
       "      <td>Private</td>\n",
       "      <td>Urban</td>\n",
       "      <td>228.69</td>\n",
       "      <td>36.6</td>\n",
       "      <td>formerly smoked</td>\n",
       "      <td>1</td>\n",
       "    </tr>\n",
       "    <tr>\n",
       "      <th>1</th>\n",
       "      <td>Female</td>\n",
       "      <td>61.0</td>\n",
       "      <td>0</td>\n",
       "      <td>0</td>\n",
       "      <td>Yes</td>\n",
       "      <td>Self-employed</td>\n",
       "      <td>Rural</td>\n",
       "      <td>202.21</td>\n",
       "      <td>28.1</td>\n",
       "      <td>never smoked</td>\n",
       "      <td>1</td>\n",
       "    </tr>\n",
       "    <tr>\n",
       "      <th>2</th>\n",
       "      <td>Male</td>\n",
       "      <td>80.0</td>\n",
       "      <td>0</td>\n",
       "      <td>1</td>\n",
       "      <td>Yes</td>\n",
       "      <td>Private</td>\n",
       "      <td>Rural</td>\n",
       "      <td>105.92</td>\n",
       "      <td>32.5</td>\n",
       "      <td>never smoked</td>\n",
       "      <td>1</td>\n",
       "    </tr>\n",
       "    <tr>\n",
       "      <th>3</th>\n",
       "      <td>Female</td>\n",
       "      <td>49.0</td>\n",
       "      <td>0</td>\n",
       "      <td>0</td>\n",
       "      <td>Yes</td>\n",
       "      <td>Private</td>\n",
       "      <td>Urban</td>\n",
       "      <td>171.23</td>\n",
       "      <td>34.4</td>\n",
       "      <td>smokes</td>\n",
       "      <td>1</td>\n",
       "    </tr>\n",
       "    <tr>\n",
       "      <th>4</th>\n",
       "      <td>Female</td>\n",
       "      <td>79.0</td>\n",
       "      <td>1</td>\n",
       "      <td>0</td>\n",
       "      <td>Yes</td>\n",
       "      <td>Self-employed</td>\n",
       "      <td>Rural</td>\n",
       "      <td>174.12</td>\n",
       "      <td>24.0</td>\n",
       "      <td>never smoked</td>\n",
       "      <td>1</td>\n",
       "    </tr>\n",
       "  </tbody>\n",
       "</table>\n",
       "</div>"
      ],
      "text/plain": [
       "   gender   age  hypertension  heart_disease ever_married      work_type  \\\n",
       "0    Male  67.0             0              1          Yes        Private   \n",
       "1  Female  61.0             0              0          Yes  Self-employed   \n",
       "2    Male  80.0             0              1          Yes        Private   \n",
       "3  Female  49.0             0              0          Yes        Private   \n",
       "4  Female  79.0             1              0          Yes  Self-employed   \n",
       "\n",
       "  Residence_type  avg_glucose_level   bmi   smoking_status  stroke  \n",
       "0          Urban             228.69  36.6  formerly smoked       1  \n",
       "1          Rural             202.21  28.1     never smoked       1  \n",
       "2          Rural             105.92  32.5     never smoked       1  \n",
       "3          Urban             171.23  34.4           smokes       1  \n",
       "4          Rural             174.12  24.0     never smoked       1  "
      ]
     },
     "execution_count": 14,
     "metadata": {},
     "output_type": "execute_result"
    }
   ],
   "source": [
    "#check the dataframe after removing 'id' column\n",
    "df.head()"
   ]
  },
  {
   "cell_type": "markdown",
   "id": "70819ad9-870a-4ff0-8b4f-875e8df99f57",
   "metadata": {},
   "source": [
    "### Importing Machine Learning Libraries\n",
    "Essential **scikit-learn** modules are imported for model building and evaluation:  \n",
    "- **train_test_split**: split data into training and testing sets  \n",
    "- **LabelEncoder** and **StandardScaler**: encode categorical variables and scale features  \n",
    "- **SVC**, **DecisionTreeClassifier**, **RandomForestClassifier**: machine learning algorithms for classification  \n",
    "- **classification_report**, **confusion_matrix**, **accuracy_score**, **precision_score**, **recall_score**, **f1_score**: metrics to evaluate model performance\n"
   ]
  },
  {
   "cell_type": "code",
   "execution_count": 15,
   "id": "141ea30a-6c11-45b1-a3d6-b9bab0b148d1",
   "metadata": {},
   "outputs": [],
   "source": [
    "from sklearn.model_selection import train_test_split\n",
    "from sklearn.preprocessing import LabelEncoder, StandardScaler\n",
    "from sklearn.svm import SVC\n",
    "from sklearn.tree import DecisionTreeClassifier\n",
    "from sklearn.ensemble import RandomForestClassifier\n",
    "from sklearn.metrics import classification_report, confusion_matrix, accuracy_score, precision_score, recall_score, f1_score"
   ]
  },
  {
   "cell_type": "markdown",
   "id": "0ea80e93-0d7c-4e55-8237-c674347c729f",
   "metadata": {},
   "source": [
    "### Encoding Categorical Variables\n",
    "Categorical columns (**'gender'**, **'ever_married'**, **'work_type'**, **'Residence_type'**, **'smoking_status'**) are converted to numeric values using **LabelEncoder**.  \n",
    "This is required for machine learning models that only accept numerical input."
   ]
  },
  {
   "cell_type": "code",
   "execution_count": 16,
   "id": "075615ab-5a43-424b-9452-08d62262fdc2",
   "metadata": {},
   "outputs": [],
   "source": [
    "# Encode categorical variables\n",
    "le = LabelEncoder()\n",
    "for col in ['gender', 'ever_married', 'work_type', 'Residence_type', 'smoking_status']:\n",
    "    df[col] = le.fit_transform(df[col])"
   ]
  },
  {
   "cell_type": "code",
   "execution_count": 17,
   "id": "652dd06e-580c-47a0-b75f-7d5bdcdf747b",
   "metadata": {
    "scrolled": true
   },
   "outputs": [
    {
     "data": {
      "text/html": [
       "<div>\n",
       "<style scoped>\n",
       "    .dataframe tbody tr th:only-of-type {\n",
       "        vertical-align: middle;\n",
       "    }\n",
       "\n",
       "    .dataframe tbody tr th {\n",
       "        vertical-align: top;\n",
       "    }\n",
       "\n",
       "    .dataframe thead th {\n",
       "        text-align: right;\n",
       "    }\n",
       "</style>\n",
       "<table border=\"1\" class=\"dataframe\">\n",
       "  <thead>\n",
       "    <tr style=\"text-align: right;\">\n",
       "      <th></th>\n",
       "      <th>gender</th>\n",
       "      <th>age</th>\n",
       "      <th>hypertension</th>\n",
       "      <th>heart_disease</th>\n",
       "      <th>ever_married</th>\n",
       "      <th>work_type</th>\n",
       "      <th>Residence_type</th>\n",
       "      <th>avg_glucose_level</th>\n",
       "      <th>bmi</th>\n",
       "      <th>smoking_status</th>\n",
       "      <th>stroke</th>\n",
       "    </tr>\n",
       "  </thead>\n",
       "  <tbody>\n",
       "    <tr>\n",
       "      <th>0</th>\n",
       "      <td>1</td>\n",
       "      <td>67.0</td>\n",
       "      <td>0</td>\n",
       "      <td>1</td>\n",
       "      <td>1</td>\n",
       "      <td>2</td>\n",
       "      <td>1</td>\n",
       "      <td>228.69</td>\n",
       "      <td>36.6</td>\n",
       "      <td>1</td>\n",
       "      <td>1</td>\n",
       "    </tr>\n",
       "    <tr>\n",
       "      <th>1</th>\n",
       "      <td>0</td>\n",
       "      <td>61.0</td>\n",
       "      <td>0</td>\n",
       "      <td>0</td>\n",
       "      <td>1</td>\n",
       "      <td>3</td>\n",
       "      <td>0</td>\n",
       "      <td>202.21</td>\n",
       "      <td>28.1</td>\n",
       "      <td>2</td>\n",
       "      <td>1</td>\n",
       "    </tr>\n",
       "    <tr>\n",
       "      <th>2</th>\n",
       "      <td>1</td>\n",
       "      <td>80.0</td>\n",
       "      <td>0</td>\n",
       "      <td>1</td>\n",
       "      <td>1</td>\n",
       "      <td>2</td>\n",
       "      <td>0</td>\n",
       "      <td>105.92</td>\n",
       "      <td>32.5</td>\n",
       "      <td>2</td>\n",
       "      <td>1</td>\n",
       "    </tr>\n",
       "    <tr>\n",
       "      <th>3</th>\n",
       "      <td>0</td>\n",
       "      <td>49.0</td>\n",
       "      <td>0</td>\n",
       "      <td>0</td>\n",
       "      <td>1</td>\n",
       "      <td>2</td>\n",
       "      <td>1</td>\n",
       "      <td>171.23</td>\n",
       "      <td>34.4</td>\n",
       "      <td>3</td>\n",
       "      <td>1</td>\n",
       "    </tr>\n",
       "    <tr>\n",
       "      <th>4</th>\n",
       "      <td>0</td>\n",
       "      <td>79.0</td>\n",
       "      <td>1</td>\n",
       "      <td>0</td>\n",
       "      <td>1</td>\n",
       "      <td>3</td>\n",
       "      <td>0</td>\n",
       "      <td>174.12</td>\n",
       "      <td>24.0</td>\n",
       "      <td>2</td>\n",
       "      <td>1</td>\n",
       "    </tr>\n",
       "  </tbody>\n",
       "</table>\n",
       "</div>"
      ],
      "text/plain": [
       "   gender   age  hypertension  heart_disease  ever_married  work_type  \\\n",
       "0       1  67.0             0              1             1          2   \n",
       "1       0  61.0             0              0             1          3   \n",
       "2       1  80.0             0              1             1          2   \n",
       "3       0  49.0             0              0             1          2   \n",
       "4       0  79.0             1              0             1          3   \n",
       "\n",
       "   Residence_type  avg_glucose_level   bmi  smoking_status  stroke  \n",
       "0               1             228.69  36.6               1       1  \n",
       "1               0             202.21  28.1               2       1  \n",
       "2               0             105.92  32.5               2       1  \n",
       "3               1             171.23  34.4               3       1  \n",
       "4               0             174.12  24.0               2       1  "
      ]
     },
     "execution_count": 17,
     "metadata": {},
     "output_type": "execute_result"
    }
   ],
   "source": [
    "#check the dataset after label encoding\n",
    "df.head()"
   ]
  },
  {
   "cell_type": "code",
   "execution_count": 18,
   "id": "6927f64a-044f-4990-8fa2-1b157d65d11f",
   "metadata": {
    "scrolled": true
   },
   "outputs": [
    {
     "data": {
      "text/plain": [
       "gender                 int64\n",
       "age                  float64\n",
       "hypertension           int64\n",
       "heart_disease          int64\n",
       "ever_married           int64\n",
       "work_type              int64\n",
       "Residence_type         int64\n",
       "avg_glucose_level    float64\n",
       "bmi                  float64\n",
       "smoking_status         int64\n",
       "stroke                 int64\n",
       "dtype: object"
      ]
     },
     "execution_count": 18,
     "metadata": {},
     "output_type": "execute_result"
    }
   ],
   "source": [
    "# check the data types again\n",
    "df.dtypes"
   ]
  },
  {
   "cell_type": "markdown",
   "id": "06c3fb23-1f36-46c1-a3fc-8e8b6ef1dc49",
   "metadata": {},
   "source": [
    "### Splitting Features and Target\n",
    "- **X** contains all input features by dropping the target column **'stroke'**  \n",
    "- **y** contains the target variable **'stroke'**  \n",
    "This prepares the dataset for model training and evaluation."
   ]
  },
  {
   "cell_type": "code",
   "execution_count": 19,
   "id": "e3ebeff8-ae8c-41bd-ac36-f5800e9350fe",
   "metadata": {},
   "outputs": [],
   "source": [
    "# Split features and target\n",
    "X = df.drop('stroke', axis=1)\n",
    "y = df['stroke']"
   ]
  },
  {
   "cell_type": "markdown",
   "id": "1ad9aac0-039e-4957-b935-65fc4ee1ac8c",
   "metadata": {},
   "source": [
    "### Feature Scaling\n",
    "The input features **X** are normalized using **StandardScaler** to have zero mean and unit variance.  \n",
    "Scaling ensures that all features contribute equally to distance-based algorithms like SVM."
   ]
  },
  {
   "cell_type": "code",
   "execution_count": 20,
   "id": "6d14a8cd-4568-408f-aa0e-e8478198b805",
   "metadata": {},
   "outputs": [],
   "source": [
    "# Normalize data\n",
    "scaler = StandardScaler()\n",
    "X_scaled = scaler.fit_transform(X)"
   ]
  },
  {
   "cell_type": "code",
   "execution_count": 21,
   "id": "076f13ba-6b61-4554-83bd-ff3149884b1b",
   "metadata": {},
   "outputs": [
    {
     "data": {
      "text/plain": [
       "array([[ 1.18807255,  1.05143428, -0.32860186, ...,  2.70637544,\n",
       "         1.00508597, -0.35178071],\n",
       "       [-0.840344  ,  0.78607007, -0.32860186, ...,  2.12155854,\n",
       "        -0.09898092,  0.58155233],\n",
       "       [ 1.18807255,  1.62639008, -0.32860186, ..., -0.0050283 ,\n",
       "         0.47253605,  0.58155233],\n",
       "       ...,\n",
       "       [-0.840344  , -0.36384151, -0.32860186, ..., -0.51144264,\n",
       "         0.22574463,  0.58155233],\n",
       "       [ 1.18807255,  0.34379639, -0.32860186, ...,  1.32825706,\n",
       "        -0.42370648, -0.35178071],\n",
       "       [-0.840344  ,  0.03420481, -0.32860186, ..., -0.46086746,\n",
       "        -0.34577235, -1.28511375]])"
      ]
     },
     "execution_count": 21,
     "metadata": {},
     "output_type": "execute_result"
    }
   ],
   "source": [
    "#check the normalized features (x)\n",
    "X_scaled"
   ]
  },
  {
   "cell_type": "markdown",
   "id": "e75a2eae-8c8c-4c95-99e3-51e4f4fc9bdc",
   "metadata": {},
   "source": [
    "### Splitting Data into Training and Test Sets\n",
    "The dataset is split into **training** and **testing** sets:  \n",
    "- **80% training** and **20% testing** (`test_size=0.2`)  \n",
    "- `random_state=42` ensures reproducibility  \n",
    "\n",
    "Printing the shapes confirms the number of samples in each set.\n"
   ]
  },
  {
   "cell_type": "code",
   "execution_count": 22,
   "id": "8e0cac20-b809-4ada-a13c-3e1d69ac14a3",
   "metadata": {},
   "outputs": [
    {
     "name": "stdout",
     "output_type": "stream",
     "text": [
      "\n",
      "Train shape: (4088, 10)\n",
      "Test shape: (1022, 10)\n"
     ]
    }
   ],
   "source": [
    "X_train, X_test, y_train, y_test = train_test_split(\n",
    "    X_scaled, y, test_size=0.2, random_state=42\n",
    ")\n",
    "\n",
    "print(\"\\nTrain shape:\", X_train.shape)\n",
    "print(\"Test shape:\", X_test.shape)"
   ]
  },
  {
   "cell_type": "markdown",
   "id": "08380439-a9b6-4924-9772-fabcd07a397a",
   "metadata": {},
   "source": [
    "### Checking Target Distribution\n",
    "Check the count of each class in the target variable **'stroke'**.  \n",
    "This helps identify class imbalance in training data, which is important for choosing evaluation metrics and model strategies."
   ]
  },
  {
   "cell_type": "code",
   "execution_count": 23,
   "id": "bb6de282-867e-4229-9500-3991731100da",
   "metadata": {},
   "outputs": [
    {
     "data": {
      "text/plain": [
       "stroke\n",
       "0    3901\n",
       "1     187\n",
       "Name: count, dtype: int64"
      ]
     },
     "execution_count": 23,
     "metadata": {},
     "output_type": "execute_result"
    }
   ],
   "source": [
    "y_train.value_counts()"
   ]
  },
  {
   "cell_type": "markdown",
   "id": "d1de07c4-3535-4200-9fa5-92cc81cf6e9e",
   "metadata": {},
   "source": [
    "The target variable **'stroke'** is highly imbalanced:  \n",
    "- **3901** samples without stroke (class 0)  \n",
    "- **187** samples with stroke (class 1)  \n",
    "\n",
    "This imbalance indicates the need for techniques like SMOTE or class weighting during model training to improve prediction for the minority class."
   ]
  },
  {
   "cell_type": "markdown",
   "id": "da47ad99-6b7e-491f-8e4f-c1115c47a660",
   "metadata": {},
   "source": [
    "### Handling Class Imbalance with SMOTE\n",
    "**SMOTE (Synthetic Minority Over-sampling Technique)** is applied to the training set to balance classes by generating synthetic samples for the minority class.  \n",
    "This improves model performance on imbalanced datasets without affecting the test set."
   ]
  },
  {
   "cell_type": "code",
   "execution_count": 24,
   "id": "1a0e6039-233a-4ee4-aa7e-4d0963e3bf7e",
   "metadata": {},
   "outputs": [],
   "source": [
    "from imblearn.over_sampling import SMOTE\n",
    "# Apply SMOTE only to training data\n",
    "sm = SMOTE(random_state=42)\n",
    "X_train, y_train = sm.fit_resample(X_train, y_train)"
   ]
  },
  {
   "cell_type": "markdown",
   "id": "d70bf559-81e2-43e3-877e-6acee32d48df",
   "metadata": {},
   "source": [
    "Recheck the balanced class in training data after applying SMOTE method"
   ]
  },
  {
   "cell_type": "code",
   "execution_count": 25,
   "id": "82532920-bfcb-4ec4-8a92-68455f028a18",
   "metadata": {},
   "outputs": [
    {
     "data": {
      "text/plain": [
       "stroke\n",
       "0    3901\n",
       "1    3901\n",
       "Name: count, dtype: int64"
      ]
     },
     "execution_count": 25,
     "metadata": {},
     "output_type": "execute_result"
    }
   ],
   "source": [
    "y_train.value_counts()"
   ]
  },
  {
   "cell_type": "markdown",
   "id": "7f65d39e-583b-4738-a657-b043cfe12d8b",
   "metadata": {},
   "source": [
    "It shows the same number of class in target variable, being ready for training. "
   ]
  },
  {
   "cell_type": "markdown",
   "id": "0158b254-cb1d-46b6-adf9-031669eae177",
   "metadata": {},
   "source": [
    "### Training Linear SVM\n",
    "A **Support Vector Machine (SVM)** with a **linear kernel** is trained on the scaled and balanced training data.  \n",
    "SVM finds the optimal hyperplane that separates the classes in the feature space."
   ]
  },
  {
   "cell_type": "code",
   "execution_count": 26,
   "id": "3fc06c6c-6f26-49b4-b095-63485a564888",
   "metadata": {
    "scrolled": true
   },
   "outputs": [
    {
     "data": {
      "text/html": [
       "<style>#sk-container-id-1 {\n",
       "  /* Definition of color scheme common for light and dark mode */\n",
       "  --sklearn-color-text: black;\n",
       "  --sklearn-color-line: gray;\n",
       "  /* Definition of color scheme for unfitted estimators */\n",
       "  --sklearn-color-unfitted-level-0: #fff5e6;\n",
       "  --sklearn-color-unfitted-level-1: #f6e4d2;\n",
       "  --sklearn-color-unfitted-level-2: #ffe0b3;\n",
       "  --sklearn-color-unfitted-level-3: chocolate;\n",
       "  /* Definition of color scheme for fitted estimators */\n",
       "  --sklearn-color-fitted-level-0: #f0f8ff;\n",
       "  --sklearn-color-fitted-level-1: #d4ebff;\n",
       "  --sklearn-color-fitted-level-2: #b3dbfd;\n",
       "  --sklearn-color-fitted-level-3: cornflowerblue;\n",
       "\n",
       "  /* Specific color for light theme */\n",
       "  --sklearn-color-text-on-default-background: var(--sg-text-color, var(--theme-code-foreground, var(--jp-content-font-color1, black)));\n",
       "  --sklearn-color-background: var(--sg-background-color, var(--theme-background, var(--jp-layout-color0, white)));\n",
       "  --sklearn-color-border-box: var(--sg-text-color, var(--theme-code-foreground, var(--jp-content-font-color1, black)));\n",
       "  --sklearn-color-icon: #696969;\n",
       "\n",
       "  @media (prefers-color-scheme: dark) {\n",
       "    /* Redefinition of color scheme for dark theme */\n",
       "    --sklearn-color-text-on-default-background: var(--sg-text-color, var(--theme-code-foreground, var(--jp-content-font-color1, white)));\n",
       "    --sklearn-color-background: var(--sg-background-color, var(--theme-background, var(--jp-layout-color0, #111)));\n",
       "    --sklearn-color-border-box: var(--sg-text-color, var(--theme-code-foreground, var(--jp-content-font-color1, white)));\n",
       "    --sklearn-color-icon: #878787;\n",
       "  }\n",
       "}\n",
       "\n",
       "#sk-container-id-1 {\n",
       "  color: var(--sklearn-color-text);\n",
       "}\n",
       "\n",
       "#sk-container-id-1 pre {\n",
       "  padding: 0;\n",
       "}\n",
       "\n",
       "#sk-container-id-1 input.sk-hidden--visually {\n",
       "  border: 0;\n",
       "  clip: rect(1px 1px 1px 1px);\n",
       "  clip: rect(1px, 1px, 1px, 1px);\n",
       "  height: 1px;\n",
       "  margin: -1px;\n",
       "  overflow: hidden;\n",
       "  padding: 0;\n",
       "  position: absolute;\n",
       "  width: 1px;\n",
       "}\n",
       "\n",
       "#sk-container-id-1 div.sk-dashed-wrapped {\n",
       "  border: 1px dashed var(--sklearn-color-line);\n",
       "  margin: 0 0.4em 0.5em 0.4em;\n",
       "  box-sizing: border-box;\n",
       "  padding-bottom: 0.4em;\n",
       "  background-color: var(--sklearn-color-background);\n",
       "}\n",
       "\n",
       "#sk-container-id-1 div.sk-container {\n",
       "  /* jupyter's `normalize.less` sets `[hidden] { display: none; }`\n",
       "     but bootstrap.min.css set `[hidden] { display: none !important; }`\n",
       "     so we also need the `!important` here to be able to override the\n",
       "     default hidden behavior on the sphinx rendered scikit-learn.org.\n",
       "     See: https://github.com/scikit-learn/scikit-learn/issues/21755 */\n",
       "  display: inline-block !important;\n",
       "  position: relative;\n",
       "}\n",
       "\n",
       "#sk-container-id-1 div.sk-text-repr-fallback {\n",
       "  display: none;\n",
       "}\n",
       "\n",
       "div.sk-parallel-item,\n",
       "div.sk-serial,\n",
       "div.sk-item {\n",
       "  /* draw centered vertical line to link estimators */\n",
       "  background-image: linear-gradient(var(--sklearn-color-text-on-default-background), var(--sklearn-color-text-on-default-background));\n",
       "  background-size: 2px 100%;\n",
       "  background-repeat: no-repeat;\n",
       "  background-position: center center;\n",
       "}\n",
       "\n",
       "/* Parallel-specific style estimator block */\n",
       "\n",
       "#sk-container-id-1 div.sk-parallel-item::after {\n",
       "  content: \"\";\n",
       "  width: 100%;\n",
       "  border-bottom: 2px solid var(--sklearn-color-text-on-default-background);\n",
       "  flex-grow: 1;\n",
       "}\n",
       "\n",
       "#sk-container-id-1 div.sk-parallel {\n",
       "  display: flex;\n",
       "  align-items: stretch;\n",
       "  justify-content: center;\n",
       "  background-color: var(--sklearn-color-background);\n",
       "  position: relative;\n",
       "}\n",
       "\n",
       "#sk-container-id-1 div.sk-parallel-item {\n",
       "  display: flex;\n",
       "  flex-direction: column;\n",
       "}\n",
       "\n",
       "#sk-container-id-1 div.sk-parallel-item:first-child::after {\n",
       "  align-self: flex-end;\n",
       "  width: 50%;\n",
       "}\n",
       "\n",
       "#sk-container-id-1 div.sk-parallel-item:last-child::after {\n",
       "  align-self: flex-start;\n",
       "  width: 50%;\n",
       "}\n",
       "\n",
       "#sk-container-id-1 div.sk-parallel-item:only-child::after {\n",
       "  width: 0;\n",
       "}\n",
       "\n",
       "/* Serial-specific style estimator block */\n",
       "\n",
       "#sk-container-id-1 div.sk-serial {\n",
       "  display: flex;\n",
       "  flex-direction: column;\n",
       "  align-items: center;\n",
       "  background-color: var(--sklearn-color-background);\n",
       "  padding-right: 1em;\n",
       "  padding-left: 1em;\n",
       "}\n",
       "\n",
       "\n",
       "/* Toggleable style: style used for estimator/Pipeline/ColumnTransformer box that is\n",
       "clickable and can be expanded/collapsed.\n",
       "- Pipeline and ColumnTransformer use this feature and define the default style\n",
       "- Estimators will overwrite some part of the style using the `sk-estimator` class\n",
       "*/\n",
       "\n",
       "/* Pipeline and ColumnTransformer style (default) */\n",
       "\n",
       "#sk-container-id-1 div.sk-toggleable {\n",
       "  /* Default theme specific background. It is overwritten whether we have a\n",
       "  specific estimator or a Pipeline/ColumnTransformer */\n",
       "  background-color: var(--sklearn-color-background);\n",
       "}\n",
       "\n",
       "/* Toggleable label */\n",
       "#sk-container-id-1 label.sk-toggleable__label {\n",
       "  cursor: pointer;\n",
       "  display: block;\n",
       "  width: 100%;\n",
       "  margin-bottom: 0;\n",
       "  padding: 0.5em;\n",
       "  box-sizing: border-box;\n",
       "  text-align: center;\n",
       "}\n",
       "\n",
       "#sk-container-id-1 label.sk-toggleable__label-arrow:before {\n",
       "  /* Arrow on the left of the label */\n",
       "  content: \"▸\";\n",
       "  float: left;\n",
       "  margin-right: 0.25em;\n",
       "  color: var(--sklearn-color-icon);\n",
       "}\n",
       "\n",
       "#sk-container-id-1 label.sk-toggleable__label-arrow:hover:before {\n",
       "  color: var(--sklearn-color-text);\n",
       "}\n",
       "\n",
       "/* Toggleable content - dropdown */\n",
       "\n",
       "#sk-container-id-1 div.sk-toggleable__content {\n",
       "  max-height: 0;\n",
       "  max-width: 0;\n",
       "  overflow: hidden;\n",
       "  text-align: left;\n",
       "  /* unfitted */\n",
       "  background-color: var(--sklearn-color-unfitted-level-0);\n",
       "}\n",
       "\n",
       "#sk-container-id-1 div.sk-toggleable__content.fitted {\n",
       "  /* fitted */\n",
       "  background-color: var(--sklearn-color-fitted-level-0);\n",
       "}\n",
       "\n",
       "#sk-container-id-1 div.sk-toggleable__content pre {\n",
       "  margin: 0.2em;\n",
       "  border-radius: 0.25em;\n",
       "  color: var(--sklearn-color-text);\n",
       "  /* unfitted */\n",
       "  background-color: var(--sklearn-color-unfitted-level-0);\n",
       "}\n",
       "\n",
       "#sk-container-id-1 div.sk-toggleable__content.fitted pre {\n",
       "  /* unfitted */\n",
       "  background-color: var(--sklearn-color-fitted-level-0);\n",
       "}\n",
       "\n",
       "#sk-container-id-1 input.sk-toggleable__control:checked~div.sk-toggleable__content {\n",
       "  /* Expand drop-down */\n",
       "  max-height: 200px;\n",
       "  max-width: 100%;\n",
       "  overflow: auto;\n",
       "}\n",
       "\n",
       "#sk-container-id-1 input.sk-toggleable__control:checked~label.sk-toggleable__label-arrow:before {\n",
       "  content: \"▾\";\n",
       "}\n",
       "\n",
       "/* Pipeline/ColumnTransformer-specific style */\n",
       "\n",
       "#sk-container-id-1 div.sk-label input.sk-toggleable__control:checked~label.sk-toggleable__label {\n",
       "  color: var(--sklearn-color-text);\n",
       "  background-color: var(--sklearn-color-unfitted-level-2);\n",
       "}\n",
       "\n",
       "#sk-container-id-1 div.sk-label.fitted input.sk-toggleable__control:checked~label.sk-toggleable__label {\n",
       "  background-color: var(--sklearn-color-fitted-level-2);\n",
       "}\n",
       "\n",
       "/* Estimator-specific style */\n",
       "\n",
       "/* Colorize estimator box */\n",
       "#sk-container-id-1 div.sk-estimator input.sk-toggleable__control:checked~label.sk-toggleable__label {\n",
       "  /* unfitted */\n",
       "  background-color: var(--sklearn-color-unfitted-level-2);\n",
       "}\n",
       "\n",
       "#sk-container-id-1 div.sk-estimator.fitted input.sk-toggleable__control:checked~label.sk-toggleable__label {\n",
       "  /* fitted */\n",
       "  background-color: var(--sklearn-color-fitted-level-2);\n",
       "}\n",
       "\n",
       "#sk-container-id-1 div.sk-label label.sk-toggleable__label,\n",
       "#sk-container-id-1 div.sk-label label {\n",
       "  /* The background is the default theme color */\n",
       "  color: var(--sklearn-color-text-on-default-background);\n",
       "}\n",
       "\n",
       "/* On hover, darken the color of the background */\n",
       "#sk-container-id-1 div.sk-label:hover label.sk-toggleable__label {\n",
       "  color: var(--sklearn-color-text);\n",
       "  background-color: var(--sklearn-color-unfitted-level-2);\n",
       "}\n",
       "\n",
       "/* Label box, darken color on hover, fitted */\n",
       "#sk-container-id-1 div.sk-label.fitted:hover label.sk-toggleable__label.fitted {\n",
       "  color: var(--sklearn-color-text);\n",
       "  background-color: var(--sklearn-color-fitted-level-2);\n",
       "}\n",
       "\n",
       "/* Estimator label */\n",
       "\n",
       "#sk-container-id-1 div.sk-label label {\n",
       "  font-family: monospace;\n",
       "  font-weight: bold;\n",
       "  display: inline-block;\n",
       "  line-height: 1.2em;\n",
       "}\n",
       "\n",
       "#sk-container-id-1 div.sk-label-container {\n",
       "  text-align: center;\n",
       "}\n",
       "\n",
       "/* Estimator-specific */\n",
       "#sk-container-id-1 div.sk-estimator {\n",
       "  font-family: monospace;\n",
       "  border: 1px dotted var(--sklearn-color-border-box);\n",
       "  border-radius: 0.25em;\n",
       "  box-sizing: border-box;\n",
       "  margin-bottom: 0.5em;\n",
       "  /* unfitted */\n",
       "  background-color: var(--sklearn-color-unfitted-level-0);\n",
       "}\n",
       "\n",
       "#sk-container-id-1 div.sk-estimator.fitted {\n",
       "  /* fitted */\n",
       "  background-color: var(--sklearn-color-fitted-level-0);\n",
       "}\n",
       "\n",
       "/* on hover */\n",
       "#sk-container-id-1 div.sk-estimator:hover {\n",
       "  /* unfitted */\n",
       "  background-color: var(--sklearn-color-unfitted-level-2);\n",
       "}\n",
       "\n",
       "#sk-container-id-1 div.sk-estimator.fitted:hover {\n",
       "  /* fitted */\n",
       "  background-color: var(--sklearn-color-fitted-level-2);\n",
       "}\n",
       "\n",
       "/* Specification for estimator info (e.g. \"i\" and \"?\") */\n",
       "\n",
       "/* Common style for \"i\" and \"?\" */\n",
       "\n",
       ".sk-estimator-doc-link,\n",
       "a:link.sk-estimator-doc-link,\n",
       "a:visited.sk-estimator-doc-link {\n",
       "  float: right;\n",
       "  font-size: smaller;\n",
       "  line-height: 1em;\n",
       "  font-family: monospace;\n",
       "  background-color: var(--sklearn-color-background);\n",
       "  border-radius: 1em;\n",
       "  height: 1em;\n",
       "  width: 1em;\n",
       "  text-decoration: none !important;\n",
       "  margin-left: 1ex;\n",
       "  /* unfitted */\n",
       "  border: var(--sklearn-color-unfitted-level-1) 1pt solid;\n",
       "  color: var(--sklearn-color-unfitted-level-1);\n",
       "}\n",
       "\n",
       ".sk-estimator-doc-link.fitted,\n",
       "a:link.sk-estimator-doc-link.fitted,\n",
       "a:visited.sk-estimator-doc-link.fitted {\n",
       "  /* fitted */\n",
       "  border: var(--sklearn-color-fitted-level-1) 1pt solid;\n",
       "  color: var(--sklearn-color-fitted-level-1);\n",
       "}\n",
       "\n",
       "/* On hover */\n",
       "div.sk-estimator:hover .sk-estimator-doc-link:hover,\n",
       ".sk-estimator-doc-link:hover,\n",
       "div.sk-label-container:hover .sk-estimator-doc-link:hover,\n",
       ".sk-estimator-doc-link:hover {\n",
       "  /* unfitted */\n",
       "  background-color: var(--sklearn-color-unfitted-level-3);\n",
       "  color: var(--sklearn-color-background);\n",
       "  text-decoration: none;\n",
       "}\n",
       "\n",
       "div.sk-estimator.fitted:hover .sk-estimator-doc-link.fitted:hover,\n",
       ".sk-estimator-doc-link.fitted:hover,\n",
       "div.sk-label-container:hover .sk-estimator-doc-link.fitted:hover,\n",
       ".sk-estimator-doc-link.fitted:hover {\n",
       "  /* fitted */\n",
       "  background-color: var(--sklearn-color-fitted-level-3);\n",
       "  color: var(--sklearn-color-background);\n",
       "  text-decoration: none;\n",
       "}\n",
       "\n",
       "/* Span, style for the box shown on hovering the info icon */\n",
       ".sk-estimator-doc-link span {\n",
       "  display: none;\n",
       "  z-index: 9999;\n",
       "  position: relative;\n",
       "  font-weight: normal;\n",
       "  right: .2ex;\n",
       "  padding: .5ex;\n",
       "  margin: .5ex;\n",
       "  width: min-content;\n",
       "  min-width: 20ex;\n",
       "  max-width: 50ex;\n",
       "  color: var(--sklearn-color-text);\n",
       "  box-shadow: 2pt 2pt 4pt #999;\n",
       "  /* unfitted */\n",
       "  background: var(--sklearn-color-unfitted-level-0);\n",
       "  border: .5pt solid var(--sklearn-color-unfitted-level-3);\n",
       "}\n",
       "\n",
       ".sk-estimator-doc-link.fitted span {\n",
       "  /* fitted */\n",
       "  background: var(--sklearn-color-fitted-level-0);\n",
       "  border: var(--sklearn-color-fitted-level-3);\n",
       "}\n",
       "\n",
       ".sk-estimator-doc-link:hover span {\n",
       "  display: block;\n",
       "}\n",
       "\n",
       "/* \"?\"-specific style due to the `<a>` HTML tag */\n",
       "\n",
       "#sk-container-id-1 a.estimator_doc_link {\n",
       "  float: right;\n",
       "  font-size: 1rem;\n",
       "  line-height: 1em;\n",
       "  font-family: monospace;\n",
       "  background-color: var(--sklearn-color-background);\n",
       "  border-radius: 1rem;\n",
       "  height: 1rem;\n",
       "  width: 1rem;\n",
       "  text-decoration: none;\n",
       "  /* unfitted */\n",
       "  color: var(--sklearn-color-unfitted-level-1);\n",
       "  border: var(--sklearn-color-unfitted-level-1) 1pt solid;\n",
       "}\n",
       "\n",
       "#sk-container-id-1 a.estimator_doc_link.fitted {\n",
       "  /* fitted */\n",
       "  border: var(--sklearn-color-fitted-level-1) 1pt solid;\n",
       "  color: var(--sklearn-color-fitted-level-1);\n",
       "}\n",
       "\n",
       "/* On hover */\n",
       "#sk-container-id-1 a.estimator_doc_link:hover {\n",
       "  /* unfitted */\n",
       "  background-color: var(--sklearn-color-unfitted-level-3);\n",
       "  color: var(--sklearn-color-background);\n",
       "  text-decoration: none;\n",
       "}\n",
       "\n",
       "#sk-container-id-1 a.estimator_doc_link.fitted:hover {\n",
       "  /* fitted */\n",
       "  background-color: var(--sklearn-color-fitted-level-3);\n",
       "}\n",
       "</style><div id=\"sk-container-id-1\" class=\"sk-top-container\"><div class=\"sk-text-repr-fallback\"><pre>SVC(kernel=&#x27;linear&#x27;, random_state=42)</pre><b>In a Jupyter environment, please rerun this cell to show the HTML representation or trust the notebook. <br />On GitHub, the HTML representation is unable to render, please try loading this page with nbviewer.org.</b></div><div class=\"sk-container\" hidden><div class=\"sk-item\"><div class=\"sk-estimator fitted sk-toggleable\"><input class=\"sk-toggleable__control sk-hidden--visually\" id=\"sk-estimator-id-1\" type=\"checkbox\" checked><label for=\"sk-estimator-id-1\" class=\"sk-toggleable__label fitted sk-toggleable__label-arrow fitted\">&nbsp;&nbsp;SVC<a class=\"sk-estimator-doc-link fitted\" rel=\"noreferrer\" target=\"_blank\" href=\"https://scikit-learn.org/1.5/modules/generated/sklearn.svm.SVC.html\">?<span>Documentation for SVC</span></a><span class=\"sk-estimator-doc-link fitted\">i<span>Fitted</span></span></label><div class=\"sk-toggleable__content fitted\"><pre>SVC(kernel=&#x27;linear&#x27;, random_state=42)</pre></div> </div></div></div></div>"
      ],
      "text/plain": [
       "SVC(kernel='linear', random_state=42)"
      ]
     },
     "execution_count": 26,
     "metadata": {},
     "output_type": "execute_result"
    }
   ],
   "source": [
    "#Train Linear SVM\n",
    "svm_linear = SVC(kernel='linear', random_state=42)\n",
    "svm_linear.fit(X_train, y_train)"
   ]
  },
  {
   "cell_type": "markdown",
   "id": "df6ce0c4-815f-4e8f-88d7-71fbce94cd27",
   "metadata": {
    "jp-MarkdownHeadingCollapsed": true
   },
   "source": [
    "### Making Predictions with Linear SVM\n",
    "The trained **linear SVM** model is used to predict the target variable **'stroke'** on the test set.  \n",
    "The predictions are stored in **y_pred_linear** for evaluation."
   ]
  },
  {
   "cell_type": "code",
   "execution_count": 27,
   "id": "3ab94d35-c94f-4fbe-aaa8-8cfaf3c758d3",
   "metadata": {},
   "outputs": [],
   "source": [
    "y_pred_linear = svm_linear.predict(X_test)"
   ]
  },
  {
   "cell_type": "markdown",
   "id": "5065fe5a-f030-4e3c-80e5-c8d417b3db42",
   "metadata": {},
   "source": [
    "### Evaluating Linear SVM Performance\n",
    "The model’s performance is assessed using several metrics:  \n",
    "- **Accuracy**: overall correctness of predictions  \n",
    "- **Precision**: proportion of correctly predicted stroke cases among all predicted stroke cases  \n",
    "- **Recall (Sensitivity)**: proportion of correctly predicted stroke cases among actual stroke cases  \n",
    "- **Classification Report**: provides precision, recall, f1-score, and support for each class  \n",
    "These metrics help understand how well the model handles both classes, especially the minority class."
   ]
  },
  {
   "cell_type": "code",
   "execution_count": 28,
   "id": "dac6c26f-6433-41a2-b4f0-41f8af920ff4",
   "metadata": {
    "scrolled": true
   },
   "outputs": [
    {
     "name": "stdout",
     "output_type": "stream",
     "text": [
      "\n",
      "=== Linear SVM Performance ===\n",
      "Accuracy: 0.7514677103718199\n",
      "Precision: 0.16433566433566432\n",
      "Recall: 0.7580645161290323\n",
      "\n",
      "Classification Report:\n",
      "               precision    recall  f1-score   support\n",
      "\n",
      "           0       0.98      0.75      0.85       960\n",
      "           1       0.16      0.76      0.27        62\n",
      "\n",
      "    accuracy                           0.75      1022\n",
      "   macro avg       0.57      0.75      0.56      1022\n",
      "weighted avg       0.93      0.75      0.82      1022\n",
      "\n"
     ]
    }
   ],
   "source": [
    "# Evaluate\n",
    "print(\"\\n=== Linear SVM Performance ===\")\n",
    "print(\"Accuracy:\", accuracy_score(y_test, y_pred_linear))\n",
    "print(\"Precision:\", precision_score(y_test, y_pred_linear))\n",
    "print(\"Recall:\", recall_score(y_test, y_pred_linear))\n",
    "print(\"\\nClassification Report:\\n\", classification_report(y_test, y_pred_linear))"
   ]
  },
  {
   "cell_type": "markdown",
   "id": "6067e62b-1e12-4738-bab0-16a1a734a466",
   "metadata": {},
   "source": [
    "### Training Gaussian (RBF) SVM\n",
    "Another model, **Support Vector Machine with RBF (Radial Basis Function) kernel** is trained on the balanced training data.  \n",
    "The **RBF kernel** allows the model to capture **non-linear relationships** between features.  \n",
    "Predictions on the test set are stored in **y_pred_rbf** for evaluation.\n",
    "Evaluation metrics are calculated as above."
   ]
  },
  {
   "cell_type": "code",
   "execution_count": 29,
   "id": "a608f7d8-e141-4f12-b31d-c70a95274296",
   "metadata": {},
   "outputs": [],
   "source": [
    "# 7. Train Gaussian (RBF) SVM\n",
    "svm_rbf = SVC(kernel='rbf', random_state=42)\n",
    "svm_rbf.fit(X_train, y_train)\n",
    "y_pred_rbf = svm_rbf.predict(X_test)"
   ]
  },
  {
   "cell_type": "code",
   "execution_count": 30,
   "id": "255ee5c7-a939-4a2c-88fc-8975145e421e",
   "metadata": {},
   "outputs": [
    {
     "name": "stdout",
     "output_type": "stream",
     "text": [
      "\n",
      "=== Gaussian (RBF) SVM Performance ===\n",
      "Accuracy: 0.7778864970645792\n",
      "Precision: 0.1459227467811159\n",
      "Recall: 0.5483870967741935\n",
      "\n",
      "Classification Report:\n",
      "               precision    recall  f1-score   support\n",
      "\n",
      "           0       0.96      0.79      0.87       960\n",
      "           1       0.15      0.55      0.23        62\n",
      "\n",
      "    accuracy                           0.78      1022\n",
      "   macro avg       0.56      0.67      0.55      1022\n",
      "weighted avg       0.91      0.78      0.83      1022\n",
      "\n"
     ]
    }
   ],
   "source": [
    "# Evaluate\n",
    "print(\"\\n=== Gaussian (RBF) SVM Performance ===\")\n",
    "print(\"Accuracy:\", accuracy_score(y_test, y_pred_rbf))\n",
    "print(\"Precision:\", precision_score(y_test, y_pred_rbf))\n",
    "print(\"Recall:\", recall_score(y_test, y_pred_rbf))\n",
    "print(\"\\nClassification Report:\\n\", classification_report(y_test, y_pred_rbf))"
   ]
  },
  {
   "cell_type": "markdown",
   "id": "36b38a4a-2006-47f9-a4ca-00781ba1fb1e",
   "metadata": {},
   "source": [
    "### Confusion Matrix for RBF SVM\n",
    "A **confusion matrix** is plotted for the RBF SVM predictions to visualize model performance:  \n",
    "- **True Positives (TP)**, **True Negatives (TN)**, **False Positives (FP)**, and **False Negatives (FN)**  \n",
    "- Helps understand how well the model predicts both stroke and non-stroke cases  \n",
    "- Heatmap with annotations provides a clear visual summary of prediction results."
   ]
  },
  {
   "cell_type": "code",
   "execution_count": 31,
   "id": "eca2468d-55f3-4a24-b8a4-0ed073ba97df",
   "metadata": {
    "scrolled": true
   },
   "outputs": [
    {
     "data": {
      "image/png": "[encoded data removed]",
      "text/plain": [
       "<Figure size 640x480 with 2 Axes>"
      ]
     },
     "metadata": {},
     "output_type": "display_data"
    }
   ],
   "source": [
    "# Confusion Matrix\n",
    "cm = confusion_matrix(y_test, y_pred_rbf)\n",
    "sns.heatmap(cm, annot=True, fmt='d', cmap='Blues')\n",
    "plt.title('Confusion Matrix - RBF SVM')\n",
    "plt.xlabel('Predicted')\n",
    "plt.ylabel('True')\n",
    "plt.show()"
   ]
  },
  {
   "cell_type": "markdown",
   "id": "3abc428e-b8a5-4dfd-95f6-cc834d667c0a",
   "metadata": {},
   "source": [
    "### Training and Evaluating Decision Tree\n",
    "A **Decision Tree classifier** with **Gini impurity** and maximum depth of 5 is trained on the balanced training data.  \n",
    "Predictions on the test set are stored in **y_pred_DT**.  \n",
    "\n",
    "Model performance is evaluated using **accuracy, precision, recall**, and a **classification report** to assess its ability to predict stroke cases."
   ]
  },
  {
   "cell_type": "code",
   "execution_count": 32,
   "id": "8ba6fbdb-6f72-48d6-bd63-47706f81ae19",
   "metadata": {
    "scrolled": true
   },
   "outputs": [
    {
     "name": "stdout",
     "output_type": "stream",
     "text": [
      "\n",
      "=== Decision Tree Performance ===\n",
      "Accuracy: 0.7935420743639922\n",
      "Precision: 0.17180616740088106\n",
      "Recall: 0.6290322580645161\n",
      "\n",
      "Classification Report:\n",
      "               precision    recall  f1-score   support\n",
      "\n",
      "           0       0.97      0.80      0.88       960\n",
      "           1       0.17      0.63      0.27        62\n",
      "\n",
      "    accuracy                           0.79      1022\n",
      "   macro avg       0.57      0.72      0.57      1022\n",
      "weighted avg       0.92      0.79      0.84      1022\n",
      "\n"
     ]
    }
   ],
   "source": [
    "DT = DecisionTreeClassifier(criterion='gini',max_depth = 5)\n",
    "DT.fit(X_train, y_train)\n",
    "y_pred_DT = DT.predict(X_test)\n",
    "# Evaluate\n",
    "print(\"\\n=== Decision Tree Performance ===\")\n",
    "print(\"Accuracy:\", accuracy_score(y_test, y_pred_DT))\n",
    "print(\"Precision:\", precision_score(y_test, y_pred_DT))\n",
    "print(\"Recall:\", recall_score(y_test, y_pred_DT))\n",
    "print(\"\\nClassification Report:\\n\", classification_report(y_test, y_pred_DT))"
   ]
  },
  {
   "cell_type": "markdown",
   "id": "55c57b8f-8cc7-47f2-80b6-3e2c5cc15e16",
   "metadata": {},
   "source": [
    "### Training and Evaluating Random Forest\n",
    "A **Random Forest classifier** with 30 trees, Gini impurity, and maximum depth of 5 is trained on the balanced training data.  \n",
    "Predictions on the test set are stored in **y_pred_RF**.  \n",
    "\n",
    "Performance is evaluated using **accuracy, precision, recall**, and a **classification report** to compare with other models and assess its effectiveness in predicting stroke cases."
   ]
  },
  {
   "cell_type": "code",
   "execution_count": 33,
   "id": "b0068756-070d-4a7e-96b9-2eb9f5ac1437",
   "metadata": {
    "scrolled": true
   },
   "outputs": [
    {
     "name": "stdout",
     "output_type": "stream",
     "text": [
      "\n",
      "=== Random Forest Performance ===\n",
      "Accuracy: 0.7935420743639922\n",
      "Precision: 0.17180616740088106\n",
      "Recall: 0.6290322580645161\n",
      "\n",
      "Classification Report:\n",
      "               precision    recall  f1-score   support\n",
      "\n",
      "           0       0.97      0.80      0.88       960\n",
      "           1       0.17      0.63      0.27        62\n",
      "\n",
      "    accuracy                           0.79      1022\n",
      "   macro avg       0.57      0.72      0.57      1022\n",
      "weighted avg       0.92      0.79      0.84      1022\n",
      "\n"
     ]
    }
   ],
   "source": [
    "RF = RandomForestClassifier(n_estimators=30, criterion='gini', max_depth=5)\n",
    "RF.fit(X_train, y_train)\n",
    "y_pred_RF = DT.predict(X_test)\n",
    "# Evaluate\n",
    "print(\"\\n=== Random Forest Performance ===\")\n",
    "print(\"Accuracy:\", accuracy_score(y_test, y_pred_RF))\n",
    "print(\"Precision:\", precision_score(y_test, y_pred_RF))\n",
    "print(\"Recall:\", recall_score(y_test, y_pred_RF))\n",
    "print(\"\\nClassification Report:\\n\", classification_report(y_test, y_pred_RF))"
   ]
  },
  {
   "cell_type": "markdown",
   "id": "69cb0294-17d9-42ef-8b49-2b291c551430",
   "metadata": {},
   "source": [
    "### Model Selection with Justification\n",
    "\n",
    "The **Linear SVM** is selected as the final model because **recall for the stroke class is the highest (0.76)** among all models tested.  \n",
    "- High recall is critical in this context, as it ensures that most actual stroke cases are correctly identified (Missing a stroke case (false negative) can be dangerous or life-threatening), which is more important than overall accuracy in healthcare applications.  \n",
    "- Although the overall accuracy (0.75) and precision (0.16) are slightly lower than tree-based models, the model effectively detects the minority class, making it better suited for this predictive task.  \n",
    "\n",
    "The classification report confirms this choice: the model correctly identifies a large proportion of stroke cases (minority class) while maintaining reasonable performance on the non-stroke class."
   ]
  },
  {
   "cell_type": "markdown",
   "id": "d6a34736-6131-4a33-b8df-5b00e5953e51",
   "metadata": {},
   "source": [
    "### Model Performance Analysis\n",
    "\n",
    "The performance metrics of the trained models are **not very high**, which may seem low compared to ideal benchmarks (>0.9).  \n",
    "After applying class balancing (e.g., SMOTE), metrics dropped to around 0.75, but this is more **realistic and reliable**:  \n",
    "- The model now correctly identifies a larger proportion of stroke cases (minority class).  \n",
    "- Balancing the classes ensures the model **learns patterns from both classes**, rather than being biased toward the majority class.\n",
    "Even if metrics like accuracy decrease after balancing, the model becomes **clinically more useful**, as it can detect the minority class more effectively, which is crucial in healthcare applications like stroke prediction."
   ]
  },
  {
   "cell_type": "markdown",
   "id": "ac38e16a-4b0e-4031-8854-8417aa824d8c",
   "metadata": {},
   "source": [
    "**Suggestions to improve performance:**\n",
    "1. **Collect more data** for the minority class (stroke cases) to balance the dataset. It can provide more data patterns in stroke cases.  \n",
    "2. **Use advanced resampling techniques** like SMOTE variants or ADASYN to generate more realistic synthetic samples.  \n",
    "3. **Try ensemble methods** such as XGBoost or Balanced Random Forest, which handle imbalanced data better.  \n",
    "4. **Tune model hyperparameters** (C, gamma for SVM; depth, n_estimators for trees/forest) using cross-validation.  \n",
    "5. **Experiment with class weighting** to penalize misclassifying the minority class more heavily.  \n",
    "6. **Feature engineering**: create new relevant features or select the most informative features to improve signal for the model."
   ]
  }
 ],
 "metadata": {
  "kernelspec": {
   "display_name": "Python 3 (ipykernel)",
   "language": "python",
   "name": "python3"
  },
  "language_info": {
   "codemirror_mode": {
    "name": "ipython",
    "version": 3
   },
   "file_extension": ".py",
   "mimetype": "text/x-python",
   "name": "python",
   "nbconvert_exporter": "python",
   "pygments_lexer": "ipython3",
   "version": "3.12.4"
  }
 },
 "nbformat": 4,
 "nbformat_minor": 5
}
