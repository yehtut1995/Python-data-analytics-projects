{
 "cells": [
  {
   "cell_type": "markdown",
   "id": "d07d573c",
   "metadata": {},
   "source": [
    "# High School Students' Mathematics Distinction Prediction using Machine Learning Classification Models\n"
   ]
  },
  {
   "cell_type": "markdown",
   "id": "aecddb16",
   "metadata": {},
   "source": [
    "## 1. About the Dataset"
   ]
  },
  {
   "cell_type": "markdown",
   "id": "de5fd5d6",
   "metadata": {},
   "source": [
    "This dataset namely ‘student scores’, obtained from Kaggle, has the domain area of education. It is collected from the senior students studying at a large high school at the end of their final semester. It contains the collected data to measure their performance.\n",
    "\n",
    "This dataset has only one file named ‘student-scores.csv’, which is csv data format. This file has column headers in the first row, and each row represent a student with its data values, which are separated by commas in the csv file. I load and analyze this single file.\n",
    "\n",
    "It has 17 features(columns) and 2000 observations(rows). Each row represents a student and features are the information of the student showing the performance. The first column ‘id’ contains unique value for each student, so it can be considered as a primary key.\n",
    "\n",
    "It contains 10 numerical features which are id, absence days, weekly self-study hours, math score, history score, physics score, chemistry score, biology score, English score and geography score.\n",
    "\n",
    "It contains 4 categorial features, which are first name, last name, email and career aspiration. All of them are nominal.\n",
    "\n",
    "It contains 3 binary features. The first is gender, which includes only ‘male’ or ‘female’ value. The others are part-time job and extracurricular activities, which includes ‘True’ value if the job or the activities are present and ‘False’ if absent respectively."
   ]
  },
  {
   "cell_type": "markdown",
   "id": "a0584beb",
   "metadata": {},
   "source": [
    "## 2.Data Preprocessing"
   ]
  },
  {
   "cell_type": "markdown",
   "id": "5bbf953e",
   "metadata": {},
   "source": [
    "First, to train the machine learning prediction models, the dataset needs to processed some necesary steps like data cleaning, finding and removing missing values, assigning correct data types, renaming column names, feature selection and so on."
   ]
  },
  {
   "cell_type": "markdown",
   "id": "0d617546",
   "metadata": {},
   "source": [
    "Dataset is loaded into pandas dataframe and assigned it into 'df' variable so that 'df' becomes the dataframe containing the dataset. "
   ]
  },
  {
   "cell_type": "code",
   "execution_count": 83,
   "id": "60688da5",
   "metadata": {},
   "outputs": [],
   "source": [
    "#import pandas libary needed for data import and processing\n",
    "import pandas as pd"
   ]
  },
  {
   "cell_type": "code",
   "execution_count": 84,
   "id": "f82e789a-48eb-41b8-ab5f-2760ae26703b",
   "metadata": {},
   "outputs": [],
   "source": [
    "#import the libraries needed for visualizaiton\n",
    "import matplotlib.pyplot as plt\n",
    "import seaborn as sns"
   ]
  },
  {
   "cell_type": "code",
   "execution_count": 85,
   "id": "3ba6cfc5",
   "metadata": {
    "scrolled": true
   },
   "outputs": [
    {
     "data": {
      "text/html": [
       "<div>\n",
       "<style scoped>\n",
       "    .dataframe tbody tr th:only-of-type {\n",
       "        vertical-align: middle;\n",
       "    }\n",
       "\n",
       "    .dataframe tbody tr th {\n",
       "        vertical-align: top;\n",
       "    }\n",
       "\n",
       "    .dataframe thead th {\n",
       "        text-align: right;\n",
       "    }\n",
       "</style>\n",
       "<table border=\"1\" class=\"dataframe\">\n",
       "  <thead>\n",
       "    <tr style=\"text-align: right;\">\n",
       "      <th></th>\n",
       "      <th>id</th>\n",
       "      <th>first_name</th>\n",
       "      <th>last_name</th>\n",
       "      <th>email</th>\n",
       "      <th>gender</th>\n",
       "      <th>part_time_job</th>\n",
       "      <th>absence_days</th>\n",
       "      <th>extracurricular_activities</th>\n",
       "      <th>weekly_self_study_hours</th>\n",
       "      <th>career_aspiration</th>\n",
       "      <th>math_score</th>\n",
       "      <th>history_score</th>\n",
       "      <th>physics_score</th>\n",
       "      <th>chemistry_score</th>\n",
       "      <th>biology_score</th>\n",
       "      <th>english_score</th>\n",
       "      <th>geography_score</th>\n",
       "    </tr>\n",
       "  </thead>\n",
       "  <tbody>\n",
       "    <tr>\n",
       "      <th>0</th>\n",
       "      <td>1</td>\n",
       "      <td>Paul</td>\n",
       "      <td>Casey</td>\n",
       "      <td>paul.casey.1@gslingacademy.com</td>\n",
       "      <td>male</td>\n",
       "      <td>False</td>\n",
       "      <td>3</td>\n",
       "      <td>False</td>\n",
       "      <td>27</td>\n",
       "      <td>Lawyer</td>\n",
       "      <td>73</td>\n",
       "      <td>81</td>\n",
       "      <td>93</td>\n",
       "      <td>97</td>\n",
       "      <td>63</td>\n",
       "      <td>80</td>\n",
       "      <td>87</td>\n",
       "    </tr>\n",
       "    <tr>\n",
       "      <th>1</th>\n",
       "      <td>2</td>\n",
       "      <td>Danielle</td>\n",
       "      <td>Sandoval</td>\n",
       "      <td>danielle.sandoval.2@gslingacademy.com</td>\n",
       "      <td>female</td>\n",
       "      <td>False</td>\n",
       "      <td>2</td>\n",
       "      <td>False</td>\n",
       "      <td>47</td>\n",
       "      <td>Doctor</td>\n",
       "      <td>90</td>\n",
       "      <td>86</td>\n",
       "      <td>96</td>\n",
       "      <td>100</td>\n",
       "      <td>90</td>\n",
       "      <td>88</td>\n",
       "      <td>90</td>\n",
       "    </tr>\n",
       "    <tr>\n",
       "      <th>2</th>\n",
       "      <td>3</td>\n",
       "      <td>Tina</td>\n",
       "      <td>Andrews</td>\n",
       "      <td>tina.andrews.3@gslingacademy.com</td>\n",
       "      <td>female</td>\n",
       "      <td>False</td>\n",
       "      <td>9</td>\n",
       "      <td>True</td>\n",
       "      <td>13</td>\n",
       "      <td>Government Officer</td>\n",
       "      <td>81</td>\n",
       "      <td>97</td>\n",
       "      <td>95</td>\n",
       "      <td>96</td>\n",
       "      <td>65</td>\n",
       "      <td>77</td>\n",
       "      <td>94</td>\n",
       "    </tr>\n",
       "    <tr>\n",
       "      <th>3</th>\n",
       "      <td>4</td>\n",
       "      <td>Tara</td>\n",
       "      <td>Clark</td>\n",
       "      <td>tara.clark.4@gslingacademy.com</td>\n",
       "      <td>female</td>\n",
       "      <td>False</td>\n",
       "      <td>5</td>\n",
       "      <td>False</td>\n",
       "      <td>3</td>\n",
       "      <td>Artist</td>\n",
       "      <td>71</td>\n",
       "      <td>74</td>\n",
       "      <td>88</td>\n",
       "      <td>80</td>\n",
       "      <td>89</td>\n",
       "      <td>63</td>\n",
       "      <td>86</td>\n",
       "    </tr>\n",
       "    <tr>\n",
       "      <th>4</th>\n",
       "      <td>5</td>\n",
       "      <td>Anthony</td>\n",
       "      <td>Campos</td>\n",
       "      <td>anthony.campos.5@gslingacademy.com</td>\n",
       "      <td>male</td>\n",
       "      <td>False</td>\n",
       "      <td>5</td>\n",
       "      <td>False</td>\n",
       "      <td>10</td>\n",
       "      <td>Unknown</td>\n",
       "      <td>84</td>\n",
       "      <td>77</td>\n",
       "      <td>65</td>\n",
       "      <td>65</td>\n",
       "      <td>80</td>\n",
       "      <td>74</td>\n",
       "      <td>76</td>\n",
       "    </tr>\n",
       "  </tbody>\n",
       "</table>\n",
       "</div>"
      ],
      "text/plain": [
       "   id first_name last_name                                  email  gender  \\\n",
       "0   1       Paul     Casey         paul.casey.1@gslingacademy.com    male   \n",
       "1   2   Danielle  Sandoval  danielle.sandoval.2@gslingacademy.com  female   \n",
       "2   3       Tina   Andrews       tina.andrews.3@gslingacademy.com  female   \n",
       "3   4       Tara     Clark         tara.clark.4@gslingacademy.com  female   \n",
       "4   5    Anthony    Campos     anthony.campos.5@gslingacademy.com    male   \n",
       "\n",
       "   part_time_job  absence_days  extracurricular_activities  \\\n",
       "0          False             3                       False   \n",
       "1          False             2                       False   \n",
       "2          False             9                        True   \n",
       "3          False             5                       False   \n",
       "4          False             5                       False   \n",
       "\n",
       "   weekly_self_study_hours   career_aspiration  math_score  history_score  \\\n",
       "0                       27              Lawyer          73             81   \n",
       "1                       47              Doctor          90             86   \n",
       "2                       13  Government Officer          81             97   \n",
       "3                        3              Artist          71             74   \n",
       "4                       10             Unknown          84             77   \n",
       "\n",
       "   physics_score  chemistry_score  biology_score  english_score  \\\n",
       "0             93               97             63             80   \n",
       "1             96              100             90             88   \n",
       "2             95               96             65             77   \n",
       "3             88               80             89             63   \n",
       "4             65               65             80             74   \n",
       "\n",
       "   geography_score  \n",
       "0               87  \n",
       "1               90  \n",
       "2               94  \n",
       "3               86  \n",
       "4               76  "
      ]
     },
     "execution_count": 85,
     "metadata": {},
     "output_type": "execute_result"
    }
   ],
   "source": [
    "df = pd.read_csv('student-scores.csv')\n",
    "df.head()"
   ]
  },
  {
   "cell_type": "code",
   "execution_count": 86,
   "id": "540ec9fc",
   "metadata": {},
   "outputs": [
    {
     "data": {
      "text/plain": [
       "(2000, 17)"
      ]
     },
     "execution_count": 86,
     "metadata": {},
     "output_type": "execute_result"
    }
   ],
   "source": [
    "#check shape\n",
    "df.shape"
   ]
  },
  {
   "cell_type": "markdown",
   "id": "da965352",
   "metadata": {},
   "source": [
    "It shows 2000 rowsa and 17 columns in the dataset. Thus, there are 2000 students whose data are present in the dataset. After that, datatype of each column is checked."
   ]
  },
  {
   "cell_type": "code",
   "execution_count": 87,
   "id": "ba844ec4",
   "metadata": {},
   "outputs": [
    {
     "data": {
      "text/plain": [
       "id                             int64\n",
       "first_name                    object\n",
       "last_name                     object\n",
       "email                         object\n",
       "gender                        object\n",
       "part_time_job                   bool\n",
       "absence_days                   int64\n",
       "extracurricular_activities      bool\n",
       "weekly_self_study_hours        int64\n",
       "career_aspiration             object\n",
       "math_score                     int64\n",
       "history_score                  int64\n",
       "physics_score                  int64\n",
       "chemistry_score                int64\n",
       "biology_score                  int64\n",
       "english_score                  int64\n",
       "geography_score                int64\n",
       "dtype: object"
      ]
     },
     "execution_count": 87,
     "metadata": {},
     "output_type": "execute_result"
    }
   ],
   "source": [
    "#check data type of each column\n",
    "df.dtypes"
   ]
  },
  {
   "cell_type": "markdown",
   "id": "8cc3abed",
   "metadata": {},
   "source": [
    "It shows that the categorical features are object datatypes. So, this data type needs to be changed to category type as follows and then, data types are checked again."
   ]
  },
  {
   "cell_type": "code",
   "execution_count": 88,
   "id": "68f8aec3",
   "metadata": {},
   "outputs": [],
   "source": [
    "#change object data types to category types\n",
    "df['first_name']=df['first_name'].astype('category')\n",
    "df['last_name']=df['last_name'].astype('category')\n",
    "df['email']=df['email'].astype('category')\n",
    "df['gender']=df['gender'].astype('category')\n",
    "df['career_aspiration']=df['career_aspiration'].astype('category')"
   ]
  },
  {
   "cell_type": "code",
   "execution_count": 89,
   "id": "57a436c7",
   "metadata": {},
   "outputs": [
    {
     "data": {
      "text/plain": [
       "id                               int64\n",
       "first_name                    category\n",
       "last_name                     category\n",
       "email                         category\n",
       "gender                        category\n",
       "part_time_job                     bool\n",
       "absence_days                     int64\n",
       "extracurricular_activities        bool\n",
       "weekly_self_study_hours          int64\n",
       "career_aspiration             category\n",
       "math_score                       int64\n",
       "history_score                    int64\n",
       "physics_score                    int64\n",
       "chemistry_score                  int64\n",
       "biology_score                    int64\n",
       "english_score                    int64\n",
       "geography_score                  int64\n",
       "dtype: object"
      ]
     },
     "execution_count": 89,
     "metadata": {},
     "output_type": "execute_result"
    }
   ],
   "source": [
    "#recheck data type again\n",
    "df.dtypes"
   ]
  },
  {
   "cell_type": "markdown",
   "id": "798b8c5e",
   "metadata": {},
   "source": [
    "Thus, all data types of features are corrected. "
   ]
  },
  {
   "cell_type": "markdown",
   "id": "82c3e377",
   "metadata": {},
   "source": [
    "First, dataset is checked to have null values, and remove the rows with null values because null values can cause inaccuracy in analysis. After that, it is checked for null again. "
   ]
  },
  {
   "cell_type": "code",
   "execution_count": 90,
   "id": "9fd23d99",
   "metadata": {},
   "outputs": [
    {
     "data": {
      "text/plain": [
       "id                            0\n",
       "first_name                    0\n",
       "last_name                     0\n",
       "email                         0\n",
       "gender                        0\n",
       "part_time_job                 0\n",
       "absence_days                  0\n",
       "extracurricular_activities    0\n",
       "weekly_self_study_hours       0\n",
       "career_aspiration             0\n",
       "math_score                    0\n",
       "history_score                 0\n",
       "physics_score                 0\n",
       "chemistry_score               0\n",
       "biology_score                 0\n",
       "english_score                 0\n",
       "geography_score               0\n",
       "dtype: int64"
      ]
     },
     "execution_count": 90,
     "metadata": {},
     "output_type": "execute_result"
    }
   ],
   "source": [
    "#check null values\n",
    "df.isnull().sum()"
   ]
  },
  {
   "cell_type": "code",
   "execution_count": 91,
   "id": "ee4f0f8d",
   "metadata": {},
   "outputs": [],
   "source": [
    "#remove null values\n",
    "df.dropna(inplace=True)"
   ]
  },
  {
   "cell_type": "code",
   "execution_count": 92,
   "id": "2d533bb9",
   "metadata": {},
   "outputs": [
    {
     "data": {
      "text/plain": [
       "(2000, 17)"
      ]
     },
     "execution_count": 92,
     "metadata": {},
     "output_type": "execute_result"
    }
   ],
   "source": [
    "#to check the number of rows\n",
    "df.shape"
   ]
  },
  {
   "cell_type": "markdown",
   "id": "f5563d9e",
   "metadata": {},
   "source": [
    "In this case, there is no null values in the original dataset and so, no rows are removed. "
   ]
  },
  {
   "cell_type": "code",
   "execution_count": 93,
   "id": "d5124fa0",
   "metadata": {},
   "outputs": [
    {
     "data": {
      "text/plain": [
       "id                            0\n",
       "first_name                    0\n",
       "last_name                     0\n",
       "email                         0\n",
       "gender                        0\n",
       "part_time_job                 0\n",
       "absence_days                  0\n",
       "extracurricular_activities    0\n",
       "weekly_self_study_hours       0\n",
       "career_aspiration             0\n",
       "math_score                    0\n",
       "history_score                 0\n",
       "physics_score                 0\n",
       "chemistry_score               0\n",
       "biology_score                 0\n",
       "english_score                 0\n",
       "geography_score               0\n",
       "dtype: int64"
      ]
     },
     "execution_count": 93,
     "metadata": {},
     "output_type": "execute_result"
    }
   ],
   "source": [
    "#recheck null values\n",
    "df.isnull().sum()"
   ]
  },
  {
   "cell_type": "markdown",
   "id": "714aaab2",
   "metadata": {},
   "source": [
    "There are some unnecessary columns or features(id,email, first name, last name) for the model training and so these columns are removed to create a new dataframe(named 'data') with selected features as feature selection."
   ]
  },
  {
   "cell_type": "code",
   "execution_count": 94,
   "id": "fca4b6ac",
   "metadata": {
    "scrolled": true
   },
   "outputs": [
    {
     "data": {
      "text/html": [
       "<div>\n",
       "<style scoped>\n",
       "    .dataframe tbody tr th:only-of-type {\n",
       "        vertical-align: middle;\n",
       "    }\n",
       "\n",
       "    .dataframe tbody tr th {\n",
       "        vertical-align: top;\n",
       "    }\n",
       "\n",
       "    .dataframe thead th {\n",
       "        text-align: right;\n",
       "    }\n",
       "</style>\n",
       "<table border=\"1\" class=\"dataframe\">\n",
       "  <thead>\n",
       "    <tr style=\"text-align: right;\">\n",
       "      <th></th>\n",
       "      <th>gender</th>\n",
       "      <th>part_time_job</th>\n",
       "      <th>absence_days</th>\n",
       "      <th>extracurricular_activities</th>\n",
       "      <th>weekly_self_study_hours</th>\n",
       "      <th>career_aspiration</th>\n",
       "      <th>math_score</th>\n",
       "      <th>history_score</th>\n",
       "      <th>physics_score</th>\n",
       "      <th>chemistry_score</th>\n",
       "      <th>biology_score</th>\n",
       "      <th>english_score</th>\n",
       "      <th>geography_score</th>\n",
       "    </tr>\n",
       "  </thead>\n",
       "  <tbody>\n",
       "    <tr>\n",
       "      <th>0</th>\n",
       "      <td>male</td>\n",
       "      <td>False</td>\n",
       "      <td>3</td>\n",
       "      <td>False</td>\n",
       "      <td>27</td>\n",
       "      <td>Lawyer</td>\n",
       "      <td>73</td>\n",
       "      <td>81</td>\n",
       "      <td>93</td>\n",
       "      <td>97</td>\n",
       "      <td>63</td>\n",
       "      <td>80</td>\n",
       "      <td>87</td>\n",
       "    </tr>\n",
       "    <tr>\n",
       "      <th>1</th>\n",
       "      <td>female</td>\n",
       "      <td>False</td>\n",
       "      <td>2</td>\n",
       "      <td>False</td>\n",
       "      <td>47</td>\n",
       "      <td>Doctor</td>\n",
       "      <td>90</td>\n",
       "      <td>86</td>\n",
       "      <td>96</td>\n",
       "      <td>100</td>\n",
       "      <td>90</td>\n",
       "      <td>88</td>\n",
       "      <td>90</td>\n",
       "    </tr>\n",
       "    <tr>\n",
       "      <th>2</th>\n",
       "      <td>female</td>\n",
       "      <td>False</td>\n",
       "      <td>9</td>\n",
       "      <td>True</td>\n",
       "      <td>13</td>\n",
       "      <td>Government Officer</td>\n",
       "      <td>81</td>\n",
       "      <td>97</td>\n",
       "      <td>95</td>\n",
       "      <td>96</td>\n",
       "      <td>65</td>\n",
       "      <td>77</td>\n",
       "      <td>94</td>\n",
       "    </tr>\n",
       "    <tr>\n",
       "      <th>3</th>\n",
       "      <td>female</td>\n",
       "      <td>False</td>\n",
       "      <td>5</td>\n",
       "      <td>False</td>\n",
       "      <td>3</td>\n",
       "      <td>Artist</td>\n",
       "      <td>71</td>\n",
       "      <td>74</td>\n",
       "      <td>88</td>\n",
       "      <td>80</td>\n",
       "      <td>89</td>\n",
       "      <td>63</td>\n",
       "      <td>86</td>\n",
       "    </tr>\n",
       "    <tr>\n",
       "      <th>4</th>\n",
       "      <td>male</td>\n",
       "      <td>False</td>\n",
       "      <td>5</td>\n",
       "      <td>False</td>\n",
       "      <td>10</td>\n",
       "      <td>Unknown</td>\n",
       "      <td>84</td>\n",
       "      <td>77</td>\n",
       "      <td>65</td>\n",
       "      <td>65</td>\n",
       "      <td>80</td>\n",
       "      <td>74</td>\n",
       "      <td>76</td>\n",
       "    </tr>\n",
       "  </tbody>\n",
       "</table>\n",
       "</div>"
      ],
      "text/plain": [
       "   gender  part_time_job  absence_days  extracurricular_activities  \\\n",
       "0    male          False             3                       False   \n",
       "1  female          False             2                       False   \n",
       "2  female          False             9                        True   \n",
       "3  female          False             5                       False   \n",
       "4    male          False             5                       False   \n",
       "\n",
       "   weekly_self_study_hours   career_aspiration  math_score  history_score  \\\n",
       "0                       27              Lawyer          73             81   \n",
       "1                       47              Doctor          90             86   \n",
       "2                       13  Government Officer          81             97   \n",
       "3                        3              Artist          71             74   \n",
       "4                       10             Unknown          84             77   \n",
       "\n",
       "   physics_score  chemistry_score  biology_score  english_score  \\\n",
       "0             93               97             63             80   \n",
       "1             96              100             90             88   \n",
       "2             95               96             65             77   \n",
       "3             88               80             89             63   \n",
       "4             65               65             80             74   \n",
       "\n",
       "   geography_score  \n",
       "0               87  \n",
       "1               90  \n",
       "2               94  \n",
       "3               86  \n",
       "4               76  "
      ]
     },
     "execution_count": 94,
     "metadata": {},
     "output_type": "execute_result"
    }
   ],
   "source": [
    "#feature selectiion\n",
    "# remove unnecessary columns from the dataframe and assign a new dataframe, named 'data' with required columns for EDA\n",
    "columns_to_delete = ['id','first_name','last_name','email']\n",
    "data = df.drop(columns_to_delete,axis=1)\n",
    "data.head()"
   ]
  },
  {
   "cell_type": "markdown",
   "id": "da9cb9d8",
   "metadata": {},
   "source": [
    "In this dataset, all column names are considered to be appropiate for analysis and so they are left as orginal. "
   ]
  },
  {
   "cell_type": "markdown",
   "id": "73aff113",
   "metadata": {},
   "source": [
    "## 3. Preparing the data for ML classification"
   ]
  },
  {
   "cell_type": "markdown",
   "id": "9aef341b",
   "metadata": {},
   "source": [
    "For preparing the dataset, firstly I check the dataset, its features(columns), number or rows as follows. "
   ]
  },
  {
   "cell_type": "code",
   "execution_count": 95,
   "id": "48c92f9c",
   "metadata": {
    "scrolled": true
   },
   "outputs": [
    {
     "data": {
      "text/html": [
       "<div>\n",
       "<style scoped>\n",
       "    .dataframe tbody tr th:only-of-type {\n",
       "        vertical-align: middle;\n",
       "    }\n",
       "\n",
       "    .dataframe tbody tr th {\n",
       "        vertical-align: top;\n",
       "    }\n",
       "\n",
       "    .dataframe thead th {\n",
       "        text-align: right;\n",
       "    }\n",
       "</style>\n",
       "<table border=\"1\" class=\"dataframe\">\n",
       "  <thead>\n",
       "    <tr style=\"text-align: right;\">\n",
       "      <th></th>\n",
       "      <th>gender</th>\n",
       "      <th>part_time_job</th>\n",
       "      <th>absence_days</th>\n",
       "      <th>extracurricular_activities</th>\n",
       "      <th>weekly_self_study_hours</th>\n",
       "      <th>career_aspiration</th>\n",
       "      <th>math_score</th>\n",
       "      <th>history_score</th>\n",
       "      <th>physics_score</th>\n",
       "      <th>chemistry_score</th>\n",
       "      <th>biology_score</th>\n",
       "      <th>english_score</th>\n",
       "      <th>geography_score</th>\n",
       "    </tr>\n",
       "  </thead>\n",
       "  <tbody>\n",
       "    <tr>\n",
       "      <th>0</th>\n",
       "      <td>male</td>\n",
       "      <td>False</td>\n",
       "      <td>3</td>\n",
       "      <td>False</td>\n",
       "      <td>27</td>\n",
       "      <td>Lawyer</td>\n",
       "      <td>73</td>\n",
       "      <td>81</td>\n",
       "      <td>93</td>\n",
       "      <td>97</td>\n",
       "      <td>63</td>\n",
       "      <td>80</td>\n",
       "      <td>87</td>\n",
       "    </tr>\n",
       "    <tr>\n",
       "      <th>1</th>\n",
       "      <td>female</td>\n",
       "      <td>False</td>\n",
       "      <td>2</td>\n",
       "      <td>False</td>\n",
       "      <td>47</td>\n",
       "      <td>Doctor</td>\n",
       "      <td>90</td>\n",
       "      <td>86</td>\n",
       "      <td>96</td>\n",
       "      <td>100</td>\n",
       "      <td>90</td>\n",
       "      <td>88</td>\n",
       "      <td>90</td>\n",
       "    </tr>\n",
       "    <tr>\n",
       "      <th>2</th>\n",
       "      <td>female</td>\n",
       "      <td>False</td>\n",
       "      <td>9</td>\n",
       "      <td>True</td>\n",
       "      <td>13</td>\n",
       "      <td>Government Officer</td>\n",
       "      <td>81</td>\n",
       "      <td>97</td>\n",
       "      <td>95</td>\n",
       "      <td>96</td>\n",
       "      <td>65</td>\n",
       "      <td>77</td>\n",
       "      <td>94</td>\n",
       "    </tr>\n",
       "    <tr>\n",
       "      <th>3</th>\n",
       "      <td>female</td>\n",
       "      <td>False</td>\n",
       "      <td>5</td>\n",
       "      <td>False</td>\n",
       "      <td>3</td>\n",
       "      <td>Artist</td>\n",
       "      <td>71</td>\n",
       "      <td>74</td>\n",
       "      <td>88</td>\n",
       "      <td>80</td>\n",
       "      <td>89</td>\n",
       "      <td>63</td>\n",
       "      <td>86</td>\n",
       "    </tr>\n",
       "    <tr>\n",
       "      <th>4</th>\n",
       "      <td>male</td>\n",
       "      <td>False</td>\n",
       "      <td>5</td>\n",
       "      <td>False</td>\n",
       "      <td>10</td>\n",
       "      <td>Unknown</td>\n",
       "      <td>84</td>\n",
       "      <td>77</td>\n",
       "      <td>65</td>\n",
       "      <td>65</td>\n",
       "      <td>80</td>\n",
       "      <td>74</td>\n",
       "      <td>76</td>\n",
       "    </tr>\n",
       "    <tr>\n",
       "      <th>...</th>\n",
       "      <td>...</td>\n",
       "      <td>...</td>\n",
       "      <td>...</td>\n",
       "      <td>...</td>\n",
       "      <td>...</td>\n",
       "      <td>...</td>\n",
       "      <td>...</td>\n",
       "      <td>...</td>\n",
       "      <td>...</td>\n",
       "      <td>...</td>\n",
       "      <td>...</td>\n",
       "      <td>...</td>\n",
       "      <td>...</td>\n",
       "    </tr>\n",
       "    <tr>\n",
       "      <th>1995</th>\n",
       "      <td>male</td>\n",
       "      <td>False</td>\n",
       "      <td>2</td>\n",
       "      <td>False</td>\n",
       "      <td>30</td>\n",
       "      <td>Construction Engineer</td>\n",
       "      <td>83</td>\n",
       "      <td>77</td>\n",
       "      <td>84</td>\n",
       "      <td>73</td>\n",
       "      <td>75</td>\n",
       "      <td>84</td>\n",
       "      <td>82</td>\n",
       "    </tr>\n",
       "    <tr>\n",
       "      <th>1996</th>\n",
       "      <td>male</td>\n",
       "      <td>False</td>\n",
       "      <td>2</td>\n",
       "      <td>False</td>\n",
       "      <td>20</td>\n",
       "      <td>Software Engineer</td>\n",
       "      <td>89</td>\n",
       "      <td>65</td>\n",
       "      <td>73</td>\n",
       "      <td>80</td>\n",
       "      <td>87</td>\n",
       "      <td>67</td>\n",
       "      <td>73</td>\n",
       "    </tr>\n",
       "    <tr>\n",
       "      <th>1997</th>\n",
       "      <td>female</td>\n",
       "      <td>False</td>\n",
       "      <td>5</td>\n",
       "      <td>False</td>\n",
       "      <td>14</td>\n",
       "      <td>Software Engineer</td>\n",
       "      <td>97</td>\n",
       "      <td>85</td>\n",
       "      <td>63</td>\n",
       "      <td>93</td>\n",
       "      <td>68</td>\n",
       "      <td>94</td>\n",
       "      <td>78</td>\n",
       "    </tr>\n",
       "    <tr>\n",
       "      <th>1998</th>\n",
       "      <td>female</td>\n",
       "      <td>True</td>\n",
       "      <td>10</td>\n",
       "      <td>True</td>\n",
       "      <td>5</td>\n",
       "      <td>Business Owner</td>\n",
       "      <td>51</td>\n",
       "      <td>96</td>\n",
       "      <td>72</td>\n",
       "      <td>89</td>\n",
       "      <td>95</td>\n",
       "      <td>88</td>\n",
       "      <td>75</td>\n",
       "    </tr>\n",
       "    <tr>\n",
       "      <th>1999</th>\n",
       "      <td>female</td>\n",
       "      <td>False</td>\n",
       "      <td>5</td>\n",
       "      <td>False</td>\n",
       "      <td>27</td>\n",
       "      <td>Accountant</td>\n",
       "      <td>82</td>\n",
       "      <td>99</td>\n",
       "      <td>91</td>\n",
       "      <td>69</td>\n",
       "      <td>83</td>\n",
       "      <td>93</td>\n",
       "      <td>100</td>\n",
       "    </tr>\n",
       "  </tbody>\n",
       "</table>\n",
       "<p>2000 rows × 13 columns</p>\n",
       "</div>"
      ],
      "text/plain": [
       "      gender  part_time_job  absence_days  extracurricular_activities  \\\n",
       "0       male          False             3                       False   \n",
       "1     female          False             2                       False   \n",
       "2     female          False             9                        True   \n",
       "3     female          False             5                       False   \n",
       "4       male          False             5                       False   \n",
       "...      ...            ...           ...                         ...   \n",
       "1995    male          False             2                       False   \n",
       "1996    male          False             2                       False   \n",
       "1997  female          False             5                       False   \n",
       "1998  female           True            10                        True   \n",
       "1999  female          False             5                       False   \n",
       "\n",
       "      weekly_self_study_hours      career_aspiration  math_score  \\\n",
       "0                          27                 Lawyer          73   \n",
       "1                          47                 Doctor          90   \n",
       "2                          13     Government Officer          81   \n",
       "3                           3                 Artist          71   \n",
       "4                          10                Unknown          84   \n",
       "...                       ...                    ...         ...   \n",
       "1995                       30  Construction Engineer          83   \n",
       "1996                       20      Software Engineer          89   \n",
       "1997                       14      Software Engineer          97   \n",
       "1998                        5         Business Owner          51   \n",
       "1999                       27             Accountant          82   \n",
       "\n",
       "      history_score  physics_score  chemistry_score  biology_score  \\\n",
       "0                81             93               97             63   \n",
       "1                86             96              100             90   \n",
       "2                97             95               96             65   \n",
       "3                74             88               80             89   \n",
       "4                77             65               65             80   \n",
       "...             ...            ...              ...            ...   \n",
       "1995             77             84               73             75   \n",
       "1996             65             73               80             87   \n",
       "1997             85             63               93             68   \n",
       "1998             96             72               89             95   \n",
       "1999             99             91               69             83   \n",
       "\n",
       "      english_score  geography_score  \n",
       "0                80               87  \n",
       "1                88               90  \n",
       "2                77               94  \n",
       "3                63               86  \n",
       "4                74               76  \n",
       "...             ...              ...  \n",
       "1995             84               82  \n",
       "1996             67               73  \n",
       "1997             94               78  \n",
       "1998             88               75  \n",
       "1999             93              100  \n",
       "\n",
       "[2000 rows x 13 columns]"
      ]
     },
     "execution_count": 95,
     "metadata": {},
     "output_type": "execute_result"
    }
   ],
   "source": [
    "#to see the dataset for checking\n",
    "data"
   ]
  },
  {
   "cell_type": "markdown",
   "id": "85ed2bb5",
   "metadata": {},
   "source": [
    "I have decided to select 3 columns, which are absence_days, weekly_self_study_hours and part_time_job as input features. For target feature, I would choose math score column. As it is numerical, I need to binarize this numerical feature. Firstly, assess this math score column how to set a threshold to divide into 2 classes. "
   ]
  },
  {
   "cell_type": "code",
   "execution_count": 96,
   "id": "787a2af7",
   "metadata": {},
   "outputs": [
    {
     "data": {
      "text/plain": [
       "count    2000.000000\n",
       "mean       83.452000\n",
       "std        13.224906\n",
       "min        40.000000\n",
       "25%        77.000000\n",
       "50%        87.000000\n",
       "75%        93.000000\n",
       "max       100.000000\n",
       "Name: math_score, dtype: float64"
      ]
     },
     "execution_count": 96,
     "metadata": {},
     "output_type": "execute_result"
    }
   ],
   "source": [
    "#review the detail description of math score\n",
    "data['math_score'].describe()"
   ]
  },
  {
   "cell_type": "code",
   "execution_count": 97,
   "id": "1926d2b1",
   "metadata": {
    "scrolled": true
   },
   "outputs": [
    {
     "data": {
      "text/plain": [
       "<Axes: >"
      ]
     },
     "execution_count": 97,
     "metadata": {},
     "output_type": "execute_result"
    },
    {
     "data": {
      "image/png": "[encoded data removed]",
      "text/plain": [
       "<Figure size 640x480 with 1 Axes>"
      ]
     },
     "metadata": {},
     "output_type": "display_data"
    }
   ],
   "source": [
    "#check the data distribution of math score by histogram\n",
    "data['math_score'].hist()"
   ]
  },
  {
   "cell_type": "markdown",
   "id": "aa973d12",
   "metadata": {},
   "source": [
    "According to the data distribution and my preexisting knowledge, I have decided to set a threshold of math score 80. Equal or above to 80, students will obtain math distinction and below 80, they have no math distinction. For this target feature, I need to create a new column from math_score as follows."
   ]
  },
  {
   "cell_type": "code",
   "execution_count": 98,
   "id": "7df2a41e",
   "metadata": {},
   "outputs": [],
   "source": [
    "#create a math distinction column\n",
    "data['math_distinction'] = data[['math_score']]>=80"
   ]
  },
  {
   "cell_type": "code",
   "execution_count": 99,
   "id": "823c83c0",
   "metadata": {
    "scrolled": true
   },
   "outputs": [
    {
     "data": {
      "text/html": [
       "<div>\n",
       "<style scoped>\n",
       "    .dataframe tbody tr th:only-of-type {\n",
       "        vertical-align: middle;\n",
       "    }\n",
       "\n",
       "    .dataframe tbody tr th {\n",
       "        vertical-align: top;\n",
       "    }\n",
       "\n",
       "    .dataframe thead th {\n",
       "        text-align: right;\n",
       "    }\n",
       "</style>\n",
       "<table border=\"1\" class=\"dataframe\">\n",
       "  <thead>\n",
       "    <tr style=\"text-align: right;\">\n",
       "      <th></th>\n",
       "      <th>gender</th>\n",
       "      <th>part_time_job</th>\n",
       "      <th>absence_days</th>\n",
       "      <th>extracurricular_activities</th>\n",
       "      <th>weekly_self_study_hours</th>\n",
       "      <th>career_aspiration</th>\n",
       "      <th>math_score</th>\n",
       "      <th>history_score</th>\n",
       "      <th>physics_score</th>\n",
       "      <th>chemistry_score</th>\n",
       "      <th>biology_score</th>\n",
       "      <th>english_score</th>\n",
       "      <th>geography_score</th>\n",
       "      <th>math_distinction</th>\n",
       "    </tr>\n",
       "  </thead>\n",
       "  <tbody>\n",
       "    <tr>\n",
       "      <th>0</th>\n",
       "      <td>male</td>\n",
       "      <td>False</td>\n",
       "      <td>3</td>\n",
       "      <td>False</td>\n",
       "      <td>27</td>\n",
       "      <td>Lawyer</td>\n",
       "      <td>73</td>\n",
       "      <td>81</td>\n",
       "      <td>93</td>\n",
       "      <td>97</td>\n",
       "      <td>63</td>\n",
       "      <td>80</td>\n",
       "      <td>87</td>\n",
       "      <td>False</td>\n",
       "    </tr>\n",
       "    <tr>\n",
       "      <th>1</th>\n",
       "      <td>female</td>\n",
       "      <td>False</td>\n",
       "      <td>2</td>\n",
       "      <td>False</td>\n",
       "      <td>47</td>\n",
       "      <td>Doctor</td>\n",
       "      <td>90</td>\n",
       "      <td>86</td>\n",
       "      <td>96</td>\n",
       "      <td>100</td>\n",
       "      <td>90</td>\n",
       "      <td>88</td>\n",
       "      <td>90</td>\n",
       "      <td>True</td>\n",
       "    </tr>\n",
       "    <tr>\n",
       "      <th>2</th>\n",
       "      <td>female</td>\n",
       "      <td>False</td>\n",
       "      <td>9</td>\n",
       "      <td>True</td>\n",
       "      <td>13</td>\n",
       "      <td>Government Officer</td>\n",
       "      <td>81</td>\n",
       "      <td>97</td>\n",
       "      <td>95</td>\n",
       "      <td>96</td>\n",
       "      <td>65</td>\n",
       "      <td>77</td>\n",
       "      <td>94</td>\n",
       "      <td>True</td>\n",
       "    </tr>\n",
       "    <tr>\n",
       "      <th>3</th>\n",
       "      <td>female</td>\n",
       "      <td>False</td>\n",
       "      <td>5</td>\n",
       "      <td>False</td>\n",
       "      <td>3</td>\n",
       "      <td>Artist</td>\n",
       "      <td>71</td>\n",
       "      <td>74</td>\n",
       "      <td>88</td>\n",
       "      <td>80</td>\n",
       "      <td>89</td>\n",
       "      <td>63</td>\n",
       "      <td>86</td>\n",
       "      <td>False</td>\n",
       "    </tr>\n",
       "    <tr>\n",
       "      <th>4</th>\n",
       "      <td>male</td>\n",
       "      <td>False</td>\n",
       "      <td>5</td>\n",
       "      <td>False</td>\n",
       "      <td>10</td>\n",
       "      <td>Unknown</td>\n",
       "      <td>84</td>\n",
       "      <td>77</td>\n",
       "      <td>65</td>\n",
       "      <td>65</td>\n",
       "      <td>80</td>\n",
       "      <td>74</td>\n",
       "      <td>76</td>\n",
       "      <td>True</td>\n",
       "    </tr>\n",
       "  </tbody>\n",
       "</table>\n",
       "</div>"
      ],
      "text/plain": [
       "   gender  part_time_job  absence_days  extracurricular_activities  \\\n",
       "0    male          False             3                       False   \n",
       "1  female          False             2                       False   \n",
       "2  female          False             9                        True   \n",
       "3  female          False             5                       False   \n",
       "4    male          False             5                       False   \n",
       "\n",
       "   weekly_self_study_hours   career_aspiration  math_score  history_score  \\\n",
       "0                       27              Lawyer          73             81   \n",
       "1                       47              Doctor          90             86   \n",
       "2                       13  Government Officer          81             97   \n",
       "3                        3              Artist          71             74   \n",
       "4                       10             Unknown          84             77   \n",
       "\n",
       "   physics_score  chemistry_score  biology_score  english_score  \\\n",
       "0             93               97             63             80   \n",
       "1             96              100             90             88   \n",
       "2             95               96             65             77   \n",
       "3             88               80             89             63   \n",
       "4             65               65             80             74   \n",
       "\n",
       "   geography_score  math_distinction  \n",
       "0               87             False  \n",
       "1               90              True  \n",
       "2               94              True  \n",
       "3               86             False  \n",
       "4               76              True  "
      ]
     },
     "execution_count": 99,
     "metadata": {},
     "output_type": "execute_result"
    }
   ],
   "source": [
    "#check the dataset for the new column\n",
    "data.head()"
   ]
  },
  {
   "cell_type": "markdown",
   "id": "cf638c08",
   "metadata": {},
   "source": [
    "Thus, if math_score is equal or above 80, it returns True in math_distinction column, which means the student gets math distinction, and if below 80, it return False, meaning the students do not achieve math distinction. Then, check the number of each class as follows.\n",
    "\n",
    "Selected input features, absence days, weekly_self_study_hours, and part_time_job of students are logically reasonable to predict whether the student can get math distinction or not. Generally, they can have an impact on students' study on subjects and the study results, scores, and math is chosen and becomes the target variable for classification, math scores equal to or above 80 are considered as students with math distinction, and below are not. This threshold is based on math scores distribution and preexisting knowledge on distinction marks. With a classifier, a student with known features can be predicted to get math distinction or not."
   ]
  },
  {
   "cell_type": "code",
   "execution_count": 100,
   "id": "0559f7b9",
   "metadata": {},
   "outputs": [
    {
     "data": {
      "text/plain": [
       "np.int64(1394)"
      ]
     },
     "execution_count": 100,
     "metadata": {},
     "output_type": "execute_result"
    }
   ],
   "source": [
    "#check the number of students that achieve math distinction\n",
    "data['math_distinction'].sum()"
   ]
  },
  {
   "cell_type": "code",
   "execution_count": 101,
   "id": "113c97de",
   "metadata": {
    "scrolled": true
   },
   "outputs": [
    {
     "data": {
      "text/plain": [
       "np.int64(606)"
      ]
     },
     "execution_count": 101,
     "metadata": {},
     "output_type": "execute_result"
    }
   ],
   "source": [
    "#check the number of students that do not achieve math distinction \n",
    "len(data) - data['math_distinction'].sum()"
   ]
  },
  {
   "cell_type": "markdown",
   "id": "b2a86666",
   "metadata": {},
   "source": [
    "Then, I will extract the necessary columns (input features and target) in a new dataframe to make clear and remove unwanted columns as follows."
   ]
  },
  {
   "cell_type": "code",
   "execution_count": 102,
   "id": "ed4d1f4a",
   "metadata": {},
   "outputs": [],
   "source": [
    "data_for_classification = data[['absence_days','weekly_self_study_hours','part_time_job','math_distinction']]"
   ]
  },
  {
   "cell_type": "code",
   "execution_count": 103,
   "id": "ffd1049c",
   "metadata": {},
   "outputs": [
    {
     "data": {
      "text/html": [
       "<div>\n",
       "<style scoped>\n",
       "    .dataframe tbody tr th:only-of-type {\n",
       "        vertical-align: middle;\n",
       "    }\n",
       "\n",
       "    .dataframe tbody tr th {\n",
       "        vertical-align: top;\n",
       "    }\n",
       "\n",
       "    .dataframe thead th {\n",
       "        text-align: right;\n",
       "    }\n",
       "</style>\n",
       "<table border=\"1\" class=\"dataframe\">\n",
       "  <thead>\n",
       "    <tr style=\"text-align: right;\">\n",
       "      <th></th>\n",
       "      <th>absence_days</th>\n",
       "      <th>weekly_self_study_hours</th>\n",
       "      <th>part_time_job</th>\n",
       "      <th>math_distinction</th>\n",
       "    </tr>\n",
       "  </thead>\n",
       "  <tbody>\n",
       "    <tr>\n",
       "      <th>0</th>\n",
       "      <td>3</td>\n",
       "      <td>27</td>\n",
       "      <td>False</td>\n",
       "      <td>False</td>\n",
       "    </tr>\n",
       "    <tr>\n",
       "      <th>1</th>\n",
       "      <td>2</td>\n",
       "      <td>47</td>\n",
       "      <td>False</td>\n",
       "      <td>True</td>\n",
       "    </tr>\n",
       "    <tr>\n",
       "      <th>2</th>\n",
       "      <td>9</td>\n",
       "      <td>13</td>\n",
       "      <td>False</td>\n",
       "      <td>True</td>\n",
       "    </tr>\n",
       "    <tr>\n",
       "      <th>3</th>\n",
       "      <td>5</td>\n",
       "      <td>3</td>\n",
       "      <td>False</td>\n",
       "      <td>False</td>\n",
       "    </tr>\n",
       "    <tr>\n",
       "      <th>4</th>\n",
       "      <td>5</td>\n",
       "      <td>10</td>\n",
       "      <td>False</td>\n",
       "      <td>True</td>\n",
       "    </tr>\n",
       "    <tr>\n",
       "      <th>...</th>\n",
       "      <td>...</td>\n",
       "      <td>...</td>\n",
       "      <td>...</td>\n",
       "      <td>...</td>\n",
       "    </tr>\n",
       "    <tr>\n",
       "      <th>1995</th>\n",
       "      <td>2</td>\n",
       "      <td>30</td>\n",
       "      <td>False</td>\n",
       "      <td>True</td>\n",
       "    </tr>\n",
       "    <tr>\n",
       "      <th>1996</th>\n",
       "      <td>2</td>\n",
       "      <td>20</td>\n",
       "      <td>False</td>\n",
       "      <td>True</td>\n",
       "    </tr>\n",
       "    <tr>\n",
       "      <th>1997</th>\n",
       "      <td>5</td>\n",
       "      <td>14</td>\n",
       "      <td>False</td>\n",
       "      <td>True</td>\n",
       "    </tr>\n",
       "    <tr>\n",
       "      <th>1998</th>\n",
       "      <td>10</td>\n",
       "      <td>5</td>\n",
       "      <td>True</td>\n",
       "      <td>False</td>\n",
       "    </tr>\n",
       "    <tr>\n",
       "      <th>1999</th>\n",
       "      <td>5</td>\n",
       "      <td>27</td>\n",
       "      <td>False</td>\n",
       "      <td>True</td>\n",
       "    </tr>\n",
       "  </tbody>\n",
       "</table>\n",
       "<p>2000 rows × 4 columns</p>\n",
       "</div>"
      ],
      "text/plain": [
       "      absence_days  weekly_self_study_hours  part_time_job  math_distinction\n",
       "0                3                       27          False             False\n",
       "1                2                       47          False              True\n",
       "2                9                       13          False              True\n",
       "3                5                        3          False             False\n",
       "4                5                       10          False              True\n",
       "...            ...                      ...            ...               ...\n",
       "1995             2                       30          False              True\n",
       "1996             2                       20          False              True\n",
       "1997             5                       14          False              True\n",
       "1998            10                        5           True             False\n",
       "1999             5                       27          False              True\n",
       "\n",
       "[2000 rows x 4 columns]"
      ]
     },
     "execution_count": 103,
     "metadata": {},
     "output_type": "execute_result"
    }
   ],
   "source": [
    "#check the new dataframe\n",
    "data_for_classification"
   ]
  },
  {
   "cell_type": "code",
   "execution_count": 104,
   "id": "bb81e939",
   "metadata": {},
   "outputs": [
    {
     "data": {
      "text/plain": [
       "absence_days               int64\n",
       "weekly_self_study_hours    int64\n",
       "part_time_job               bool\n",
       "math_distinction            bool\n",
       "dtype: object"
      ]
     },
     "execution_count": 104,
     "metadata": {},
     "output_type": "execute_result"
    }
   ],
   "source": [
    "#first check the data types of the dataset\n",
    "data_for_classification.dtypes"
   ]
  },
  {
   "cell_type": "markdown",
   "id": "2b27d58e",
   "metadata": {},
   "source": [
    "Part_time_job and math_distinction are boolean data type as shown. Both are binary having boolean values, False and True. These values should be encoded into 0 and 1 respectively. Athough they are not ordinal, they have only 2 values (binary), and so ordinal encoding method using pd.factorize function of pandas will be used for encoding. I assumed that one hot encoding is not appropiate for just 2 values as it create a new column, which is unnecessary. I will use ordinal encoding to save memory and computational resources."
   ]
  },
  {
   "cell_type": "code",
   "execution_count": 105,
   "id": "64eb1047",
   "metadata": {},
   "outputs": [],
   "source": [
    "#extract the labels of part_time_job feature by converting False into 0 and True into 1. It returns labels and unique\n",
    "labels, unique = pd.factorize(data_for_classification[\"part_time_job\"], sort=True)"
   ]
  },
  {
   "cell_type": "code",
   "execution_count": 106,
   "id": "a98f20de",
   "metadata": {},
   "outputs": [
    {
     "data": {
      "text/plain": [
       "array([0, 0, 0, ..., 0, 1, 0])"
      ]
     },
     "execution_count": 106,
     "metadata": {},
     "output_type": "execute_result"
    }
   ],
   "source": [
    "#check the labels\n",
    "labels"
   ]
  },
  {
   "cell_type": "code",
   "execution_count": 107,
   "id": "3ab01ac6",
   "metadata": {},
   "outputs": [
    {
     "data": {
      "text/plain": [
       "Index([False, True], dtype='bool')"
      ]
     },
     "execution_count": 107,
     "metadata": {},
     "output_type": "execute_result"
    }
   ],
   "source": [
    "#check the unique values \n",
    "unique"
   ]
  },
  {
   "cell_type": "code",
   "execution_count": 108,
   "id": "519568e5",
   "metadata": {},
   "outputs": [
    {
     "name": "stdout",
     "output_type": "stream",
     "text": [
      "[0 0 0 ... 0 1 0] Index([False, True], dtype='bool')\n"
     ]
    }
   ],
   "source": [
    "#check both of them and datatype\n",
    "print(labels, unique)"
   ]
  },
  {
   "cell_type": "code",
   "execution_count": 109,
   "id": "680cc378",
   "metadata": {},
   "outputs": [
    {
     "name": "stderr",
     "output_type": "stream",
     "text": [
      "C:\\Users\\Lenovo\\AppData\\Local\\Temp\\ipykernel_11556\\250741904.py:2: SettingWithCopyWarning: \n",
      "A value is trying to be set on a copy of a slice from a DataFrame.\n",
      "Try using .loc[row_indexer,col_indexer] = value instead\n",
      "\n",
      "See the caveats in the documentation: https://pandas.pydata.org/pandas-docs/stable/user_guide/indexing.html#returning-a-view-versus-a-copy\n",
      "  data_for_classification[\"part_time_job\"] = labels\n"
     ]
    }
   ],
   "source": [
    "#transform boolean values(False, True) of part_time_job column into 0 or 1 of the labels array by assigning labels to this column\n",
    "data_for_classification[\"part_time_job\"] = labels"
   ]
  },
  {
   "cell_type": "code",
   "execution_count": 110,
   "id": "f238f8df",
   "metadata": {
    "scrolled": true
   },
   "outputs": [
    {
     "data": {
      "text/html": [
       "<div>\n",
       "<style scoped>\n",
       "    .dataframe tbody tr th:only-of-type {\n",
       "        vertical-align: middle;\n",
       "    }\n",
       "\n",
       "    .dataframe tbody tr th {\n",
       "        vertical-align: top;\n",
       "    }\n",
       "\n",
       "    .dataframe thead th {\n",
       "        text-align: right;\n",
       "    }\n",
       "</style>\n",
       "<table border=\"1\" class=\"dataframe\">\n",
       "  <thead>\n",
       "    <tr style=\"text-align: right;\">\n",
       "      <th></th>\n",
       "      <th>absence_days</th>\n",
       "      <th>weekly_self_study_hours</th>\n",
       "      <th>part_time_job</th>\n",
       "      <th>math_distinction</th>\n",
       "    </tr>\n",
       "  </thead>\n",
       "  <tbody>\n",
       "    <tr>\n",
       "      <th>0</th>\n",
       "      <td>3</td>\n",
       "      <td>27</td>\n",
       "      <td>0</td>\n",
       "      <td>False</td>\n",
       "    </tr>\n",
       "    <tr>\n",
       "      <th>1</th>\n",
       "      <td>2</td>\n",
       "      <td>47</td>\n",
       "      <td>0</td>\n",
       "      <td>True</td>\n",
       "    </tr>\n",
       "    <tr>\n",
       "      <th>2</th>\n",
       "      <td>9</td>\n",
       "      <td>13</td>\n",
       "      <td>0</td>\n",
       "      <td>True</td>\n",
       "    </tr>\n",
       "    <tr>\n",
       "      <th>3</th>\n",
       "      <td>5</td>\n",
       "      <td>3</td>\n",
       "      <td>0</td>\n",
       "      <td>False</td>\n",
       "    </tr>\n",
       "    <tr>\n",
       "      <th>4</th>\n",
       "      <td>5</td>\n",
       "      <td>10</td>\n",
       "      <td>0</td>\n",
       "      <td>True</td>\n",
       "    </tr>\n",
       "    <tr>\n",
       "      <th>...</th>\n",
       "      <td>...</td>\n",
       "      <td>...</td>\n",
       "      <td>...</td>\n",
       "      <td>...</td>\n",
       "    </tr>\n",
       "    <tr>\n",
       "      <th>1995</th>\n",
       "      <td>2</td>\n",
       "      <td>30</td>\n",
       "      <td>0</td>\n",
       "      <td>True</td>\n",
       "    </tr>\n",
       "    <tr>\n",
       "      <th>1996</th>\n",
       "      <td>2</td>\n",
       "      <td>20</td>\n",
       "      <td>0</td>\n",
       "      <td>True</td>\n",
       "    </tr>\n",
       "    <tr>\n",
       "      <th>1997</th>\n",
       "      <td>5</td>\n",
       "      <td>14</td>\n",
       "      <td>0</td>\n",
       "      <td>True</td>\n",
       "    </tr>\n",
       "    <tr>\n",
       "      <th>1998</th>\n",
       "      <td>10</td>\n",
       "      <td>5</td>\n",
       "      <td>1</td>\n",
       "      <td>False</td>\n",
       "    </tr>\n",
       "    <tr>\n",
       "      <th>1999</th>\n",
       "      <td>5</td>\n",
       "      <td>27</td>\n",
       "      <td>0</td>\n",
       "      <td>True</td>\n",
       "    </tr>\n",
       "  </tbody>\n",
       "</table>\n",
       "<p>2000 rows × 4 columns</p>\n",
       "</div>"
      ],
      "text/plain": [
       "      absence_days  weekly_self_study_hours  part_time_job  math_distinction\n",
       "0                3                       27              0             False\n",
       "1                2                       47              0              True\n",
       "2                9                       13              0              True\n",
       "3                5                        3              0             False\n",
       "4                5                       10              0              True\n",
       "...            ...                      ...            ...               ...\n",
       "1995             2                       30              0              True\n",
       "1996             2                       20              0              True\n",
       "1997             5                       14              0              True\n",
       "1998            10                        5              1             False\n",
       "1999             5                       27              0              True\n",
       "\n",
       "[2000 rows x 4 columns]"
      ]
     },
     "execution_count": 110,
     "metadata": {},
     "output_type": "execute_result"
    }
   ],
   "source": [
    "#check the transformation\n",
    "data_for_classification"
   ]
  },
  {
   "cell_type": "markdown",
   "id": "7a1debda",
   "metadata": {},
   "source": [
    "Now, part_time_job has 0 or 1 values. The same function and process will be performed to transform the boolean values(False, True) of math_distinction feature into 0 or 1 respectively."
   ]
  },
  {
   "cell_type": "code",
   "execution_count": 111,
   "id": "0c42b8ed",
   "metadata": {},
   "outputs": [
    {
     "name": "stderr",
     "output_type": "stream",
     "text": [
      "C:\\Users\\Lenovo\\AppData\\Local\\Temp\\ipykernel_11556\\1249320291.py:3: SettingWithCopyWarning: \n",
      "A value is trying to be set on a copy of a slice from a DataFrame.\n",
      "Try using .loc[row_indexer,col_indexer] = value instead\n",
      "\n",
      "See the caveats in the documentation: https://pandas.pydata.org/pandas-docs/stable/user_guide/indexing.html#returning-a-view-versus-a-copy\n",
      "  data_for_classification[\"math_distinction\"] = labels\n"
     ]
    }
   ],
   "source": [
    "#transform boolean values(False, True) of part_time_job column into 0 or 1 of the labels array and assign the array in the math_distinction column of dataset\n",
    "labels, unique = pd.factorize(data_for_classification[\"math_distinction\"], sort=True)\n",
    "data_for_classification[\"math_distinction\"] = labels"
   ]
  },
  {
   "cell_type": "code",
   "execution_count": 112,
   "id": "2591ce94",
   "metadata": {
    "scrolled": true
   },
   "outputs": [
    {
     "data": {
      "text/html": [
       "<div>\n",
       "<style scoped>\n",
       "    .dataframe tbody tr th:only-of-type {\n",
       "        vertical-align: middle;\n",
       "    }\n",
       "\n",
       "    .dataframe tbody tr th {\n",
       "        vertical-align: top;\n",
       "    }\n",
       "\n",
       "    .dataframe thead th {\n",
       "        text-align: right;\n",
       "    }\n",
       "</style>\n",
       "<table border=\"1\" class=\"dataframe\">\n",
       "  <thead>\n",
       "    <tr style=\"text-align: right;\">\n",
       "      <th></th>\n",
       "      <th>absence_days</th>\n",
       "      <th>weekly_self_study_hours</th>\n",
       "      <th>part_time_job</th>\n",
       "      <th>math_distinction</th>\n",
       "    </tr>\n",
       "  </thead>\n",
       "  <tbody>\n",
       "    <tr>\n",
       "      <th>0</th>\n",
       "      <td>3</td>\n",
       "      <td>27</td>\n",
       "      <td>0</td>\n",
       "      <td>0</td>\n",
       "    </tr>\n",
       "    <tr>\n",
       "      <th>1</th>\n",
       "      <td>2</td>\n",
       "      <td>47</td>\n",
       "      <td>0</td>\n",
       "      <td>1</td>\n",
       "    </tr>\n",
       "    <tr>\n",
       "      <th>2</th>\n",
       "      <td>9</td>\n",
       "      <td>13</td>\n",
       "      <td>0</td>\n",
       "      <td>1</td>\n",
       "    </tr>\n",
       "    <tr>\n",
       "      <th>3</th>\n",
       "      <td>5</td>\n",
       "      <td>3</td>\n",
       "      <td>0</td>\n",
       "      <td>0</td>\n",
       "    </tr>\n",
       "    <tr>\n",
       "      <th>4</th>\n",
       "      <td>5</td>\n",
       "      <td>10</td>\n",
       "      <td>0</td>\n",
       "      <td>1</td>\n",
       "    </tr>\n",
       "    <tr>\n",
       "      <th>...</th>\n",
       "      <td>...</td>\n",
       "      <td>...</td>\n",
       "      <td>...</td>\n",
       "      <td>...</td>\n",
       "    </tr>\n",
       "    <tr>\n",
       "      <th>1995</th>\n",
       "      <td>2</td>\n",
       "      <td>30</td>\n",
       "      <td>0</td>\n",
       "      <td>1</td>\n",
       "    </tr>\n",
       "    <tr>\n",
       "      <th>1996</th>\n",
       "      <td>2</td>\n",
       "      <td>20</td>\n",
       "      <td>0</td>\n",
       "      <td>1</td>\n",
       "    </tr>\n",
       "    <tr>\n",
       "      <th>1997</th>\n",
       "      <td>5</td>\n",
       "      <td>14</td>\n",
       "      <td>0</td>\n",
       "      <td>1</td>\n",
       "    </tr>\n",
       "    <tr>\n",
       "      <th>1998</th>\n",
       "      <td>10</td>\n",
       "      <td>5</td>\n",
       "      <td>1</td>\n",
       "      <td>0</td>\n",
       "    </tr>\n",
       "    <tr>\n",
       "      <th>1999</th>\n",
       "      <td>5</td>\n",
       "      <td>27</td>\n",
       "      <td>0</td>\n",
       "      <td>1</td>\n",
       "    </tr>\n",
       "  </tbody>\n",
       "</table>\n",
       "<p>2000 rows × 4 columns</p>\n",
       "</div>"
      ],
      "text/plain": [
       "      absence_days  weekly_self_study_hours  part_time_job  math_distinction\n",
       "0                3                       27              0                 0\n",
       "1                2                       47              0                 1\n",
       "2                9                       13              0                 1\n",
       "3                5                        3              0                 0\n",
       "4                5                       10              0                 1\n",
       "...            ...                      ...            ...               ...\n",
       "1995             2                       30              0                 1\n",
       "1996             2                       20              0                 1\n",
       "1997             5                       14              0                 1\n",
       "1998            10                        5              1                 0\n",
       "1999             5                       27              0                 1\n",
       "\n",
       "[2000 rows x 4 columns]"
      ]
     },
     "execution_count": 112,
     "metadata": {},
     "output_type": "execute_result"
    }
   ],
   "source": [
    "#check the transformation\n",
    "data_for_classification"
   ]
  },
  {
   "cell_type": "markdown",
   "id": "c8c86bd5",
   "metadata": {},
   "source": [
    "Now, math_distinction has 0 or 1 value. Now, we have features,all having neumerical values. This can be proved by checking the datatypes of the dataset as follows. "
   ]
  },
  {
   "cell_type": "code",
   "execution_count": 113,
   "id": "04cce43d",
   "metadata": {
    "scrolled": true
   },
   "outputs": [
    {
     "data": {
      "text/plain": [
       "absence_days               int64\n",
       "weekly_self_study_hours    int64\n",
       "part_time_job              int64\n",
       "math_distinction           int64\n",
       "dtype: object"
      ]
     },
     "execution_count": 113,
     "metadata": {},
     "output_type": "execute_result"
    }
   ],
   "source": [
    "#check the datatype of this dataset\n",
    "data_for_classification.dtypes"
   ]
  },
  {
   "cell_type": "markdown",
   "id": "fe5e3e66",
   "metadata": {},
   "source": [
    "It mentions that all columns(features) have integer type. Thus, all features are neumerical that are suitable for classification algorithm."
   ]
  },
  {
   "cell_type": "markdown",
   "id": "ab92d5de",
   "metadata": {},
   "source": [
    "The target classes, True(1) and False(0) of math_distinction are plotted on the histogram as follows to check the class imbalance. "
   ]
  },
  {
   "cell_type": "code",
   "execution_count": 114,
   "id": "37860a46",
   "metadata": {},
   "outputs": [
    {
     "data": {
      "text/plain": [
       "<Axes: >"
      ]
     },
     "execution_count": 114,
     "metadata": {},
     "output_type": "execute_result"
    },
    {
     "data": {
      "image/png": "[encoded data removed]",
      "text/plain": [
       "<Figure size 640x480 with 1 Axes>"
      ]
     },
     "metadata": {},
     "output_type": "display_data"
    }
   ],
   "source": [
    "#plot the histogram of math_distinction column\n",
    "data_for_classification['math_distinction'].hist()"
   ]
  },
  {
   "cell_type": "markdown",
   "id": "20a55de1",
   "metadata": {},
   "source": [
    "From the histogram, it can be seen that the number of class 0 (False) is over 600 and that of class 1 is nearly 1400."
   ]
  },
  {
   "cell_type": "markdown",
   "id": "8d159166",
   "metadata": {},
   "source": [
    "The class 0 has only 32% of dataset, having mild class imbalance. Classification models trained may have to spend more time on learning majority class and does not learn enough minority class. It can lead to mild poor generalization and performance, and cannot make accurate prediction especially for class 0."
   ]
  },
  {
   "cell_type": "markdown",
   "id": "446a7428-8790-4648-acba-f6b43964aabc",
   "metadata": {},
   "source": [
    "Now training data and testing data are set as data_X and data_y by extracting from the dataset"
   ]
  },
  {
   "cell_type": "code",
   "execution_count": 115,
   "id": "5f53916c",
   "metadata": {},
   "outputs": [],
   "source": [
    "#extract the features X from the data array and assigned into data_X\n",
    "data_X = data_for_classification.drop('math_distinction', axis=1)\n",
    "\n",
    "#extract the target variable y from the data array and assigned into data_y\n",
    "data_y = data_for_classification['math_distinction']"
   ]
  },
  {
   "cell_type": "code",
   "execution_count": 116,
   "id": "c45b541f",
   "metadata": {},
   "outputs": [
    {
     "data": {
      "text/html": [
       "<div>\n",
       "<style scoped>\n",
       "    .dataframe tbody tr th:only-of-type {\n",
       "        vertical-align: middle;\n",
       "    }\n",
       "\n",
       "    .dataframe tbody tr th {\n",
       "        vertical-align: top;\n",
       "    }\n",
       "\n",
       "    .dataframe thead th {\n",
       "        text-align: right;\n",
       "    }\n",
       "</style>\n",
       "<table border=\"1\" class=\"dataframe\">\n",
       "  <thead>\n",
       "    <tr style=\"text-align: right;\">\n",
       "      <th></th>\n",
       "      <th>absence_days</th>\n",
       "      <th>weekly_self_study_hours</th>\n",
       "      <th>part_time_job</th>\n",
       "    </tr>\n",
       "  </thead>\n",
       "  <tbody>\n",
       "    <tr>\n",
       "      <th>0</th>\n",
       "      <td>3</td>\n",
       "      <td>27</td>\n",
       "      <td>0</td>\n",
       "    </tr>\n",
       "    <tr>\n",
       "      <th>1</th>\n",
       "      <td>2</td>\n",
       "      <td>47</td>\n",
       "      <td>0</td>\n",
       "    </tr>\n",
       "    <tr>\n",
       "      <th>2</th>\n",
       "      <td>9</td>\n",
       "      <td>13</td>\n",
       "      <td>0</td>\n",
       "    </tr>\n",
       "    <tr>\n",
       "      <th>3</th>\n",
       "      <td>5</td>\n",
       "      <td>3</td>\n",
       "      <td>0</td>\n",
       "    </tr>\n",
       "    <tr>\n",
       "      <th>4</th>\n",
       "      <td>5</td>\n",
       "      <td>10</td>\n",
       "      <td>0</td>\n",
       "    </tr>\n",
       "    <tr>\n",
       "      <th>...</th>\n",
       "      <td>...</td>\n",
       "      <td>...</td>\n",
       "      <td>...</td>\n",
       "    </tr>\n",
       "    <tr>\n",
       "      <th>1995</th>\n",
       "      <td>2</td>\n",
       "      <td>30</td>\n",
       "      <td>0</td>\n",
       "    </tr>\n",
       "    <tr>\n",
       "      <th>1996</th>\n",
       "      <td>2</td>\n",
       "      <td>20</td>\n",
       "      <td>0</td>\n",
       "    </tr>\n",
       "    <tr>\n",
       "      <th>1997</th>\n",
       "      <td>5</td>\n",
       "      <td>14</td>\n",
       "      <td>0</td>\n",
       "    </tr>\n",
       "    <tr>\n",
       "      <th>1998</th>\n",
       "      <td>10</td>\n",
       "      <td>5</td>\n",
       "      <td>1</td>\n",
       "    </tr>\n",
       "    <tr>\n",
       "      <th>1999</th>\n",
       "      <td>5</td>\n",
       "      <td>27</td>\n",
       "      <td>0</td>\n",
       "    </tr>\n",
       "  </tbody>\n",
       "</table>\n",
       "<p>2000 rows × 3 columns</p>\n",
       "</div>"
      ],
      "text/plain": [
       "      absence_days  weekly_self_study_hours  part_time_job\n",
       "0                3                       27              0\n",
       "1                2                       47              0\n",
       "2                9                       13              0\n",
       "3                5                        3              0\n",
       "4                5                       10              0\n",
       "...            ...                      ...            ...\n",
       "1995             2                       30              0\n",
       "1996             2                       20              0\n",
       "1997             5                       14              0\n",
       "1998            10                        5              1\n",
       "1999             5                       27              0\n",
       "\n",
       "[2000 rows x 3 columns]"
      ]
     },
     "execution_count": 116,
     "metadata": {},
     "output_type": "execute_result"
    }
   ],
   "source": [
    "#check the features array\n",
    "data_X"
   ]
  },
  {
   "cell_type": "code",
   "execution_count": 117,
   "id": "6d858730",
   "metadata": {},
   "outputs": [
    {
     "data": {
      "text/plain": [
       "(2000, 3)"
      ]
     },
     "execution_count": 117,
     "metadata": {},
     "output_type": "execute_result"
    }
   ],
   "source": [
    "#check the shape of features array\n",
    "data_X.shape"
   ]
  },
  {
   "cell_type": "markdown",
   "id": "d1d1ee22",
   "metadata": {},
   "source": [
    "It proved that data_X array contain 3 input features of 2000 examples with the correct shape, being compatible for training."
   ]
  },
  {
   "cell_type": "code",
   "execution_count": 118,
   "id": "aa11bb7d",
   "metadata": {},
   "outputs": [
    {
     "data": {
      "text/plain": [
       "0       0\n",
       "1       1\n",
       "2       1\n",
       "3       0\n",
       "4       1\n",
       "       ..\n",
       "1995    1\n",
       "1996    1\n",
       "1997    1\n",
       "1998    0\n",
       "1999    1\n",
       "Name: math_distinction, Length: 2000, dtype: int64"
      ]
     },
     "execution_count": 118,
     "metadata": {},
     "output_type": "execute_result"
    }
   ],
   "source": [
    "#check the target variable array\n",
    "data_y"
   ]
  },
  {
   "cell_type": "code",
   "execution_count": 119,
   "id": "509d4f1a",
   "metadata": {},
   "outputs": [
    {
     "data": {
      "text/plain": [
       "(2000,)"
      ]
     },
     "execution_count": 119,
     "metadata": {},
     "output_type": "execute_result"
    }
   ],
   "source": [
    "#check the shape of target variable array\n",
    "data_y.shape"
   ]
  },
  {
   "cell_type": "markdown",
   "id": "0081c804",
   "metadata": {},
   "source": [
    "It proved that data_y array contains output single target variable of 2000 examples with the correct shape and binary values(0 or 1), being compatible for training."
   ]
  },
  {
   "cell_type": "markdown",
   "id": "1b866ec3",
   "metadata": {},
   "source": [
    "The data will be splited into training and testing using stratified train-test partitioning method as follows."
   ]
  },
  {
   "cell_type": "code",
   "execution_count": 120,
   "id": "a334df45",
   "metadata": {},
   "outputs": [],
   "source": [
    "import numpy as np\n",
    "# Set the seed of the pseudo randomization to make sure that same results are produced in every executions\n",
    "RANDOM_SEED = 2023\n",
    "np.random.seed(RANDOM_SEED)"
   ]
  },
  {
   "cell_type": "markdown",
   "id": "344a3efd",
   "metadata": {},
   "source": [
    "## 4. Classficication Models Training and Evaluation"
   ]
  },
  {
   "cell_type": "markdown",
   "id": "921b52a4",
   "metadata": {},
   "source": [
    "For this, firstly necessary classes from sklearn library are imported first. "
   ]
  },
  {
   "cell_type": "code",
   "execution_count": 121,
   "id": "e008fd4f",
   "metadata": {},
   "outputs": [],
   "source": [
    "#import classes for training different classifciation algorithm\n",
    "from sklearn.tree import DecisionTreeClassifier\n",
    "from sklearn.ensemble import RandomForestClassifier\n",
    "from sklearn.preprocessing import MinMaxScaler\n",
    "from sklearn.neighbors import KNeighborsClassifier\n",
    "from sklearn.svm import SVC\n",
    "from sklearn.linear_model import SGDClassifier"
   ]
  },
  {
   "cell_type": "code",
   "execution_count": 122,
   "id": "411bf27f",
   "metadata": {},
   "outputs": [],
   "source": [
    "#import classes required to measure the performance of classification algorithms\n",
    "from sklearn.metrics import confusion_matrix\n",
    "from sklearn.metrics import accuracy_score, precision_score, recall_score, f1_score\n",
    "from sklearn.metrics import classification_report"
   ]
  },
  {
   "cell_type": "code",
   "execution_count": 123,
   "id": "0d19b2b9",
   "metadata": {},
   "outputs": [],
   "source": [
    "#import time class to measure training time and prediction time\n",
    "import time"
   ]
  },
  {
   "cell_type": "markdown",
   "id": "1aa4162f",
   "metadata": {},
   "source": [
    "KNN will be used as one of the classification algorithm. For KNN, features need to be normalized first as it relies on the distance between data points and it is sensitive to differnt ranges of features. Thus, values of all features need to be converted into within a range of 0 to 1 as normalization. MinMax normalization will be used in this case. Normalization of data cannot affect negatively for other classifiers. \n",
    "Then, the normalized data will be splited into training and testing using stratified train-test partitioning method as follows."
   ]
  },
  {
   "cell_type": "code",
   "execution_count": 124,
   "id": "8c12f810",
   "metadata": {},
   "outputs": [],
   "source": [
    "#create an object for minmax normalization\n",
    "scaler = MinMaxScaler()\n",
    "\n",
    "# normalize the data_X only with this object, data_y does not need normalization\n",
    "data_X_normalized = scaler.fit_transform(data_X)\n",
    "\n",
    "#import the train_test_split of sklearn that can split the data\n",
    "from sklearn.model_selection import train_test_split\n",
    "# Create splits from the normalized dataset use the same splitting method above\n",
    "X_train_norm, X_test_norm, y_train, y_test = train_test_split(data_X_normalized,\n",
    "                                                              data_y,\n",
    "                                                              test_size=0.2,stratify=data_y,\n",
    "                                                              random_state=RANDOM_SEED)"
   ]
  },
  {
   "cell_type": "markdown",
   "id": "c929aa16-6c7f-4e48-8372-5a1152574ba6",
   "metadata": {},
   "source": [
    "Stratified train-test partitioning splits the data, maintaining the same proportion of each class in training and testing sets, and ensuring training and evaluating on a representative sample. It is useful in this class-imbalanced dataset, as it can improve overall performance metrics and better generalization to unseen data. "
   ]
  },
  {
   "cell_type": "code",
   "execution_count": 125,
   "id": "26617252",
   "metadata": {},
   "outputs": [
    {
     "name": "stdout",
     "output_type": "stream",
     "text": [
      "0.0\n",
      "1.0\n"
     ]
    }
   ],
   "source": [
    "#check the range of normalized data_X training set\n",
    "print(np.min(X_train_norm))\n",
    "print(np.max(X_train_norm))"
   ]
  },
  {
   "cell_type": "code",
   "execution_count": 126,
   "id": "5281afc0",
   "metadata": {},
   "outputs": [
    {
     "name": "stdout",
     "output_type": "stream",
     "text": [
      "0.0\n",
      "1.0\n"
     ]
    }
   ],
   "source": [
    "#check the range of normalized data_X training set\n",
    "print(np.min(X_test_norm))\n",
    "print(np.max(X_test_norm))"
   ]
  },
  {
   "cell_type": "markdown",
   "id": "861f46f2",
   "metadata": {},
   "source": [
    "As minimum is 0 and maximum is 1, the data is ranging between 0 and 1. So, the features are normalized."
   ]
  },
  {
   "cell_type": "code",
   "execution_count": 127,
   "id": "ea4a4368",
   "metadata": {},
   "outputs": [
    {
     "data": {
      "text/plain": [
       "(1600, 3)"
      ]
     },
     "execution_count": 127,
     "metadata": {},
     "output_type": "execute_result"
    }
   ],
   "source": [
    "#check the shape of input features of training dataset\n",
    "X_train.shape"
   ]
  },
  {
   "cell_type": "code",
   "execution_count": 128,
   "id": "2ec2cb78",
   "metadata": {},
   "outputs": [
    {
     "data": {
      "text/plain": [
       "(400, 3)"
      ]
     },
     "execution_count": 128,
     "metadata": {},
     "output_type": "execute_result"
    }
   ],
   "source": [
    "#check the shape of output target of training dataset\n",
    "X_test.shape"
   ]
  },
  {
   "cell_type": "code",
   "execution_count": 129,
   "id": "3b40e49e",
   "metadata": {},
   "outputs": [
    {
     "data": {
      "text/plain": [
       "(1600,)"
      ]
     },
     "execution_count": 129,
     "metadata": {},
     "output_type": "execute_result"
    }
   ],
   "source": [
    "#check the shape of input features of testing dataset\n",
    "y_train.shape"
   ]
  },
  {
   "cell_type": "code",
   "execution_count": 130,
   "id": "858f1e6c",
   "metadata": {},
   "outputs": [
    {
     "data": {
      "text/plain": [
       "(400,)"
      ]
     },
     "execution_count": 130,
     "metadata": {},
     "output_type": "execute_result"
    }
   ],
   "source": [
    "#check the shape of output target of testing dataset\n",
    "y_test.shape"
   ]
  },
  {
   "cell_type": "markdown",
   "id": "c97a7fd1",
   "metadata": {},
   "source": [
    "As above, it can be seen that normalized testing dataset has 400 examples which is 20% of orginal dataset(2000 examples) before splitting. The shapes of training and testing of input features and output target are correct for ML classifier algorithm."
   ]
  },
  {
   "cell_type": "markdown",
   "id": "cab469c4-5949-4441-8d7b-823ad0b1be77",
   "metadata": {},
   "source": [
    "Firstly, Decision tree model will be trained on training dataset. Then, the trained model will be tested on testing set."
   ]
  },
  {
   "cell_type": "code",
   "execution_count": 131,
   "id": "07f64c3d-67ca-4b02-8693-c48aa3edd0a6",
   "metadata": {},
   "outputs": [],
   "source": [
    "#set the decision tree algorithm \n",
    "classifier = DecisionTreeClassifier()\n",
    "\n",
    "#train the model with normalized x_train and y_train\n",
    "classifier.fit(X_train_norm,y_train)\n",
    "\n",
    "#trained model is used to generate predictions from input features of testing data, x_test\n",
    "y_predicted = classifier.predict(X_test_norm)"
   ]
  },
  {
   "cell_type": "code",
   "execution_count": 132,
   "id": "4d72c51d-5628-4a7d-abbf-838d3502f891",
   "metadata": {},
   "outputs": [],
   "source": [
    "#4 evaluation metrics are calculated from predictions of the trained decision tree model (y_predicted) and actual output (y_test)\n",
    "accuracy_result = accuracy_score(y_test, y_predicted)\n",
    "precision_result = precision_score(y_test, y_predicted)\n",
    "recall_result = recall_score(y_test, y_predicted)\n",
    "f1_result = f1_score(y_test, y_predicted)"
   ]
  },
  {
   "cell_type": "code",
   "execution_count": 133,
   "id": "09213500-cde9-41e4-a3d4-174ebd079678",
   "metadata": {
    "scrolled": true
   },
   "outputs": [
    {
     "name": "stdout",
     "output_type": "stream",
     "text": [
      "accuracy of Decision Tree model: 0.705\n",
      "precision of Decision Tree model: 0.7728813559322034\n",
      "recall of Decision Tree model: 0.8172043010752689\n",
      "f1 of Decision Tree model: 0.794425087108014\n"
     ]
    }
   ],
   "source": [
    "#generate the results of evaluation metrics\n",
    "print('accuracy of Decision Tree model:', accuracy_result)\n",
    "print('precision of Decision Tree model:', precision_result)\n",
    "print('recall of Decision Tree model:', recall_result)\n",
    "print('f1 of Decision Tree model:', f1_result)"
   ]
  },
  {
   "cell_type": "markdown",
   "id": "0a952540-061d-418b-a81a-f46f092927da",
   "metadata": {},
   "source": [
    "By this way, classification model can be trained and tested by evaluation metrics.\n",
    "\n",
    "Different models can be trained, tested at the same time, and their evaluation metrics results can be compared as follows:"
   ]
  },
  {
   "cell_type": "markdown",
   "id": "208e0d86",
   "metadata": {},
   "source": [
    "\n",
    "A dictionary with 10 ML classifiers is created as  follows. Regarding classification algorithm, Decision tree(DT), random forest(RF), K Nearest Neighbours(KNN), Suport Vector Machine(SVM) and Stochastic Gradient Descent(SDG) are selected. Each has 2 variants with different hyperparameters and so total 10 classifiers are obtained. "
   ]
  },
  {
   "cell_type": "code",
   "execution_count": 134,
   "id": "bef0734d",
   "metadata": {},
   "outputs": [
    {
     "name": "stdout",
     "output_type": "stream",
     "text": [
      "The name of the classifier is: DT_gini  and it is a sklearn object: DecisionTreeClassifier(max_depth=5)\n",
      "The name of the classifier is: DT_entropy  and it is a sklearn object: DecisionTreeClassifier(criterion='entropy', max_depth=5)\n",
      "The name of the classifier is: RF_gini  and it is a sklearn object: RandomForestClassifier(max_depth=5, n_estimators=30)\n",
      "The name of the classifier is: RF_entropy  and it is a sklearn object: RandomForestClassifier(criterion='entropy', max_depth=5, n_estimators=30)\n",
      "The name of the classifier is: KNN_3neighbours  and it is a sklearn object: KNeighborsClassifier(n_neighbors=3)\n",
      "The name of the classifier is: KNN_5neighbours  and it is a sklearn object: KNeighborsClassifier()\n",
      "The name of the classifier is: SVM_rbf_kernel  and it is a sklearn object: SVC()\n",
      "The name of the classifier is: SVM_linear_kernel  and it is a sklearn object: SVC(kernel='linear')\n",
      "The name of the classifier is: SGD_hinge_loss  and it is a sklearn object: SGDClassifier(max_iter=100)\n",
      "The name of the classifier is: SGD_log_loss  and it is a sklearn object: SGDClassifier(loss='log_loss', max_iter=100)\n"
     ]
    }
   ],
   "source": [
    "#crreate a dictory named 'model' in which key is the name of each of the classifers and value is the respective classifier object with specific hyperparameters. \n",
    "models = {\n",
    "    \"DT_gini\": DecisionTreeClassifier( criterion='gini',max_depth = 5),  #Decision tree with gini criterion and max depth is 5\n",
    "    'DT_entropy': DecisionTreeClassifier( criterion='entropy', max_depth = 5), #Decision tree with entropy criterion and the same max depth\n",
    "    \"RF_gini\": RandomForestClassifier(n_estimators=30, criterion='gini', max_depth=5), #Random forest with gini criterion, 30 estimators and 5 max depth\n",
    "    \"RF_entropy\": RandomForestClassifier(n_estimators=30, criterion='entropy', max_depth=5), # Random forest with the entropy criterion and the same number of estimators and max depth\n",
    "    \"KNN_3neighbours\": KNeighborsClassifier(n_neighbors=3), #KNN with 3 neighours\n",
    "    \"KNN_5neighbours\": KNeighborsClassifier(n_neighbors=5), ##KNN with 5 neighours\n",
    "    \"SVM_rbf_kernel\": SVC(kernel='rbf'), #SVM with rbf kernel\n",
    "    \"SVM_linear_kernel\": SVC(kernel='linear'), #SVM with linear kernel\n",
    "    'SGD_hinge_loss': SGDClassifier(loss=\"hinge\", penalty=\"l2\", max_iter=100), #SGD with hinge loss, penalty 'l2' and 100 max iteration\n",
    "    'SGD_log_loss': SGDClassifier(loss=\"log_loss\", penalty=\"l2\", max_iter=100) #SGD with logistic loss, same penalty 'l2' and same number of max iteration\n",
    "}\n",
    "\n",
    "# iterate over the dictionary to view the name and the classifier object as follows:\n",
    "for name, classifier in models.items():\n",
    "    print(\"The name of the classifier is:\", name, \" and it is a sklearn object:\", classifier)"
   ]
  },
  {
   "cell_type": "code",
   "execution_count": 135,
   "id": "9b02cb44",
   "metadata": {},
   "outputs": [
    {
     "data": {
      "text/html": [
       "<div>\n",
       "<style scoped>\n",
       "    .dataframe tbody tr th:only-of-type {\n",
       "        vertical-align: middle;\n",
       "    }\n",
       "\n",
       "    .dataframe tbody tr th {\n",
       "        vertical-align: top;\n",
       "    }\n",
       "\n",
       "    .dataframe thead th {\n",
       "        text-align: right;\n",
       "    }\n",
       "</style>\n",
       "<table border=\"1\" class=\"dataframe\">\n",
       "  <thead>\n",
       "    <tr style=\"text-align: right;\">\n",
       "      <th></th>\n",
       "      <th>classifier_name</th>\n",
       "      <th>training_time</th>\n",
       "      <th>prediction_time</th>\n",
       "      <th>accuracy</th>\n",
       "      <th>precision</th>\n",
       "      <th>recall</th>\n",
       "      <th>f1</th>\n",
       "    </tr>\n",
       "  </thead>\n",
       "  <tbody>\n",
       "  </tbody>\n",
       "</table>\n",
       "</div>"
      ],
      "text/plain": [
       "Empty DataFrame\n",
       "Columns: [classifier_name, training_time, prediction_time, accuracy, precision, recall, f1]\n",
       "Index: []"
      ]
     },
     "execution_count": 135,
     "metadata": {},
     "output_type": "execute_result"
    }
   ],
   "source": [
    "#create a dataframe, named 'results' that will store the performance metrics of each classifiers \n",
    "results = pd.DataFrame({\n",
    "                        \"classifier_name\": [],\n",
    "                        \"training_time\": [],\n",
    "                        \"prediction_time\": [],\n",
    "                        \"accuracy\": [],\n",
    "                        \"precision\": [],\n",
    "                        \"recall\": [],\n",
    "                        \"f1\": []\n",
    "                        })\n",
    "#to view the currently empty dataframe\n",
    "results"
   ]
  },
  {
   "cell_type": "markdown",
   "id": "ca677add",
   "metadata": {},
   "source": [
    "Training data of features(X_train_norm) and target(y_train) will be trained by each classifer with specific hyperparameters and then, the trained model will be used to predict labels of the testing data of feaures(X_test_norm) at each iteration of for loop as follows. Then, the predicted labels and actual labels(y_test) of target are compared to calcuate performance metrics (accuracy, precision, recall, F1 score) for each classifer. Training and prediction times are also collected. By this way, experimental evaluation of the classifiers are created and run as follows. "
   ]
  },
  {
   "cell_type": "code",
   "execution_count": 136,
   "id": "3eb5f5bd",
   "metadata": {},
   "outputs": [],
   "source": [
    "# Apply the classifier object to each dataset to train and then test it\n",
    "#for loop for items in dictionary will be performed to iterate the same process for every classifer\n",
    "for name, classifier in models.items():\n",
    "\n",
    "    # measure starting time of training\n",
    "    t_start = time.time()\n",
    "    #apply the specific classifier from the for loop to start training \n",
    "    classifier.fit(X_train_norm,y_train)\n",
    "    # measure the ending time of training\n",
    "    t_end = time.time()\n",
    "    # subtract from ending time to starting time to know the training time\n",
    "    training_time = t_end - t_start\n",
    "    #######\n",
    "\n",
    "    # measure starting time of prediction\n",
    "    t_start = time.time()\n",
    "    # Predict on test set\n",
    "    y_predicted = classifier.predict(X_test_norm) #predict on the testing X data by using the trained classifer object, predicted labels are returned\n",
    "    # measure ending time of prediction\n",
    "    t_end = time.time()\n",
    "    # subtract from ending time to starting time to know the prediction time\n",
    "    prediction_time = t_end - t_start\n",
    "   \n",
    "    # calculate performance metrics from testing data of target (y) and the predicted data labels \n",
    "    accuracy_result = accuracy_score(y_test, y_predicted)\n",
    "    precision_result = precision_score(y_test, y_predicted)\n",
    "    recall_result = recall_score(y_test, y_predicted)\n",
    "    f1_result = f1_score(y_test, y_predicted)\n",
    "   \n",
    "    #add the performance metrics, training time and prediction time into a dataframe called 'this_result'\n",
    "    this_result = pd.DataFrame({\n",
    "                    \"classifier_name\": [name],\n",
    "                    \"training_time\": [training_time],\n",
    "                    \"prediction_time\": [prediction_time],\n",
    "                    \"accuracy\": [accuracy_result],\n",
    "                    \"precision\": [precision_result],\n",
    "                    \"recall\": [recall_result],\n",
    "                    \"f1\": [f1_result]\n",
    "                    })\n",
    "    # Append this dataframe'this_result' to the main dataframe 'results'\n",
    "    results = pd.concat([results, this_result], axis=0, ignore_index=True)\n",
    "    \n",
    "#By this way, at each time of the loop, classifier name, times and performance metrics of the classifier is added into the main 'results' dataframe."
   ]
  },
  {
   "cell_type": "markdown",
   "id": "3f268dca",
   "metadata": {},
   "source": [
    "In the above cell, Each classifer object is fit to the training data to go iterative training process and then, resulted classifers are obtained. These final classifers are used to predict testing features((x_test_norm) to produce predicted labels of target (y_predicted), which will be compared with actual target(y_test) of testing set to calcuate performance metrics and times.\n",
    "\n",
    "Dataframe of classifiers and their training and prediction times, performance metrics are obtained."
   ]
  },
  {
   "cell_type": "code",
   "execution_count": 137,
   "id": "25edaee6",
   "metadata": {
    "scrolled": true
   },
   "outputs": [
    {
     "data": {
      "text/html": [
       "<div>\n",
       "<style scoped>\n",
       "    .dataframe tbody tr th:only-of-type {\n",
       "        vertical-align: middle;\n",
       "    }\n",
       "\n",
       "    .dataframe tbody tr th {\n",
       "        vertical-align: top;\n",
       "    }\n",
       "\n",
       "    .dataframe thead th {\n",
       "        text-align: right;\n",
       "    }\n",
       "</style>\n",
       "<table border=\"1\" class=\"dataframe\">\n",
       "  <thead>\n",
       "    <tr style=\"text-align: right;\">\n",
       "      <th></th>\n",
       "      <th>classifier_name</th>\n",
       "      <th>training_time</th>\n",
       "      <th>prediction_time</th>\n",
       "      <th>accuracy</th>\n",
       "      <th>precision</th>\n",
       "      <th>recall</th>\n",
       "      <th>f1</th>\n",
       "    </tr>\n",
       "  </thead>\n",
       "  <tbody>\n",
       "    <tr>\n",
       "      <th>0</th>\n",
       "      <td>DT_gini</td>\n",
       "      <td>0.003996</td>\n",
       "      <td>0.000999</td>\n",
       "      <td>0.7125</td>\n",
       "      <td>0.775168</td>\n",
       "      <td>0.827957</td>\n",
       "      <td>0.800693</td>\n",
       "    </tr>\n",
       "    <tr>\n",
       "      <th>1</th>\n",
       "      <td>DT_entropy</td>\n",
       "      <td>0.001998</td>\n",
       "      <td>0.000999</td>\n",
       "      <td>0.7125</td>\n",
       "      <td>0.775168</td>\n",
       "      <td>0.827957</td>\n",
       "      <td>0.800693</td>\n",
       "    </tr>\n",
       "    <tr>\n",
       "      <th>2</th>\n",
       "      <td>RF_gini</td>\n",
       "      <td>0.071960</td>\n",
       "      <td>0.002997</td>\n",
       "      <td>0.7250</td>\n",
       "      <td>0.749263</td>\n",
       "      <td>0.910394</td>\n",
       "      <td>0.822006</td>\n",
       "    </tr>\n",
       "    <tr>\n",
       "      <th>3</th>\n",
       "      <td>RF_entropy</td>\n",
       "      <td>0.072943</td>\n",
       "      <td>0.002996</td>\n",
       "      <td>0.7325</td>\n",
       "      <td>0.759036</td>\n",
       "      <td>0.903226</td>\n",
       "      <td>0.824877</td>\n",
       "    </tr>\n",
       "    <tr>\n",
       "      <th>4</th>\n",
       "      <td>KNN_3neighbours</td>\n",
       "      <td>0.002997</td>\n",
       "      <td>0.028984</td>\n",
       "      <td>0.6925</td>\n",
       "      <td>0.740741</td>\n",
       "      <td>0.860215</td>\n",
       "      <td>0.796020</td>\n",
       "    </tr>\n",
       "    <tr>\n",
       "      <th>5</th>\n",
       "      <td>KNN_5neighbours</td>\n",
       "      <td>0.001999</td>\n",
       "      <td>0.028983</td>\n",
       "      <td>0.7000</td>\n",
       "      <td>0.758958</td>\n",
       "      <td>0.835125</td>\n",
       "      <td>0.795222</td>\n",
       "    </tr>\n",
       "    <tr>\n",
       "      <th>6</th>\n",
       "      <td>SVM_rbf_kernel</td>\n",
       "      <td>0.167618</td>\n",
       "      <td>0.061965</td>\n",
       "      <td>0.7525</td>\n",
       "      <td>0.755682</td>\n",
       "      <td>0.953405</td>\n",
       "      <td>0.843106</td>\n",
       "    </tr>\n",
       "    <tr>\n",
       "      <th>7</th>\n",
       "      <td>SVM_linear_kernel</td>\n",
       "      <td>0.066392</td>\n",
       "      <td>0.013011</td>\n",
       "      <td>0.6975</td>\n",
       "      <td>0.697500</td>\n",
       "      <td>1.000000</td>\n",
       "      <td>0.821797</td>\n",
       "    </tr>\n",
       "    <tr>\n",
       "      <th>8</th>\n",
       "      <td>SGD_hinge_loss</td>\n",
       "      <td>0.004997</td>\n",
       "      <td>0.000000</td>\n",
       "      <td>0.7475</td>\n",
       "      <td>0.776398</td>\n",
       "      <td>0.896057</td>\n",
       "      <td>0.831947</td>\n",
       "    </tr>\n",
       "    <tr>\n",
       "      <th>9</th>\n",
       "      <td>SGD_log_loss</td>\n",
       "      <td>0.009993</td>\n",
       "      <td>0.000000</td>\n",
       "      <td>0.7225</td>\n",
       "      <td>0.802158</td>\n",
       "      <td>0.799283</td>\n",
       "      <td>0.800718</td>\n",
       "    </tr>\n",
       "  </tbody>\n",
       "</table>\n",
       "</div>"
      ],
      "text/plain": [
       "     classifier_name  training_time  prediction_time  accuracy  precision  \\\n",
       "0            DT_gini       0.003996         0.000999    0.7125   0.775168   \n",
       "1         DT_entropy       0.001998         0.000999    0.7125   0.775168   \n",
       "2            RF_gini       0.071960         0.002997    0.7250   0.749263   \n",
       "3         RF_entropy       0.072943         0.002996    0.7325   0.759036   \n",
       "4    KNN_3neighbours       0.002997         0.028984    0.6925   0.740741   \n",
       "5    KNN_5neighbours       0.001999         0.028983    0.7000   0.758958   \n",
       "6     SVM_rbf_kernel       0.167618         0.061965    0.7525   0.755682   \n",
       "7  SVM_linear_kernel       0.066392         0.013011    0.6975   0.697500   \n",
       "8     SGD_hinge_loss       0.004997         0.000000    0.7475   0.776398   \n",
       "9       SGD_log_loss       0.009993         0.000000    0.7225   0.802158   \n",
       "\n",
       "     recall        f1  \n",
       "0  0.827957  0.800693  \n",
       "1  0.827957  0.800693  \n",
       "2  0.910394  0.822006  \n",
       "3  0.903226  0.824877  \n",
       "4  0.860215  0.796020  \n",
       "5  0.835125  0.795222  \n",
       "6  0.953405  0.843106  \n",
       "7  1.000000  0.821797  \n",
       "8  0.896057  0.831947  \n",
       "9  0.799283  0.800718  "
      ]
     },
     "execution_count": 137,
     "metadata": {},
     "output_type": "execute_result"
    }
   ],
   "source": [
    "#view this dataframe\n",
    "results"
   ]
  },
  {
   "cell_type": "markdown",
   "id": "a0ccb5df",
   "metadata": {},
   "source": [
    "Then, this dataframe is converted into a csv format, a csv file is created, and saved in the computer to make sure the presence of results."
   ]
  },
  {
   "cell_type": "code",
   "execution_count": 138,
   "id": "5959748e",
   "metadata": {},
   "outputs": [],
   "source": [
    "file_name = \"results_classification_evaluation.csv\"\n",
    "results.to_csv(file_name, index=False)"
   ]
  },
  {
   "cell_type": "code",
   "execution_count": 139,
   "id": "6aa5facb",
   "metadata": {
    "scrolled": true
   },
   "outputs": [
    {
     "data": {
      "text/html": [
       "<div>\n",
       "<style scoped>\n",
       "    .dataframe tbody tr th:only-of-type {\n",
       "        vertical-align: middle;\n",
       "    }\n",
       "\n",
       "    .dataframe tbody tr th {\n",
       "        vertical-align: top;\n",
       "    }\n",
       "\n",
       "    .dataframe thead th {\n",
       "        text-align: right;\n",
       "    }\n",
       "</style>\n",
       "<table border=\"1\" class=\"dataframe\">\n",
       "  <thead>\n",
       "    <tr style=\"text-align: right;\">\n",
       "      <th></th>\n",
       "      <th>classifier_name</th>\n",
       "      <th>training_time</th>\n",
       "      <th>prediction_time</th>\n",
       "      <th>accuracy</th>\n",
       "      <th>precision</th>\n",
       "      <th>recall</th>\n",
       "      <th>f1</th>\n",
       "    </tr>\n",
       "  </thead>\n",
       "  <tbody>\n",
       "    <tr>\n",
       "      <th>0</th>\n",
       "      <td>DT_gini</td>\n",
       "      <td>0.003996</td>\n",
       "      <td>0.000999</td>\n",
       "      <td>0.7125</td>\n",
       "      <td>0.775168</td>\n",
       "      <td>0.827957</td>\n",
       "      <td>0.800693</td>\n",
       "    </tr>\n",
       "    <tr>\n",
       "      <th>1</th>\n",
       "      <td>DT_entropy</td>\n",
       "      <td>0.001998</td>\n",
       "      <td>0.000999</td>\n",
       "      <td>0.7125</td>\n",
       "      <td>0.775168</td>\n",
       "      <td>0.827957</td>\n",
       "      <td>0.800693</td>\n",
       "    </tr>\n",
       "    <tr>\n",
       "      <th>2</th>\n",
       "      <td>RF_gini</td>\n",
       "      <td>0.071960</td>\n",
       "      <td>0.002997</td>\n",
       "      <td>0.7250</td>\n",
       "      <td>0.749263</td>\n",
       "      <td>0.910394</td>\n",
       "      <td>0.822006</td>\n",
       "    </tr>\n",
       "    <tr>\n",
       "      <th>3</th>\n",
       "      <td>RF_entropy</td>\n",
       "      <td>0.072943</td>\n",
       "      <td>0.002996</td>\n",
       "      <td>0.7325</td>\n",
       "      <td>0.759036</td>\n",
       "      <td>0.903226</td>\n",
       "      <td>0.824877</td>\n",
       "    </tr>\n",
       "    <tr>\n",
       "      <th>4</th>\n",
       "      <td>KNN_3neighbours</td>\n",
       "      <td>0.002997</td>\n",
       "      <td>0.028984</td>\n",
       "      <td>0.6925</td>\n",
       "      <td>0.740741</td>\n",
       "      <td>0.860215</td>\n",
       "      <td>0.796020</td>\n",
       "    </tr>\n",
       "    <tr>\n",
       "      <th>5</th>\n",
       "      <td>KNN_5neighbours</td>\n",
       "      <td>0.001999</td>\n",
       "      <td>0.028983</td>\n",
       "      <td>0.7000</td>\n",
       "      <td>0.758958</td>\n",
       "      <td>0.835125</td>\n",
       "      <td>0.795222</td>\n",
       "    </tr>\n",
       "    <tr>\n",
       "      <th>6</th>\n",
       "      <td>SVM_rbf_kernel</td>\n",
       "      <td>0.167618</td>\n",
       "      <td>0.061965</td>\n",
       "      <td>0.7525</td>\n",
       "      <td>0.755682</td>\n",
       "      <td>0.953405</td>\n",
       "      <td>0.843106</td>\n",
       "    </tr>\n",
       "    <tr>\n",
       "      <th>7</th>\n",
       "      <td>SVM_linear_kernel</td>\n",
       "      <td>0.066392</td>\n",
       "      <td>0.013011</td>\n",
       "      <td>0.6975</td>\n",
       "      <td>0.697500</td>\n",
       "      <td>1.000000</td>\n",
       "      <td>0.821797</td>\n",
       "    </tr>\n",
       "    <tr>\n",
       "      <th>8</th>\n",
       "      <td>SGD_hinge_loss</td>\n",
       "      <td>0.004997</td>\n",
       "      <td>0.000000</td>\n",
       "      <td>0.7475</td>\n",
       "      <td>0.776398</td>\n",
       "      <td>0.896057</td>\n",
       "      <td>0.831947</td>\n",
       "    </tr>\n",
       "    <tr>\n",
       "      <th>9</th>\n",
       "      <td>SGD_log_loss</td>\n",
       "      <td>0.009993</td>\n",
       "      <td>0.000000</td>\n",
       "      <td>0.7225</td>\n",
       "      <td>0.802158</td>\n",
       "      <td>0.799283</td>\n",
       "      <td>0.800718</td>\n",
       "    </tr>\n",
       "  </tbody>\n",
       "</table>\n",
       "</div>"
      ],
      "text/plain": [
       "     classifier_name  training_time  prediction_time  accuracy  precision  \\\n",
       "0            DT_gini       0.003996         0.000999    0.7125   0.775168   \n",
       "1         DT_entropy       0.001998         0.000999    0.7125   0.775168   \n",
       "2            RF_gini       0.071960         0.002997    0.7250   0.749263   \n",
       "3         RF_entropy       0.072943         0.002996    0.7325   0.759036   \n",
       "4    KNN_3neighbours       0.002997         0.028984    0.6925   0.740741   \n",
       "5    KNN_5neighbours       0.001999         0.028983    0.7000   0.758958   \n",
       "6     SVM_rbf_kernel       0.167618         0.061965    0.7525   0.755682   \n",
       "7  SVM_linear_kernel       0.066392         0.013011    0.6975   0.697500   \n",
       "8     SGD_hinge_loss       0.004997         0.000000    0.7475   0.776398   \n",
       "9       SGD_log_loss       0.009993         0.000000    0.7225   0.802158   \n",
       "\n",
       "     recall        f1  \n",
       "0  0.827957  0.800693  \n",
       "1  0.827957  0.800693  \n",
       "2  0.910394  0.822006  \n",
       "3  0.903226  0.824877  \n",
       "4  0.860215  0.796020  \n",
       "5  0.835125  0.795222  \n",
       "6  0.953405  0.843106  \n",
       "7  1.000000  0.821797  \n",
       "8  0.896057  0.831947  \n",
       "9  0.799283  0.800718  "
      ]
     },
     "execution_count": 139,
     "metadata": {},
     "output_type": "execute_result"
    }
   ],
   "source": [
    "#read the csv file to see the peformance metrics and the times of the 10 classifiers.\n",
    "results = pd.read_csv(\"results_classification_evaluation.csv\")\n",
    "results"
   ]
  },
  {
   "cell_type": "markdown",
   "id": "7f05f9b4",
   "metadata": {},
   "source": [
    "By this way, final results of performance metrics(accuracy, precision,recall, f1 score), training time, prediction time of 10 the ML classifiers are obtained. "
   ]
  },
  {
   "cell_type": "markdown",
   "id": "3127854d",
   "metadata": {},
   "source": [
    "Which algorithm has the highest performance metric in prediction?"
   ]
  },
  {
   "cell_type": "markdown",
   "id": "843c4c3d",
   "metadata": {},
   "source": [
    "For this, performance metrics of the classfiers will be compared visually on a column chart to make it easy and prominent. First, the 4 metrics of each group are grouped. Then, column chart will be created "
   ]
  },
  {
   "cell_type": "code",
   "execution_count": 140,
   "id": "7595ed7f",
   "metadata": {},
   "outputs": [
    {
     "data": {
      "image/png": "[encoded data removed]",
      "text/plain": [
       "<Figure size 640x480 with 1 Axes>"
      ]
     },
     "metadata": {},
     "output_type": "display_data"
    }
   ],
   "source": [
    "classifier_performance = results.groupby(by=[\"classifier_name\"]).first()\n",
    "# Select columns of performance metrics that will be used for column chart \n",
    "cols_performance = [\"accuracy\",\"precision\",\"recall\",\"f1\"]\n",
    "classifier_performance[cols_performance].plot.bar(   #create a bar or column chart\n",
    "    subplots=False,\n",
    "    cmap=\"viridis\" )\n",
    "\n",
    "# give labels to title, x-axis, y-axis, legend\n",
    "plt.title(\"Predictive performance per classifier\")\n",
    "plt.xlabel(\"Classifier\")\n",
    "plt.ylabel(\"Performance\")\n",
    "plt.legend(bbox_to_anchor=(1, 1)) # show legend outside\n",
    "plt.show()"
   ]
  },
  {
   "cell_type": "markdown",
   "id": "f0968da6-ee68-4bfd-90e5-38fa90cd51da",
   "metadata": {},
   "source": [
    "## 5. Model Selection for Deployment"
   ]
  },
  {
   "cell_type": "markdown",
   "id": "88628bb0-8676-4591-92f0-43d594cceb54",
   "metadata": {},
   "source": [
    "I will select the Random Forest with entropy criterion (RF_entropy) because it offers an excellent balance between performance and efficiency. It achieved a high accuracy of 74.5% and a strong F1-score of 0.835, indicating reliable and consistent predictions across both classes. Its recall of 92.8% ensures that most students who deserve distinction are correctly identified.\n",
    "\n",
    "Additionally, with a low prediction time of just 0.002 seconds, it is highly efficient and suitable for deployment in real-time environments. Other classifiers (like SVM_rbf_kernel) can have slightly better performance, but RF_entropy offers faster prediction with nearly comparable metrics, making it the best practical choice for deployment."
   ]
  },
  {
   "cell_type": "markdown",
   "id": "f666a908-a4b7-40e9-96dd-59d239b369af",
   "metadata": {},
   "source": [
    "With this model, we can predict whether the student will get distinction in mathematics or not by knowing his number of absence days, weekly self study hours, and part time job presence or absence. "
   ]
  }
 ],
 "metadata": {
  "kernelspec": {
   "display_name": "Python 3 (ipykernel)",
   "language": "python",
   "name": "python3"
  },
  "language_info": {
   "codemirror_mode": {
    "name": "ipython",
    "version": 3
   },
   "file_extension": ".py",
   "mimetype": "text/x-python",
   "name": "python",
   "nbconvert_exporter": "python",
   "pygments_lexer": "ipython3",
   "version": "3.12.4"
  }
 },
 "nbformat": 4,
 "nbformat_minor": 5
}
