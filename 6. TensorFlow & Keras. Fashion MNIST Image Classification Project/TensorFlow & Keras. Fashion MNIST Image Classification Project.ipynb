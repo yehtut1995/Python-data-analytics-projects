{
 "cells": [
  {
   "cell_type": "markdown",
   "id": "202a47a8",
   "metadata": {},
   "source": [
    "# Fashion MNIST Image Classification using TensorFlow\n",
    "\n",
    "## Project Overview\n",
    "This project demonstrates how to build, train, and evaluate a **neural network model** using **TensorFlow and Keras** to classify images from the **Fashion MNIST dataset**. The Fashion MNIST dataset is a collection of 70,000 grayscale images of 10 different clothing categories such as shirts, shoes, and bags. Each image is 28×28 pixels in size.\n",
    "\n",
    "The goal of this project is to develop a machine learning model that can automatically recognize and classify clothing items based on their pixel patterns. It provides a foundation for understanding how image classification works using deep learning.\n",
    "\n",
    "\n",
    "## Objectives\n",
    "- Load and explore the Fashion MNIST dataset  \n",
    "- Preprocess and normalize image data  \n",
    "- Build and train a neural network using TensorFlow’s Keras API  \n",
    "- Evaluate model performance on test data  \n",
    "- Visualize predictions and improve model accuracy using callbacks  \n",
    "\n",
    "\n",
    "## Tools and Libraries\n",
    "- **Python** — programming language  \n",
    "- **TensorFlow / Keras** — for building and training the neural network  \n",
    "- **NumPy** — for numerical operations  \n",
    "- **Matplotlib** — for data visualization  \n",
    "\n",
    "\n",
    "## Expected Outcome\n",
    "After training, the model should be able to accurately classify images of clothing with around **90% accuracy**. This project also demonstrates the use of **callbacks** to stop training automatically once the model reaches a predefined accuracy threshold.\n",
    "\n",
    "\n",
    "## Key Learning Points\n",
    "- Basic structure of a neural network (input, hidden, and output layers)  \n",
    "- Activation functions (`ReLU`, `Softmax`)  \n",
    "- Data normalization and its impact on performance  \n",
    "- Implementing custom callbacks in TensorFlow  \n",
    "\n",
    "\n",
    "*This notebook is part of a portfolio project to showcase practical skills in deep learning and TensorFlow for image recognition tasks.*"
   ]
  },
  {
   "cell_type": "markdown",
   "id": "d134c86a",
   "metadata": {},
   "source": [
    "## Import TensorFlow Library\n",
    "\n",
    "The first step is to import **TensorFlow**, an open-source deep learning framework developed by Google.  \n",
    "TensorFlow provides powerful tools for building and training machine learning and neural network models.  \n",
    "In this project, it will be used to create and train a neural network that classifies images from the Fashion MNIST dataset.\n"
   ]
  },
  {
   "cell_type": "code",
   "execution_count": 6,
   "id": "d90a98f9",
   "metadata": {},
   "outputs": [],
   "source": [
    "import tensorflow as tf"
   ]
  },
  {
   "cell_type": "code",
   "execution_count": 7,
   "id": "b4c77a79-741e-41cc-a1a3-ecfc76d1357d",
   "metadata": {},
   "outputs": [
    {
     "name": "stdout",
     "output_type": "stream",
     "text": [
      "2.20.0\n"
     ]
    }
   ],
   "source": [
    "# check TensorFlow version  \n",
    "print(tf.__version__)"
   ]
  },
  {
   "cell_type": "markdown",
   "id": "984661e7",
   "metadata": {},
   "source": [
    "## Load the Fashion MNIST Dataset\n",
    "\n",
    "TensorFlow includes several built-in datasets through its **Keras API**, and one of them is the **Fashion MNIST dataset**.  \n",
    "This dataset consists of **70,000 grayscale images** (28×28 pixels) of various clothing items, split into **60,000 training images** and **10,000 test images**.\n",
    "\n",
    "| Label | Category      |\n",
    "| :---: | :------------ |\n",
    "|   0   | T-shirt / Top |\n",
    "|   1   | Trouser       |\n",
    "|   2   | Pullover      |\n",
    "|   3   | Dress         |\n",
    "|   4   | Coat          |\n",
    "|   5   | Sandal        |\n",
    "|   6   | Shirt         |\n",
    "|   7   | Sneaker       |\n",
    "|   8   | Bag           |\n",
    "|   9   | Ankle Boot    |\n",
    "\n"
   ]
  },
  {
   "cell_type": "code",
   "execution_count": 8,
   "id": "1de040db-2ce0-45c9-b159-83d7da5c8e82",
   "metadata": {},
   "outputs": [],
   "source": [
    "fmnist = tf.keras.datasets.fashion_mnist"
   ]
  },
  {
   "cell_type": "markdown",
   "id": "1397127f",
   "metadata": {},
   "source": [
    "## Split the Dataset into Training and Testing Sets\n",
    "\n",
    "The Fashion MNIST dataset is divided into two main parts — one for **training the model** and another for **testing its performance**.  \n",
    "We can load both parts using the `.load_data()` method from TensorFlow.\n"
   ]
  },
  {
   "cell_type": "code",
   "execution_count": 9,
   "id": "efa8ecff-1202-4715-a69d-43150c40011e",
   "metadata": {},
   "outputs": [],
   "source": [
    "(training_images, training_labels),(test_images, test_labels) = fmnist.load_data()"
   ]
  },
  {
   "cell_type": "code",
   "execution_count": 10,
   "id": "f1bd21b5-3363-43a1-a4b6-2850a8ee77c8",
   "metadata": {},
   "outputs": [
    {
     "data": {
      "text/plain": [
       "(60000, 28, 28)"
      ]
     },
     "execution_count": 10,
     "metadata": {},
     "output_type": "execute_result"
    }
   ],
   "source": [
    " #check shape of training images\n",
    "training_images.shape"
   ]
  },
  {
   "cell_type": "code",
   "execution_count": 11,
   "id": "7a399b96-4f08-4ddc-86c8-9520001a1b90",
   "metadata": {},
   "outputs": [
    {
     "data": {
      "text/plain": [
       "(60000,)"
      ]
     },
     "execution_count": 11,
     "metadata": {},
     "output_type": "execute_result"
    }
   ],
   "source": [
    "#check shape of training labels \n",
    "training_labels.shape"
   ]
  },
  {
   "cell_type": "code",
   "execution_count": 12,
   "id": "6b060f50-3120-4507-83dd-0eb8b1f5c1b7",
   "metadata": {},
   "outputs": [
    {
     "data": {
      "text/plain": [
       "(10000, 28, 28)"
      ]
     },
     "execution_count": 12,
     "metadata": {},
     "output_type": "execute_result"
    }
   ],
   "source": [
    "#check shape of testing images\n",
    "test_images.shape"
   ]
  },
  {
   "cell_type": "code",
   "execution_count": 13,
   "id": "aa589844-06a4-4b5a-8788-4e8a24384d09",
   "metadata": {},
   "outputs": [
    {
     "data": {
      "text/plain": [
       "(10000,)"
      ]
     },
     "execution_count": 13,
     "metadata": {},
     "output_type": "execute_result"
    }
   ],
   "source": [
    "#check shape of testing labels\n",
    "test_labels.shape"
   ]
  },
  {
   "cell_type": "markdown",
   "id": "2a855231",
   "metadata": {},
   "source": [
    "## Explore and Visualize the Dataset\n",
    "\n",
    "Before training the model, it’s important to **explore** the dataset to understand what the images and labels look like.  \n",
    "Here, we use **NumPy** and **Matplotlib** to inspect and visualize sample images.\n"
   ]
  },
  {
   "cell_type": "code",
   "execution_count": 14,
   "id": "6fb49229-c725-4400-9179-6134c5e6a888",
   "metadata": {
    "scrolled": true
   },
   "outputs": [
    {
     "name": "stdout",
     "output_type": "stream",
     "text": [
      "LABEL: 9\n",
      "\n",
      " IMAGE PIXEY ARRAY:[[  0   0   0   0   0   0   0   0   0   0   0   0   0   0   0   0   0   0   0   0   0   0   0   0   0   0   0   0]\n",
      " [  0   0   0   0   0   0   0   0   0   0   0   0   0   0   0   0   0   0   0   0   0   0   0   0   0   0   0   0]\n",
      " [  0   0   0   0   0   0   0   0   0   0   0   0   0   0   0   0   0   0   0   0   0   0   0   0   0   0   0   0]\n",
      " [  0   0   0   0   0   0   0   0   0   0   0   0   1   0   0  13  73   0   0   1   4   0   0   0   0   1   1   0]\n",
      " [  0   0   0   0   0   0   0   0   0   0   0   0   3   0  36 136 127  62  54   0   0   0   1   3   4   0   0   3]\n",
      " [  0   0   0   0   0   0   0   0   0   0   0   0   6   0 102 204 176 134 144 123  23   0   0   0   0  12  10   0]\n",
      " [  0   0   0   0   0   0   0   0   0   0   0   0   0   0 155 236 207 178 107 156 161 109  64  23  77 130  72  15]\n",
      " [  0   0   0   0   0   0   0   0   0   0   0   1   0  69 207 223 218 216 216 163 127 121 122 146 141  88 172  66]\n",
      " [  0   0   0   0   0   0   0   0   0   1   1   1   0 200 232 232 233 229 223 223 215 213 164 127 123 196 229   0]\n",
      " [  0   0   0   0   0   0   0   0   0   0   0   0   0 183 225 216 223 228 235 227 224 222 224 221 223 245 173   0]\n",
      " [  0   0   0   0   0   0   0   0   0   0   0   0   0 193 228 218 213 198 180 212 210 211 213 223 220 243 202   0]\n",
      " [  0   0   0   0   0   0   0   0   0   1   3   0  12 219 220 212 218 192 169 227 208 218 224 212 226 197 209  52]\n",
      " [  0   0   0   0   0   0   0   0   0   0   6   0  99 244 222 220 218 203 198 221 215 213 222 220 245 119 167  56]\n",
      " [  0   0   0   0   0   0   0   0   0   4   0   0  55 236 228 230 228 240 232 213 218 223 234 217 217 209  92   0]\n",
      " [  0   0   1   4   6   7   2   0   0   0   0   0 237 226 217 223 222 219 222 221 216 223 229 215 218 255  77   0]\n",
      " [  0   3   0   0   0   0   0   0   0  62 145 204 228 207 213 221 218 208 211 218 224 223 219 215 224 244 159   0]\n",
      " [  0   0   0   0  18  44  82 107 189 228 220 222 217 226 200 205 211 230 224 234 176 188 250 248 233 238 215   0]\n",
      " [  0  57 187 208 224 221 224 208 204 214 208 209 200 159 245 193 206 223 255 255 221 234 221 211 220 232 246   0]\n",
      " [  3 202 228 224 221 211 211 214 205 205 205 220 240  80 150 255 229 221 188 154 191 210 204 209 222 228 225   0]\n",
      " [ 98 233 198 210 222 229 229 234 249 220 194 215 217 241  65  73 106 117 168 219 221 215 217 223 223 224 229  29]\n",
      " [ 75 204 212 204 193 205 211 225 216 185 197 206 198 213 240 195 227 245 239 223 218 212 209 222 220 221 230  67]\n",
      " [ 48 203 183 194 213 197 185 190 194 192 202 214 219 221 220 236 225 216 199 206 186 181 177 172 181 205 206 115]\n",
      " [  0 122 219 193 179 171 183 196 204 210 213 207 211 210 200 196 194 191 195 191 198 192 176 156 167 177 210  92]\n",
      " [  0   0  74 189 212 191 175 172 175 181 185 188 189 188 193 198 204 209 210 210 211 188 188 194 192 216 170   0]\n",
      " [  2   0   0   0  66 200 222 237 239 242 246 243 244 221 220 193 191 179 182 182 181 176 166 168  99  58   0   0]\n",
      " [  0   0   0   0   0   0   0  40  61  44  72  41  35   0   0   0   0   0   0   0   0   0   0   0   0   0   0   0]\n",
      " [  0   0   0   0   0   0   0   0   0   0   0   0   0   0   0   0   0   0   0   0   0   0   0   0   0   0   0   0]\n",
      " [  0   0   0   0   0   0   0   0   0   0   0   0   0   0   0   0   0   0   0   0   0   0   0   0   0   0   0   0]]\n"
     ]
    },
    {
     "data": {
      "text/plain": [
       "<matplotlib.image.AxesImage at 0x28f8dfb61b0>"
      ]
     },
     "execution_count": 14,
     "metadata": {},
     "output_type": "execute_result"
    },
    {
     "data": {
      "image/png": "[encoded data removed]",
      "text/plain": [
       "<Figure size 640x480 with 1 Axes>"
      ]
     },
     "metadata": {},
     "output_type": "display_data"
    }
   ],
   "source": [
    "import numpy as np \n",
    "import matplotlib.pyplot as plt \n",
    "\n",
    "# Set number Of characters per row when printing \n",
    "np.set_printoptions(linewidth=320) \n",
    "\n",
    "#Print the label and image with index 0 (first training image)\n",
    "print(f'LABEL: {training_labels[0]}') \n",
    "print(f'\\n IMAGE PIXEY ARRAY:{training_images[0]}')\n",
    "\n",
    "# Visualize this first training image \n",
    "plt.imshow(training_images[0]) "
   ]
  },
  {
   "cell_type": "markdown",
   "id": "7d7a234d-2136-4a44-bc37-975255d7b7ef",
   "metadata": {},
   "source": [
    "It can be seen that the image with label 9 is ankle boot."
   ]
  },
  {
   "cell_type": "markdown",
   "id": "07afe36c",
   "metadata": {},
   "source": [
    "## Data Normalization\n",
    "\n",
    "Before feeding the image data into the neural network, it’s essential to **normalize** the pixel values.  \n",
    "Each image in the Fashion MNIST dataset contains pixel intensity values ranging from **0 to 255**.  \n",
    "By dividing these values by 255, we scale them into a range between **0 and 1**, which helps the model train more efficiently."
   ]
  },
  {
   "cell_type": "code",
   "execution_count": 15,
   "id": "b342be99-dccb-4af3-b8a6-a02f330b4e1c",
   "metadata": {},
   "outputs": [],
   "source": [
    "#Normal the pixel value of train and test images\n",
    "\n",
    "training_images = training_images/255\n",
    "test_images = test_images/255"
   ]
  },
  {
   "cell_type": "code",
   "execution_count": 16,
   "id": "8c7193a5-98a0-47db-b289-788347d6fea4",
   "metadata": {},
   "outputs": [
    {
     "data": {
      "text/plain": [
       "array([[0.        , 0.        , 0.        , 0.        , 0.        , 0.        , 0.        , 0.        , 0.        , 0.        , 0.        , 0.        , 0.        , 0.        , 0.        , 0.        , 0.        , 0.        , 0.        , 0.        , 0.        , 0.        , 0.        , 0.        , 0.        ,\n",
       "        0.        , 0.        , 0.        ],\n",
       "       [0.        , 0.        , 0.        , 0.        , 0.        , 0.        , 0.        , 0.        , 0.        , 0.        , 0.        , 0.        , 0.        , 0.        , 0.        , 0.        , 0.        , 0.        , 0.        , 0.        , 0.        , 0.        , 0.        , 0.        , 0.        ,\n",
       "        0.        , 0.        , 0.        ],\n",
       "       [0.        , 0.        , 0.        , 0.        , 0.        , 0.        , 0.        , 0.        , 0.        , 0.        , 0.        , 0.        , 0.        , 0.        , 0.        , 0.        , 0.        , 0.        , 0.        , 0.        , 0.        , 0.        , 0.        , 0.        , 0.        ,\n",
       "        0.        , 0.        , 0.        ],\n",
       "       [0.        , 0.        , 0.        , 0.        , 0.        , 0.        , 0.        , 0.        , 0.        , 0.        , 0.        , 0.        , 0.00392157, 0.        , 0.        , 0.05098039, 0.28627451, 0.        , 0.        , 0.00392157, 0.01568627, 0.        , 0.        , 0.        , 0.        ,\n",
       "        0.00392157, 0.00392157, 0.        ],\n",
       "       [0.        , 0.        , 0.        , 0.        , 0.        , 0.        , 0.        , 0.        , 0.        , 0.        , 0.        , 0.        , 0.01176471, 0.        , 0.14117647, 0.53333333, 0.49803922, 0.24313725, 0.21176471, 0.        , 0.        , 0.        , 0.00392157, 0.01176471, 0.01568627,\n",
       "        0.        , 0.        , 0.01176471],\n",
       "       [0.        , 0.        , 0.        , 0.        , 0.        , 0.        , 0.        , 0.        , 0.        , 0.        , 0.        , 0.        , 0.02352941, 0.        , 0.4       , 0.8       , 0.69019608, 0.5254902 , 0.56470588, 0.48235294, 0.09019608, 0.        , 0.        , 0.        , 0.        ,\n",
       "        0.04705882, 0.03921569, 0.        ],\n",
       "       [0.        , 0.        , 0.        , 0.        , 0.        , 0.        , 0.        , 0.        , 0.        , 0.        , 0.        , 0.        , 0.        , 0.        , 0.60784314, 0.9254902 , 0.81176471, 0.69803922, 0.41960784, 0.61176471, 0.63137255, 0.42745098, 0.25098039, 0.09019608, 0.30196078,\n",
       "        0.50980392, 0.28235294, 0.05882353],\n",
       "       [0.        , 0.        , 0.        , 0.        , 0.        , 0.        , 0.        , 0.        , 0.        , 0.        , 0.        , 0.00392157, 0.        , 0.27058824, 0.81176471, 0.8745098 , 0.85490196, 0.84705882, 0.84705882, 0.63921569, 0.49803922, 0.4745098 , 0.47843137, 0.57254902, 0.55294118,\n",
       "        0.34509804, 0.6745098 , 0.25882353],\n",
       "       [0.        , 0.        , 0.        , 0.        , 0.        , 0.        , 0.        , 0.        , 0.        , 0.00392157, 0.00392157, 0.00392157, 0.        , 0.78431373, 0.90980392, 0.90980392, 0.91372549, 0.89803922, 0.8745098 , 0.8745098 , 0.84313725, 0.83529412, 0.64313725, 0.49803922, 0.48235294,\n",
       "        0.76862745, 0.89803922, 0.        ],\n",
       "       [0.        , 0.        , 0.        , 0.        , 0.        , 0.        , 0.        , 0.        , 0.        , 0.        , 0.        , 0.        , 0.        , 0.71764706, 0.88235294, 0.84705882, 0.8745098 , 0.89411765, 0.92156863, 0.89019608, 0.87843137, 0.87058824, 0.87843137, 0.86666667, 0.8745098 ,\n",
       "        0.96078431, 0.67843137, 0.        ],\n",
       "       [0.        , 0.        , 0.        , 0.        , 0.        , 0.        , 0.        , 0.        , 0.        , 0.        , 0.        , 0.        , 0.        , 0.75686275, 0.89411765, 0.85490196, 0.83529412, 0.77647059, 0.70588235, 0.83137255, 0.82352941, 0.82745098, 0.83529412, 0.8745098 , 0.8627451 ,\n",
       "        0.95294118, 0.79215686, 0.        ],\n",
       "       [0.        , 0.        , 0.        , 0.        , 0.        , 0.        , 0.        , 0.        , 0.        , 0.00392157, 0.01176471, 0.        , 0.04705882, 0.85882353, 0.8627451 , 0.83137255, 0.85490196, 0.75294118, 0.6627451 , 0.89019608, 0.81568627, 0.85490196, 0.87843137, 0.83137255, 0.88627451,\n",
       "        0.77254902, 0.81960784, 0.20392157],\n",
       "       [0.        , 0.        , 0.        , 0.        , 0.        , 0.        , 0.        , 0.        , 0.        , 0.        , 0.02352941, 0.        , 0.38823529, 0.95686275, 0.87058824, 0.8627451 , 0.85490196, 0.79607843, 0.77647059, 0.86666667, 0.84313725, 0.83529412, 0.87058824, 0.8627451 , 0.96078431,\n",
       "        0.46666667, 0.65490196, 0.21960784],\n",
       "       [0.        , 0.        , 0.        , 0.        , 0.        , 0.        , 0.        , 0.        , 0.        , 0.01568627, 0.        , 0.        , 0.21568627, 0.9254902 , 0.89411765, 0.90196078, 0.89411765, 0.94117647, 0.90980392, 0.83529412, 0.85490196, 0.8745098 , 0.91764706, 0.85098039, 0.85098039,\n",
       "        0.81960784, 0.36078431, 0.        ],\n",
       "       [0.        , 0.        , 0.00392157, 0.01568627, 0.02352941, 0.02745098, 0.00784314, 0.        , 0.        , 0.        , 0.        , 0.        , 0.92941176, 0.88627451, 0.85098039, 0.8745098 , 0.87058824, 0.85882353, 0.87058824, 0.86666667, 0.84705882, 0.8745098 , 0.89803922, 0.84313725, 0.85490196,\n",
       "        1.        , 0.30196078, 0.        ],\n",
       "       [0.        , 0.01176471, 0.        , 0.        , 0.        , 0.        , 0.        , 0.        , 0.        , 0.24313725, 0.56862745, 0.8       , 0.89411765, 0.81176471, 0.83529412, 0.86666667, 0.85490196, 0.81568627, 0.82745098, 0.85490196, 0.87843137, 0.8745098 , 0.85882353, 0.84313725, 0.87843137,\n",
       "        0.95686275, 0.62352941, 0.        ],\n",
       "       [0.        , 0.        , 0.        , 0.        , 0.07058824, 0.17254902, 0.32156863, 0.41960784, 0.74117647, 0.89411765, 0.8627451 , 0.87058824, 0.85098039, 0.88627451, 0.78431373, 0.80392157, 0.82745098, 0.90196078, 0.87843137, 0.91764706, 0.69019608, 0.7372549 , 0.98039216, 0.97254902, 0.91372549,\n",
       "        0.93333333, 0.84313725, 0.        ],\n",
       "       [0.        , 0.22352941, 0.73333333, 0.81568627, 0.87843137, 0.86666667, 0.87843137, 0.81568627, 0.8       , 0.83921569, 0.81568627, 0.81960784, 0.78431373, 0.62352941, 0.96078431, 0.75686275, 0.80784314, 0.8745098 , 1.        , 1.        , 0.86666667, 0.91764706, 0.86666667, 0.82745098, 0.8627451 ,\n",
       "        0.90980392, 0.96470588, 0.        ],\n",
       "       [0.01176471, 0.79215686, 0.89411765, 0.87843137, 0.86666667, 0.82745098, 0.82745098, 0.83921569, 0.80392157, 0.80392157, 0.80392157, 0.8627451 , 0.94117647, 0.31372549, 0.58823529, 1.        , 0.89803922, 0.86666667, 0.7372549 , 0.60392157, 0.74901961, 0.82352941, 0.8       , 0.81960784, 0.87058824,\n",
       "        0.89411765, 0.88235294, 0.        ],\n",
       "       [0.38431373, 0.91372549, 0.77647059, 0.82352941, 0.87058824, 0.89803922, 0.89803922, 0.91764706, 0.97647059, 0.8627451 , 0.76078431, 0.84313725, 0.85098039, 0.94509804, 0.25490196, 0.28627451, 0.41568627, 0.45882353, 0.65882353, 0.85882353, 0.86666667, 0.84313725, 0.85098039, 0.8745098 , 0.8745098 ,\n",
       "        0.87843137, 0.89803922, 0.11372549],\n",
       "       [0.29411765, 0.8       , 0.83137255, 0.8       , 0.75686275, 0.80392157, 0.82745098, 0.88235294, 0.84705882, 0.7254902 , 0.77254902, 0.80784314, 0.77647059, 0.83529412, 0.94117647, 0.76470588, 0.89019608, 0.96078431, 0.9372549 , 0.8745098 , 0.85490196, 0.83137255, 0.81960784, 0.87058824, 0.8627451 ,\n",
       "        0.86666667, 0.90196078, 0.2627451 ],\n",
       "       [0.18823529, 0.79607843, 0.71764706, 0.76078431, 0.83529412, 0.77254902, 0.7254902 , 0.74509804, 0.76078431, 0.75294118, 0.79215686, 0.83921569, 0.85882353, 0.86666667, 0.8627451 , 0.9254902 , 0.88235294, 0.84705882, 0.78039216, 0.80784314, 0.72941176, 0.70980392, 0.69411765, 0.6745098 , 0.70980392,\n",
       "        0.80392157, 0.80784314, 0.45098039],\n",
       "       [0.        , 0.47843137, 0.85882353, 0.75686275, 0.70196078, 0.67058824, 0.71764706, 0.76862745, 0.8       , 0.82352941, 0.83529412, 0.81176471, 0.82745098, 0.82352941, 0.78431373, 0.76862745, 0.76078431, 0.74901961, 0.76470588, 0.74901961, 0.77647059, 0.75294118, 0.69019608, 0.61176471, 0.65490196,\n",
       "        0.69411765, 0.82352941, 0.36078431],\n",
       "       [0.        , 0.        , 0.29019608, 0.74117647, 0.83137255, 0.74901961, 0.68627451, 0.6745098 , 0.68627451, 0.70980392, 0.7254902 , 0.7372549 , 0.74117647, 0.7372549 , 0.75686275, 0.77647059, 0.8       , 0.81960784, 0.82352941, 0.82352941, 0.82745098, 0.7372549 , 0.7372549 , 0.76078431, 0.75294118,\n",
       "        0.84705882, 0.66666667, 0.        ],\n",
       "       [0.00784314, 0.        , 0.        , 0.        , 0.25882353, 0.78431373, 0.87058824, 0.92941176, 0.9372549 , 0.94901961, 0.96470588, 0.95294118, 0.95686275, 0.86666667, 0.8627451 , 0.75686275, 0.74901961, 0.70196078, 0.71372549, 0.71372549, 0.70980392, 0.69019608, 0.65098039, 0.65882353, 0.38823529,\n",
       "        0.22745098, 0.        , 0.        ],\n",
       "       [0.        , 0.        , 0.        , 0.        , 0.        , 0.        , 0.        , 0.15686275, 0.23921569, 0.17254902, 0.28235294, 0.16078431, 0.1372549 , 0.        , 0.        , 0.        , 0.        , 0.        , 0.        , 0.        , 0.        , 0.        , 0.        , 0.        , 0.        ,\n",
       "        0.        , 0.        , 0.        ],\n",
       "       [0.        , 0.        , 0.        , 0.        , 0.        , 0.        , 0.        , 0.        , 0.        , 0.        , 0.        , 0.        , 0.        , 0.        , 0.        , 0.        , 0.        , 0.        , 0.        , 0.        , 0.        , 0.        , 0.        , 0.        , 0.        ,\n",
       "        0.        , 0.        , 0.        ],\n",
       "       [0.        , 0.        , 0.        , 0.        , 0.        , 0.        , 0.        , 0.        , 0.        , 0.        , 0.        , 0.        , 0.        , 0.        , 0.        , 0.        , 0.        , 0.        , 0.        , 0.        , 0.        , 0.        , 0.        , 0.        , 0.        ,\n",
       "        0.        , 0.        , 0.        ]])"
      ]
     },
     "execution_count": 16,
     "metadata": {},
     "output_type": "execute_result"
    }
   ],
   "source": [
    "#check the normalized data\n",
    "training_images[0]"
   ]
  },
  {
   "cell_type": "markdown",
   "id": "6b640265",
   "metadata": {},
   "source": [
    "## Build the Neural Network Model\n",
    "\n",
    "Now that the data is ready, we can build a **neural network** for image classification using TensorFlow’s **Keras Sequential API**.  \n",
    "A Sequential model allows layers to be stacked one after another to form a deep learning pipeline.\n",
    "\n",
    "Flatten() Layer  \n",
    "Converts each 28×28 pixel image (2D array) into a 1D array of 784 pixels.  \n",
    "This prepares the data for the fully connected (Dense) layers.\n",
    "\n",
    "Dense(128, activation='relu') Layer  \n",
    "A fully connected layer with 128 neurons.  \n",
    "Uses the ReLU (Rectified Linear Unit) activation function to introduce non-linearity, enabling the model to learn complex patterns.\n",
    "\n",
    "Dense(10, activation='softmax') Layer  \n",
    "The output layer with 10 neurons, one for each clothing category.  \n",
    "Uses Softmax activation to output probability values for each class, ensuring all probabilities sum to 1."
   ]
  },
  {
   "cell_type": "code",
   "execution_count": 17,
   "id": "9321fe93-d96f-4c8a-9322-fd48163f64c5",
   "metadata": {},
   "outputs": [],
   "source": [
    "#build the classification model (neural network)\n",
    "model = tf.keras.models.Sequential([tf.keras.layers.Flatten(),\n",
    "                                   tf.keras.layers.Dense(128,activation=tf.nn.relu),\n",
    "                                   tf.keras.layers.Dense(10,activation=tf.nn.softmax)]\n",
    "                                  )"
   ]
  },
  {
   "cell_type": "markdown",
   "id": "00668d78",
   "metadata": {},
   "source": [
    "## Compile and Train the Model\n",
    "\n",
    "After building the neural network, the next step is to **compile** and **train** it. Compilation configures how the model learns from the data.\n",
    "\n",
    "compile()  \n",
    "Optimizer: Adam - an efficient optimization algorithm that adjusts weights during training to minimize the loss.  \n",
    "Loss function: sparse_categorical_crossentropy - used for multi-class classification when labels are integers (0–9).  \n",
    "Metrics: accuracy - tracks the proportion of correctly predicted labels during training.  \n",
    "\n",
    "fit()  \n",
    "Trains the model on the training images and labels.  \n",
    "epochs=5 means the model will iterate 5 times over the training dataset.  \n",
    "During training, the model updates its weights to minimize the loss and improve accuracy.  \n",
    "\n",
    "After this step, the neural network learns patterns in the clothing images and can start making predictions."
   ]
  },
  {
   "cell_type": "code",
   "execution_count": 18,
   "id": "51229f22-9d82-4cc9-b41f-1aba36c77e0e",
   "metadata": {},
   "outputs": [
    {
     "name": "stdout",
     "output_type": "stream",
     "text": [
      "Epoch 1/5\n",
      "\u001b[1m1875/1875\u001b[0m \u001b[32m━━━━━━━━━━━━━━━━━━━━\u001b[0m\u001b[37m\u001b[0m \u001b[1m15s\u001b[0m 4ms/step - accuracy: 0.8241 - loss: 0.5024\n",
      "Epoch 2/5\n",
      "\u001b[1m1875/1875\u001b[0m \u001b[32m━━━━━━━━━━━━━━━━━━━━\u001b[0m\u001b[37m\u001b[0m \u001b[1m7s\u001b[0m 4ms/step - accuracy: 0.8637 - loss: 0.3754\n",
      "Epoch 3/5\n",
      "\u001b[1m1875/1875\u001b[0m \u001b[32m━━━━━━━━━━━━━━━━━━━━\u001b[0m\u001b[37m\u001b[0m \u001b[1m8s\u001b[0m 4ms/step - accuracy: 0.8754 - loss: 0.3358\n",
      "Epoch 4/5\n",
      "\u001b[1m1875/1875\u001b[0m \u001b[32m━━━━━━━━━━━━━━━━━━━━\u001b[0m\u001b[37m\u001b[0m \u001b[1m8s\u001b[0m 4ms/step - accuracy: 0.8854 - loss: 0.3128\n",
      "Epoch 5/5\n",
      "\u001b[1m1875/1875\u001b[0m \u001b[32m━━━━━━━━━━━━━━━━━━━━\u001b[0m\u001b[37m\u001b[0m \u001b[1m8s\u001b[0m 4ms/step - accuracy: 0.8907 - loss: 0.2956\n"
     ]
    },
    {
     "data": {
      "text/plain": [
       "<keras.src.callbacks.history.History at 0x28faaedb380>"
      ]
     },
     "execution_count": 18,
     "metadata": {},
     "output_type": "execute_result"
    }
   ],
   "source": [
    "model.compile(optimizer = tf.optimizers.Adam(),\n",
    "              loss = 'sparse_categorical_crossentropy',\n",
    "              metrics = ['accuracy'])\n",
    "model.fit(training_images,training_labels, epochs=5)"
   ]
  },
  {
   "cell_type": "markdown",
   "id": "96d66e22",
   "metadata": {},
   "source": [
    "After training for 5 times (epochs), the model with the accuracy 0.89 and loss 0.29 is obtained."
   ]
  },
  {
   "cell_type": "markdown",
   "id": "96952668",
   "metadata": {},
   "source": [
    "## Evaluate the Model on Test Data\n",
    "\n",
    "After training, we need to check how well the model performs on **unseen data**.  \n",
    "This step measures the model’s ability to **generalize** beyond the training dataset.\n"
   ]
  },
  {
   "cell_type": "code",
   "execution_count": 19,
   "id": "dc20a675-585d-4fe1-859d-bac2eec1a10a",
   "metadata": {},
   "outputs": [
    {
     "name": "stdout",
     "output_type": "stream",
     "text": [
      "\u001b[1m313/313\u001b[0m \u001b[32m━━━━━━━━━━━━━━━━━━━━\u001b[0m\u001b[37m\u001b[0m \u001b[1m2s\u001b[0m 2ms/step - accuracy: 0.8726 - loss: 0.3591\n"
     ]
    },
    {
     "data": {
      "text/plain": [
       "[0.3590989112854004, 0.8726000189781189]"
      ]
     },
     "execution_count": 19,
     "metadata": {},
     "output_type": "execute_result"
    }
   ],
   "source": [
    "model.evaluate(test_images,test_labels)"
   ]
  },
  {
   "cell_type": "markdown",
   "id": "dad0479e",
   "metadata": {},
   "source": [
    "## Make Predictions on Test Images\n",
    "\n",
    "Once the model is trained, we can use it to **predict the labels** of new images from the test dataset."
   ]
  },
  {
   "cell_type": "code",
   "execution_count": 23,
   "id": "0917d68f",
   "metadata": {},
   "outputs": [
    {
     "name": "stdout",
     "output_type": "stream",
     "text": [
      "\u001b[1m313/313\u001b[0m \u001b[32m━━━━━━━━━━━━━━━━━━━━\u001b[0m\u001b[37m\u001b[0m \u001b[1m1s\u001b[0m 2ms/step\n",
      "[3.4521839e-01 1.8541022e-06 4.4982754e-02 8.2548213e-04 8.1366254e-03 3.1364357e-06 6.0026795e-01 5.8336880e-08 5.6340522e-04 2.4767377e-07]\n",
      "6\n"
     ]
    }
   ],
   "source": [
    "#predict the label of test images using the trained model\n",
    "classification = model.predict(test_images)\n",
    "\n",
    "\n",
    "#check the classification result of fifth image in test dataset\n",
    "print(classification[4]) \n",
    "print(np.argmax(classification[4])) "
   ]
  },
  {
   "cell_type": "markdown",
   "id": "81483a53",
   "metadata": {},
   "source": [
    "## Understanding the Prediction Output\n",
    "\n",
    "After predicting the label for a test image, the model outputs a **probability distribution** over all 10 classes.\n",
    "\n",
    "Example output for the fifth test image:\n",
    "[3.4521839e-01 1.8541022e-06 4.4982754e-02 8.2548213e-04 8.1366254e-03 3.1364357e-06 6.0026795e-01 5.8336880e-08 5.6340522e-04 2.4767377e-07]\n",
    "\n",
    "### Explanation\n",
    "- Each number represents the **model’s confidence** that the image belongs to a particular class (0–9).  \n",
    "- Values are probabilities between 0 and 1, and the sum of all probabilities is **1**.  \n",
    "- For this example:\n",
    "  - The highest probability is **0.9883** at **index 6**, meaning the model predicts the image as **class 6 (Shirt)**.  \n",
    "  - `np.argmax(classification[4])` returns **6**, which seems consistent with the probabilities. \n",
    "\n",
    "### Key Takeaways\n",
    "- The model gives **confidence scores** for all classes.  \n",
    "- The **predicted label** is the class with the **highest probability**.  \n",
    "- Even if probabilities are low for other classes, the **largest probability** determines the predicted category.\n"
   ]
  },
  {
   "cell_type": "code",
   "execution_count": 25,
   "id": "58151cf2",
   "metadata": {},
   "outputs": [
    {
     "name": "stdout",
     "output_type": "stream",
     "text": [
      "6\n"
     ]
    }
   ],
   "source": [
    "#check the true label of fifth image in test dataset\n",
    "print(test_labels[4])"
   ]
  },
  {
   "cell_type": "markdown",
   "id": "a5ee1503",
   "metadata": {},
   "source": [
    "It returns 6, meaning the result of the trained model is correct. "
   ]
  },
  {
   "cell_type": "markdown",
   "id": "d3099b44",
   "metadata": {},
   "source": [
    "## Early Stopping with a Custom Callback\n",
    "\n",
    "To make training more efficient, we can use a **custom callback** to stop training once the model reaches a desired accuracy. This prevents unnecessary epochs once the model has already learned the patterns in the data.\n",
    "\n",
    "## Explanation of the Custom Callback\n",
    "\n",
    "- **`tf.keras.callbacks.Callback`**: A base class that allows custom actions to be executed at different stages of training.  \n",
    "\n",
    "- **`on_epoch_end()`**: This method is called automatically at the end of each epoch during training.  \n",
    "\n",
    "- **Early Stopping Condition**: If the **training accuracy exceeds 90%**, the callback stops the training early. This saves **time** and **computational resources**.  \n",
    "\n",
    "- **Additional Notes**:  \n",
    "  - The image data is normalized again to scale pixel values between 0 and 1.  \n",
    "  - The model architecture remains the same as before.  \n",
    "  - Training is set to run for up to 15 epochs, but will **stop early** once the accuracy threshold is reached.  \n",
    "\n",
    "**Benefit**: This technique ensures **efficient training** without overfitting or unnecessary computation.\n",
    "\n"
   ]
  },
  {
   "cell_type": "code",
   "execution_count": 22,
   "id": "5f7a4628",
   "metadata": {},
   "outputs": [
    {
     "name": "stdout",
     "output_type": "stream",
     "text": [
      "Epoch 1/15\n",
      "\u001b[1m1875/1875\u001b[0m \u001b[32m━━━━━━━━━━━━━━━━━━━━\u001b[0m\u001b[37m\u001b[0m \u001b[1m11s\u001b[0m 5ms/step - accuracy: 0.8243 - loss: 0.5005\n",
      "Epoch 2/15\n",
      "\u001b[1m1875/1875\u001b[0m \u001b[32m━━━━━━━━━━━━━━━━━━━━\u001b[0m\u001b[37m\u001b[0m \u001b[1m8s\u001b[0m 4ms/step - accuracy: 0.8648 - loss: 0.3723\n",
      "Epoch 3/15\n",
      "\u001b[1m1875/1875\u001b[0m \u001b[32m━━━━━━━━━━━━━━━━━━━━\u001b[0m\u001b[37m\u001b[0m \u001b[1m10s\u001b[0m 4ms/step - accuracy: 0.8771 - loss: 0.3359\n",
      "Epoch 4/15\n",
      "\u001b[1m1875/1875\u001b[0m \u001b[32m━━━━━━━━━━━━━━━━━━━━\u001b[0m\u001b[37m\u001b[0m \u001b[1m11s\u001b[0m 4ms/step - accuracy: 0.8850 - loss: 0.3120\n",
      "Epoch 5/15\n",
      "\u001b[1m1875/1875\u001b[0m \u001b[32m━━━━━━━━━━━━━━━━━━━━\u001b[0m\u001b[37m\u001b[0m \u001b[1m8s\u001b[0m 4ms/step - accuracy: 0.8908 - loss: 0.2933\n",
      "Epoch 6/15\n",
      "\u001b[1m1875/1875\u001b[0m \u001b[32m━━━━━━━━━━━━━━━━━━━━\u001b[0m\u001b[37m\u001b[0m \u001b[1m8s\u001b[0m 4ms/step - accuracy: 0.8968 - loss: 0.2789\n",
      "Epoch 7/15\n",
      "\u001b[1m1874/1875\u001b[0m \u001b[32m━━━━━━━━━━━━━━━━━━━\u001b[0m\u001b[37m━\u001b[0m \u001b[1m0s\u001b[0m 4ms/step - accuracy: 0.8997 - loss: 0.2666\n",
      "Reached 90% accuracy so cancelling training!\n",
      "\u001b[1m1875/1875\u001b[0m \u001b[32m━━━━━━━━━━━━━━━━━━━━\u001b[0m\u001b[37m\u001b[0m \u001b[1m8s\u001b[0m 4ms/step - accuracy: 0.9015 - loss: 0.2654\n"
     ]
    },
    {
     "data": {
      "text/plain": [
       "<keras.src.callbacks.history.History at 0x28faaed95e0>"
      ]
     },
     "execution_count": 22,
     "metadata": {},
     "output_type": "execute_result"
    }
   ],
   "source": [
    "class myCallBack(tf.keras.callbacks.Callback):\n",
    "    def on_epoch_end(self, epoch, logs={}):\n",
    "        if(logs.get('accuracy')>0.9):\n",
    "            print(\"\\nReached 90% accuracy so cancelling training!\")\n",
    "            self.model.stop_training = True\n",
    "\n",
    "callabacks = myCallBack()\n",
    "fmnist = tf.keras.datasets.fashion_mnist\n",
    "(training_images, training_labels),(test_images, test_labels) = fmnist.load_data()\n",
    "training_images = training_images/255.0\n",
    "test_images = test_images/255.0\n",
    "model = tf.keras.models.Sequential([tf.keras.layers.Flatten(),\n",
    "                                   tf.keras.layers.Dense(128,activation=tf.nn.relu),\n",
    "                                   tf.keras.layers.Dense(10,activation=tf.nn.softmax)]\n",
    "                                  )\n",
    "model.compile(optimizer = tf.optimizers.Adam(),\n",
    "              loss = 'sparse_categorical_crossentropy',\n",
    "              metrics = ['accuracy'])   \n",
    "model.fit(training_images,training_labels, epochs=15, callbacks=[callabacks])"
   ]
  },
  {
   "cell_type": "markdown",
   "id": "36d1f241",
   "metadata": {},
   "source": [
    "- The model improved steadily with each epoch, as indicated by **increasing accuracy** and **decreasing loss**.  \n",
    "- The **custom callback** successfully stopped training once the desired **90% accuracy** threshold was reached, preventing unnecessary computation.  \n",
    "- Final accuracy > 90% shows the model is performing **well on the training data**, indicating effective learning."
   ]
  }
 ],
 "metadata": {
  "kernelspec": {
   "display_name": "Python 3",
   "language": "python",
   "name": "python3"
  },
  "language_info": {
   "codemirror_mode": {
    "name": "ipython",
    "version": 3
   },
   "file_extension": ".py",
   "mimetype": "text/x-python",
   "name": "python",
   "nbconvert_exporter": "python",
   "pygments_lexer": "ipython3",
   "version": "3.12.4"
  }
 },
 "nbformat": 4,
 "nbformat_minor": 5
}
